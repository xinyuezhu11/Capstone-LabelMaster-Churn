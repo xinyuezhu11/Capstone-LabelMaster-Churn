{
 "cells": [
  {
   "cell_type": "markdown",
   "metadata": {
    "id": "EH4YuCBzarBa"
   },
   "source": [
    "## 1. Load Data"
   ]
  },
  {
   "cell_type": "code",
   "execution_count": 1,
   "metadata": {
    "colab": {
     "base_uri": "https://localhost:8080/"
    },
    "id": "4RqQi1N3bCCq",
    "outputId": "07a1acc6-bddf-444a-cb5c-ec9404683b6b"
   },
   "outputs": [
    {
     "name": "stdout",
     "output_type": "stream",
     "text": [
      "Mounted at /content/gdrive\n",
      "/content/gdrive/My Drive/capstone/data\n",
      "/content/gdrive/My Drive/capstone/data\n",
      "Working Directory\n",
      "/content/gdrive/My Drive/capstone/data\n"
     ]
    }
   ],
   "source": [
    "#Establish working directory\n",
    "#os.getcwd()\n",
    "#Mount Google Drive to Colab Enviorment\n",
    "import os\n",
    "from google.colab import drive\n",
    "drive.mount('/content/gdrive')\n",
    "%cd /content/gdrive/My Drive/capstone/data/\n",
    "!pwd\n",
    "#!ls\n",
    "print('Working Directory')\n",
    "print(os.getcwd())\n",
    "work_dir = \"/content/gdrive/My Drive/capstone/data/\""
   ]
  },
  {
   "cell_type": "code",
   "execution_count": 4,
   "metadata": {
    "id": "ULjj8G9nafwr"
   },
   "outputs": [],
   "source": [
    "import pandas as pd\n",
    "import numpy as np\n",
    "from lifelines.utils import datetimes_to_durations\n",
    "from lifelines import KaplanMeierFitter\n",
    "from scipy.stats import iqr\n",
    "from math import sqrt"
   ]
  },
  {
   "cell_type": "code",
   "execution_count": 5,
   "metadata": {
    "id": "l0ZLijg_a2rg"
   },
   "outputs": [],
   "source": [
    "# Read Data\n",
    "sale1 = pd.read_excel(work_dir+\"/Sales Data.xlsx\")\n",
    "sale2 = pd.read_excel(work_dir+\"/Sales Data 2.xlsx\")\n",
    "sales = pd.concat([sale1, sale2])"
   ]
  },
  {
   "cell_type": "code",
   "execution_count": null,
   "metadata": {
    "id": "ipsdg_T0-McG"
   },
   "outputs": [],
   "source": [
    "# ## AccountNumber(in account) = CustomerNo(in sales)\n",
    "# ## FamilyCode_FNT__c (in account) = Family_Name__c (in industry)\n",
    "# family = pd.read_excel(work_dir+'/Family Data.xlsx')\n",
    "# account = pd.read_excel(work_dir+'/Account Data.xlsx')"
   ]
  },
  {
   "cell_type": "markdown",
   "metadata": {
    "id": "T1SJXTVfbdmX"
   },
   "source": [
    "### 1.1 Sales Data"
   ]
  },
  {
   "cell_type": "code",
   "execution_count": 6,
   "metadata": {
    "id": "6wkEvJlcblvy"
   },
   "outputs": [],
   "source": [
    "sales.isnull().sum()\n",
    "# Fill NAs\n",
    "sales[['Item']] = sales[['Item']].fillna('Unknown')\n",
    "# Negative value in Quantity Ordered and Line Item Amount represents return, so remove those\n",
    "sales = sales[sales['Quantity Ordered'] > 0]"
   ]
  },
  {
   "cell_type": "code",
   "execution_count": 7,
   "metadata": {
    "colab": {
     "base_uri": "https://localhost:8080/"
    },
    "id": "WX2PiH18bgfA",
    "outputId": "8f25ad8e-b3c0-4be7-e843-67bec2fdd88c"
   },
   "outputs": [
    {
     "data": {
      "text/plain": [
       "(1475087, 13)"
      ]
     },
     "execution_count": 7,
     "metadata": {},
     "output_type": "execute_result"
    }
   ],
   "source": [
    "sales.shape"
   ]
  },
  {
   "cell_type": "code",
   "execution_count": 8,
   "metadata": {
    "colab": {
     "base_uri": "https://localhost:8080/",
     "height": 387
    },
    "id": "4J9xKcYbba7i",
    "outputId": "9670c976-03d8-456d-fe3c-51f7c19929c3"
   },
   "outputs": [
    {
     "data": {
      "text/html": [
       "\n",
       "  <div id=\"df-b61a8272-1d4a-4bd5-9a52-0287c07e4b2e\">\n",
       "    <div class=\"colab-df-container\">\n",
       "      <div>\n",
       "<style scoped>\n",
       "    .dataframe tbody tr th:only-of-type {\n",
       "        vertical-align: middle;\n",
       "    }\n",
       "\n",
       "    .dataframe tbody tr th {\n",
       "        vertical-align: top;\n",
       "    }\n",
       "\n",
       "    .dataframe thead th {\n",
       "        text-align: right;\n",
       "    }\n",
       "</style>\n",
       "<table border=\"1\" class=\"dataframe\">\n",
       "  <thead>\n",
       "    <tr style=\"text-align: right;\">\n",
       "      <th></th>\n",
       "      <th>Customer No</th>\n",
       "      <th>Item</th>\n",
       "      <th>Quantity Ordered</th>\n",
       "      <th>Line Item Amount</th>\n",
       "      <th>Posting Date</th>\n",
       "      <th>Ship-to State</th>\n",
       "      <th>Ship-to ZipCode</th>\n",
       "      <th>Department Dim</th>\n",
       "      <th>Department Dim Description</th>\n",
       "      <th>Product Group Code</th>\n",
       "      <th>Product Group Description</th>\n",
       "      <th>Order Method</th>\n",
       "      <th>Location Code</th>\n",
       "    </tr>\n",
       "  </thead>\n",
       "  <tbody>\n",
       "    <tr>\n",
       "      <th>2</th>\n",
       "      <td>0000919</td>\n",
       "      <td>DGISBNESS</td>\n",
       "      <td>1</td>\n",
       "      <td>799.0</td>\n",
       "      <td>2018-04-01</td>\n",
       "      <td>PA</td>\n",
       "      <td>15238</td>\n",
       "      <td>507</td>\n",
       "      <td>Software</td>\n",
       "      <td>NaN</td>\n",
       "      <td>NaN</td>\n",
       "      <td>LMS-RENEW</td>\n",
       "      <td>10</td>\n",
       "    </tr>\n",
       "    <tr>\n",
       "      <th>3</th>\n",
       "      <td>0000919</td>\n",
       "      <td>DGIS49CFR</td>\n",
       "      <td>1</td>\n",
       "      <td>0.0</td>\n",
       "      <td>2018-04-01</td>\n",
       "      <td>PA</td>\n",
       "      <td>15238</td>\n",
       "      <td>507</td>\n",
       "      <td>Software</td>\n",
       "      <td>NaN</td>\n",
       "      <td>NaN</td>\n",
       "      <td>LMS-RENEW</td>\n",
       "      <td>10</td>\n",
       "    </tr>\n",
       "    <tr>\n",
       "      <th>4</th>\n",
       "      <td>0000919</td>\n",
       "      <td>DGISINTLAIR</td>\n",
       "      <td>1</td>\n",
       "      <td>0.0</td>\n",
       "      <td>2018-04-01</td>\n",
       "      <td>PA</td>\n",
       "      <td>15238</td>\n",
       "      <td>507</td>\n",
       "      <td>Software</td>\n",
       "      <td>NaN</td>\n",
       "      <td>NaN</td>\n",
       "      <td>LMS-RENEW</td>\n",
       "      <td>10</td>\n",
       "    </tr>\n",
       "    <tr>\n",
       "      <th>5</th>\n",
       "      <td>0000919</td>\n",
       "      <td>DGISMARITIME</td>\n",
       "      <td>1</td>\n",
       "      <td>0.0</td>\n",
       "      <td>2018-04-01</td>\n",
       "      <td>PA</td>\n",
       "      <td>15238</td>\n",
       "      <td>507</td>\n",
       "      <td>Software</td>\n",
       "      <td>NaN</td>\n",
       "      <td>NaN</td>\n",
       "      <td>LMS-RENEW</td>\n",
       "      <td>10</td>\n",
       "    </tr>\n",
       "    <tr>\n",
       "      <th>7</th>\n",
       "      <td>0000919</td>\n",
       "      <td>DGISBNESS</td>\n",
       "      <td>1</td>\n",
       "      <td>799.0</td>\n",
       "      <td>2018-04-01</td>\n",
       "      <td>PA</td>\n",
       "      <td>15238</td>\n",
       "      <td>507</td>\n",
       "      <td>Software</td>\n",
       "      <td>NaN</td>\n",
       "      <td>NaN</td>\n",
       "      <td>LMS-RENEW</td>\n",
       "      <td>10</td>\n",
       "    </tr>\n",
       "  </tbody>\n",
       "</table>\n",
       "</div>\n",
       "      <button class=\"colab-df-convert\" onclick=\"convertToInteractive('df-b61a8272-1d4a-4bd5-9a52-0287c07e4b2e')\"\n",
       "              title=\"Convert this dataframe to an interactive table.\"\n",
       "              style=\"display:none;\">\n",
       "        \n",
       "  <svg xmlns=\"http://www.w3.org/2000/svg\" height=\"24px\"viewBox=\"0 0 24 24\"\n",
       "       width=\"24px\">\n",
       "    <path d=\"M0 0h24v24H0V0z\" fill=\"none\"/>\n",
       "    <path d=\"M18.56 5.44l.94 2.06.94-2.06 2.06-.94-2.06-.94-.94-2.06-.94 2.06-2.06.94zm-11 1L8.5 8.5l.94-2.06 2.06-.94-2.06-.94L8.5 2.5l-.94 2.06-2.06.94zm10 10l.94 2.06.94-2.06 2.06-.94-2.06-.94-.94-2.06-.94 2.06-2.06.94z\"/><path d=\"M17.41 7.96l-1.37-1.37c-.4-.4-.92-.59-1.43-.59-.52 0-1.04.2-1.43.59L10.3 9.45l-7.72 7.72c-.78.78-.78 2.05 0 2.83L4 21.41c.39.39.9.59 1.41.59.51 0 1.02-.2 1.41-.59l7.78-7.78 2.81-2.81c.8-.78.8-2.07 0-2.86zM5.41 20L4 18.59l7.72-7.72 1.47 1.35L5.41 20z\"/>\n",
       "  </svg>\n",
       "      </button>\n",
       "      \n",
       "  <style>\n",
       "    .colab-df-container {\n",
       "      display:flex;\n",
       "      flex-wrap:wrap;\n",
       "      gap: 12px;\n",
       "    }\n",
       "\n",
       "    .colab-df-convert {\n",
       "      background-color: #E8F0FE;\n",
       "      border: none;\n",
       "      border-radius: 50%;\n",
       "      cursor: pointer;\n",
       "      display: none;\n",
       "      fill: #1967D2;\n",
       "      height: 32px;\n",
       "      padding: 0 0 0 0;\n",
       "      width: 32px;\n",
       "    }\n",
       "\n",
       "    .colab-df-convert:hover {\n",
       "      background-color: #E2EBFA;\n",
       "      box-shadow: 0px 1px 2px rgba(60, 64, 67, 0.3), 0px 1px 3px 1px rgba(60, 64, 67, 0.15);\n",
       "      fill: #174EA6;\n",
       "    }\n",
       "\n",
       "    [theme=dark] .colab-df-convert {\n",
       "      background-color: #3B4455;\n",
       "      fill: #D2E3FC;\n",
       "    }\n",
       "\n",
       "    [theme=dark] .colab-df-convert:hover {\n",
       "      background-color: #434B5C;\n",
       "      box-shadow: 0px 1px 3px 1px rgba(0, 0, 0, 0.15);\n",
       "      filter: drop-shadow(0px 1px 2px rgba(0, 0, 0, 0.3));\n",
       "      fill: #FFFFFF;\n",
       "    }\n",
       "  </style>\n",
       "\n",
       "      <script>\n",
       "        const buttonEl =\n",
       "          document.querySelector('#df-b61a8272-1d4a-4bd5-9a52-0287c07e4b2e button.colab-df-convert');\n",
       "        buttonEl.style.display =\n",
       "          google.colab.kernel.accessAllowed ? 'block' : 'none';\n",
       "\n",
       "        async function convertToInteractive(key) {\n",
       "          const element = document.querySelector('#df-b61a8272-1d4a-4bd5-9a52-0287c07e4b2e');\n",
       "          const dataTable =\n",
       "            await google.colab.kernel.invokeFunction('convertToInteractive',\n",
       "                                                     [key], {});\n",
       "          if (!dataTable) return;\n",
       "\n",
       "          const docLinkHtml = 'Like what you see? Visit the ' +\n",
       "            '<a target=\"_blank\" href=https://colab.research.google.com/notebooks/data_table.ipynb>data table notebook</a>'\n",
       "            + ' to learn more about interactive tables.';\n",
       "          element.innerHTML = '';\n",
       "          dataTable['output_type'] = 'display_data';\n",
       "          await google.colab.output.renderOutput(dataTable, element);\n",
       "          const docLink = document.createElement('div');\n",
       "          docLink.innerHTML = docLinkHtml;\n",
       "          element.appendChild(docLink);\n",
       "        }\n",
       "      </script>\n",
       "    </div>\n",
       "  </div>\n",
       "  "
      ],
      "text/plain": [
       "  Customer No          Item  Quantity Ordered  Line Item Amount Posting Date  \\\n",
       "2     0000919     DGISBNESS                 1             799.0   2018-04-01   \n",
       "3     0000919     DGIS49CFR                 1               0.0   2018-04-01   \n",
       "4     0000919   DGISINTLAIR                 1               0.0   2018-04-01   \n",
       "5     0000919  DGISMARITIME                 1               0.0   2018-04-01   \n",
       "7     0000919     DGISBNESS                 1             799.0   2018-04-01   \n",
       "\n",
       "  Ship-to State Ship-to ZipCode  Department Dim Department Dim Description  \\\n",
       "2            PA           15238             507                   Software   \n",
       "3            PA           15238             507                   Software   \n",
       "4            PA           15238             507                   Software   \n",
       "5            PA           15238             507                   Software   \n",
       "7            PA           15238             507                   Software   \n",
       "\n",
       "  Product Group Code Product Group Description Order Method Location Code  \n",
       "2                NaN                       NaN    LMS-RENEW            10  \n",
       "3                NaN                       NaN    LMS-RENEW            10  \n",
       "4                NaN                       NaN    LMS-RENEW            10  \n",
       "5                NaN                       NaN    LMS-RENEW            10  \n",
       "7                NaN                       NaN    LMS-RENEW            10  "
      ]
     },
     "execution_count": 8,
     "metadata": {},
     "output_type": "execute_result"
    }
   ],
   "source": [
    "sales.head()"
   ]
  },
  {
   "cell_type": "code",
   "execution_count": 9,
   "metadata": {
    "colab": {
     "base_uri": "https://localhost:8080/"
    },
    "id": "SOf_sp2EFFER",
    "outputId": "f14079f6-9bc4-421c-e09d-f2c8a584fcae"
   },
   "outputs": [
    {
     "data": {
      "text/plain": [
       "Customer No                        0\n",
       "Item                               0\n",
       "Quantity Ordered                   0\n",
       "Line Item Amount                   0\n",
       "Posting Date                       0\n",
       "Ship-to State                   3179\n",
       "Ship-to ZipCode                  623\n",
       "Department Dim                     0\n",
       "Department Dim Description         0\n",
       "Product Group Code            455325\n",
       "Product Group Description     455394\n",
       "Order Method                   13240\n",
       "Location Code                   6042\n",
       "dtype: int64"
      ]
     },
     "execution_count": 9,
     "metadata": {},
     "output_type": "execute_result"
    }
   ],
   "source": [
    "sales.isnull().sum()"
   ]
  },
  {
   "cell_type": "markdown",
   "metadata": {
    "id": "q_XQgdjZ-5O1"
   },
   "source": [
    "### 1.2 Family Data"
   ]
  },
  {
   "cell_type": "code",
   "execution_count": null,
   "metadata": {
    "id": "1GrrLsB6dYj4"
   },
   "outputs": [],
   "source": [
    "# family.shape"
   ]
  },
  {
   "cell_type": "code",
   "execution_count": null,
   "metadata": {
    "id": "VgPAVpridZ_c"
   },
   "outputs": [],
   "source": [
    "# family.head()"
   ]
  },
  {
   "cell_type": "code",
   "execution_count": null,
   "metadata": {
    "id": "K5TEf74UdjJE"
   },
   "outputs": [],
   "source": [
    "# # Check missing values of family code in family data\n",
    "# family.isnull().sum()"
   ]
  },
  {
   "cell_type": "markdown",
   "metadata": {
    "id": "a9Ywd8Cr_Gfw"
   },
   "source": [
    "### 1.3 Account Data"
   ]
  },
  {
   "cell_type": "code",
   "execution_count": null,
   "metadata": {
    "id": "i3TA5yU3dhRN"
   },
   "outputs": [],
   "source": [
    "# # Check missing values of FamilyCode & AccountNumber in account data\n",
    "# account.isnull().sum()\n",
    "# account = account.dropna(subset = ['AccountNumber', 'FamilyCode_FNT__c'])\n",
    "# ## convert float to int\n",
    "# account['FamilyCode_FNT__c'] = account['FamilyCode_FNT__c'].astype(int)"
   ]
  },
  {
   "cell_type": "code",
   "execution_count": null,
   "metadata": {
    "id": "y22XbApHdblK"
   },
   "outputs": [],
   "source": [
    "# account.shape"
   ]
  },
  {
   "cell_type": "code",
   "execution_count": null,
   "metadata": {
    "id": "uNmLOSAfdeD2"
   },
   "outputs": [],
   "source": [
    "# account.head()"
   ]
  },
  {
   "cell_type": "markdown",
   "metadata": {
    "id": "XMCxqkB7_jnX"
   },
   "source": [
    "### 1.4 Combine Account & Family Data"
   ]
  },
  {
   "cell_type": "code",
   "execution_count": null,
   "metadata": {
    "id": "SzJakDaPdkn_"
   },
   "outputs": [],
   "source": [
    "# # Merge account data and family data by FamilyCode_FNT__c (in account) = Family_Name__c (in family)\n",
    "# ## changing column name 'FamilyCode_FNT__c' to 'Family_Name__c' & 'AccountNumber' to 'CustomerNo'\n",
    "# accountdf = account.rename(columns={'FamilyCode_FNT__c': 'Family_Name__c', 'AccountNumber':'Customer No'})\n",
    "# account_family = pd.merge(accountdf, family, on = 'Family_Name__c', how = 'outer', indicator = True)\n",
    "# print('there are {} famliy code in BOTH dataframe'.format(account_family._merge.value_counts()[0]))\n",
    "# print('there are {} famliy code ONLY in famliy dataset'.format(account_family._merge.value_counts()[1]))\n",
    "# print('there are {} famliy code ONLY in account dataset'.format(account_family._merge.value_counts()[2]))"
   ]
  },
  {
   "cell_type": "code",
   "execution_count": null,
   "metadata": {
    "id": "XQf6nfsBdmcl"
   },
   "outputs": [],
   "source": [
    "# industry = account_family[account_family['_merge'] == 'both']\n",
    "# industry.shape"
   ]
  },
  {
   "cell_type": "code",
   "execution_count": null,
   "metadata": {
    "id": "NBgVT2Dxdn_q"
   },
   "outputs": [],
   "source": [
    "# industry.head()"
   ]
  },
  {
   "cell_type": "markdown",
   "metadata": {
    "id": "PMaRnUyQ_taU"
   },
   "source": [
    "### 1.5 Merge Account_Family & Sales Data"
   ]
  },
  {
   "cell_type": "code",
   "execution_count": null,
   "metadata": {
    "id": "Fuc4zGkzdpXq"
   },
   "outputs": [],
   "source": [
    "# # Merge industry data and sales data by AccountNumber(industry) = CustomerNo(in sales)\n",
    "# industry_sales = pd.merge(sales, industry[['Customer No', 'Family_Name__c', 'Family_Industry_Description_New__c']], on = 'Customer No', how = 'inner')\n",
    "# industry_sales.shape"
   ]
  },
  {
   "cell_type": "code",
   "execution_count": null,
   "metadata": {
    "id": "knFgrDwodrrt"
   },
   "outputs": [],
   "source": [
    "# industry_sales.head()"
   ]
  },
  {
   "cell_type": "code",
   "execution_count": null,
   "metadata": {
    "id": "luZGfOLfFFEY"
   },
   "outputs": [],
   "source": [
    "# industry_sales.isnull().sum()"
   ]
  },
  {
   "cell_type": "markdown",
   "metadata": {
    "id": "fiWEnte9BUKD"
   },
   "source": [
    "### 1.6 Get useful columns, calculate days from 1st purchased to nth purchased, and days from purchased to a certain date"
   ]
  },
  {
   "cell_type": "code",
   "execution_count": null,
   "metadata": {
    "id": "HrS1tthbAgax"
   },
   "outputs": [],
   "source": [
    "# myData = industry_sales[['Customer No', 'Quantity Ordered', 'Line Item Amount', \n",
    "#                          'Posting Date', 'Department Dim', 'Department Dim Description',\n",
    "#                          'Family_Name__c', 'Family_Industry_Description_New__c']]\n",
    "# myData.shape"
   ]
  },
  {
   "cell_type": "code",
   "execution_count": 10,
   "metadata": {
    "colab": {
     "base_uri": "https://localhost:8080/"
    },
    "id": "7IoULAxuFFEZ",
    "outputId": "a31cba8c-a2f8-41aa-f936-f11669c49085"
   },
   "outputs": [
    {
     "data": {
      "text/plain": [
       "(1475087, 6)"
      ]
     },
     "execution_count": 10,
     "metadata": {},
     "output_type": "execute_result"
    }
   ],
   "source": [
    "myData = sales[['Customer No', 'Quantity Ordered', 'Line Item Amount',\n",
    "                'Posting Date', 'Department Dim Description', 'Product Group Description']]\n",
    "myData.shape"
   ]
  },
  {
   "cell_type": "code",
   "execution_count": 11,
   "metadata": {
    "id": "04oAtJ4MBzLI"
   },
   "outputs": [],
   "source": [
    "# Find first purchase date for each customer\n",
    "firstPurchased = myData.groupby('Customer No')['Posting Date'].min().reset_index()\n",
    "firstPurchased.columns = ['Customer No', 'First Purchase Date']\n",
    "myData = pd.merge(myData, firstPurchased, on='Customer No')\n",
    "myData['Days from 1st Purchase'], myData['Have not Purchased since 1st Purchase'] = datetimes_to_durations(myData['First Purchase Date'], myData['Posting Date'])\n",
    "# # Find days of each purchase date to Today\n",
    "# import datetime\n",
    "# today = datetime.datetime(2022, 5, 1)\n",
    "# myData['Days from Purchased to Now'] = today - myData['Posting Date']\n",
    "# myData['Days from Purchased to Now'] = (myData['Days from Purchased to Now'] / np.timedelta64(1,'D')).astype(float)\n",
    "# myData = myData.drop(columns=['Have not Purchased since 1st Purchase'])\n",
    "# myData.shape\n",
    "myData = myData.drop(columns = 'Have not Purchased since 1st Purchase')"
   ]
  },
  {
   "cell_type": "code",
   "execution_count": 12,
   "metadata": {
    "colab": {
     "base_uri": "https://localhost:8080/",
     "height": 265
    },
    "id": "kPF5jVUjC2XT",
    "outputId": "cbb1bf1f-b0a8-4863-c500-6200debae593"
   },
   "outputs": [
    {
     "data": {
      "text/html": [
       "\n",
       "  <div id=\"df-8b7694da-d158-4a36-ac54-9f1090ecfb83\">\n",
       "    <div class=\"colab-df-container\">\n",
       "      <div>\n",
       "<style scoped>\n",
       "    .dataframe tbody tr th:only-of-type {\n",
       "        vertical-align: middle;\n",
       "    }\n",
       "\n",
       "    .dataframe tbody tr th {\n",
       "        vertical-align: top;\n",
       "    }\n",
       "\n",
       "    .dataframe thead th {\n",
       "        text-align: right;\n",
       "    }\n",
       "</style>\n",
       "<table border=\"1\" class=\"dataframe\">\n",
       "  <thead>\n",
       "    <tr style=\"text-align: right;\">\n",
       "      <th></th>\n",
       "      <th>Customer No</th>\n",
       "      <th>Quantity Ordered</th>\n",
       "      <th>Line Item Amount</th>\n",
       "      <th>Posting Date</th>\n",
       "      <th>Department Dim Description</th>\n",
       "      <th>Product Group Description</th>\n",
       "      <th>First Purchase Date</th>\n",
       "      <th>Days from 1st Purchase</th>\n",
       "    </tr>\n",
       "  </thead>\n",
       "  <tbody>\n",
       "    <tr>\n",
       "      <th>0</th>\n",
       "      <td>0000919</td>\n",
       "      <td>1</td>\n",
       "      <td>799.0</td>\n",
       "      <td>2018-04-01</td>\n",
       "      <td>Software</td>\n",
       "      <td>NaN</td>\n",
       "      <td>2016-01-11</td>\n",
       "      <td>811.0</td>\n",
       "    </tr>\n",
       "    <tr>\n",
       "      <th>1</th>\n",
       "      <td>0000919</td>\n",
       "      <td>1</td>\n",
       "      <td>0.0</td>\n",
       "      <td>2018-04-01</td>\n",
       "      <td>Software</td>\n",
       "      <td>NaN</td>\n",
       "      <td>2016-01-11</td>\n",
       "      <td>811.0</td>\n",
       "    </tr>\n",
       "    <tr>\n",
       "      <th>2</th>\n",
       "      <td>0000919</td>\n",
       "      <td>1</td>\n",
       "      <td>0.0</td>\n",
       "      <td>2018-04-01</td>\n",
       "      <td>Software</td>\n",
       "      <td>NaN</td>\n",
       "      <td>2016-01-11</td>\n",
       "      <td>811.0</td>\n",
       "    </tr>\n",
       "    <tr>\n",
       "      <th>3</th>\n",
       "      <td>0000919</td>\n",
       "      <td>1</td>\n",
       "      <td>0.0</td>\n",
       "      <td>2018-04-01</td>\n",
       "      <td>Software</td>\n",
       "      <td>NaN</td>\n",
       "      <td>2016-01-11</td>\n",
       "      <td>811.0</td>\n",
       "    </tr>\n",
       "    <tr>\n",
       "      <th>4</th>\n",
       "      <td>0000919</td>\n",
       "      <td>1</td>\n",
       "      <td>799.0</td>\n",
       "      <td>2018-04-01</td>\n",
       "      <td>Software</td>\n",
       "      <td>NaN</td>\n",
       "      <td>2016-01-11</td>\n",
       "      <td>811.0</td>\n",
       "    </tr>\n",
       "  </tbody>\n",
       "</table>\n",
       "</div>\n",
       "      <button class=\"colab-df-convert\" onclick=\"convertToInteractive('df-8b7694da-d158-4a36-ac54-9f1090ecfb83')\"\n",
       "              title=\"Convert this dataframe to an interactive table.\"\n",
       "              style=\"display:none;\">\n",
       "        \n",
       "  <svg xmlns=\"http://www.w3.org/2000/svg\" height=\"24px\"viewBox=\"0 0 24 24\"\n",
       "       width=\"24px\">\n",
       "    <path d=\"M0 0h24v24H0V0z\" fill=\"none\"/>\n",
       "    <path d=\"M18.56 5.44l.94 2.06.94-2.06 2.06-.94-2.06-.94-.94-2.06-.94 2.06-2.06.94zm-11 1L8.5 8.5l.94-2.06 2.06-.94-2.06-.94L8.5 2.5l-.94 2.06-2.06.94zm10 10l.94 2.06.94-2.06 2.06-.94-2.06-.94-.94-2.06-.94 2.06-2.06.94z\"/><path d=\"M17.41 7.96l-1.37-1.37c-.4-.4-.92-.59-1.43-.59-.52 0-1.04.2-1.43.59L10.3 9.45l-7.72 7.72c-.78.78-.78 2.05 0 2.83L4 21.41c.39.39.9.59 1.41.59.51 0 1.02-.2 1.41-.59l7.78-7.78 2.81-2.81c.8-.78.8-2.07 0-2.86zM5.41 20L4 18.59l7.72-7.72 1.47 1.35L5.41 20z\"/>\n",
       "  </svg>\n",
       "      </button>\n",
       "      \n",
       "  <style>\n",
       "    .colab-df-container {\n",
       "      display:flex;\n",
       "      flex-wrap:wrap;\n",
       "      gap: 12px;\n",
       "    }\n",
       "\n",
       "    .colab-df-convert {\n",
       "      background-color: #E8F0FE;\n",
       "      border: none;\n",
       "      border-radius: 50%;\n",
       "      cursor: pointer;\n",
       "      display: none;\n",
       "      fill: #1967D2;\n",
       "      height: 32px;\n",
       "      padding: 0 0 0 0;\n",
       "      width: 32px;\n",
       "    }\n",
       "\n",
       "    .colab-df-convert:hover {\n",
       "      background-color: #E2EBFA;\n",
       "      box-shadow: 0px 1px 2px rgba(60, 64, 67, 0.3), 0px 1px 3px 1px rgba(60, 64, 67, 0.15);\n",
       "      fill: #174EA6;\n",
       "    }\n",
       "\n",
       "    [theme=dark] .colab-df-convert {\n",
       "      background-color: #3B4455;\n",
       "      fill: #D2E3FC;\n",
       "    }\n",
       "\n",
       "    [theme=dark] .colab-df-convert:hover {\n",
       "      background-color: #434B5C;\n",
       "      box-shadow: 0px 1px 3px 1px rgba(0, 0, 0, 0.15);\n",
       "      filter: drop-shadow(0px 1px 2px rgba(0, 0, 0, 0.3));\n",
       "      fill: #FFFFFF;\n",
       "    }\n",
       "  </style>\n",
       "\n",
       "      <script>\n",
       "        const buttonEl =\n",
       "          document.querySelector('#df-8b7694da-d158-4a36-ac54-9f1090ecfb83 button.colab-df-convert');\n",
       "        buttonEl.style.display =\n",
       "          google.colab.kernel.accessAllowed ? 'block' : 'none';\n",
       "\n",
       "        async function convertToInteractive(key) {\n",
       "          const element = document.querySelector('#df-8b7694da-d158-4a36-ac54-9f1090ecfb83');\n",
       "          const dataTable =\n",
       "            await google.colab.kernel.invokeFunction('convertToInteractive',\n",
       "                                                     [key], {});\n",
       "          if (!dataTable) return;\n",
       "\n",
       "          const docLinkHtml = 'Like what you see? Visit the ' +\n",
       "            '<a target=\"_blank\" href=https://colab.research.google.com/notebooks/data_table.ipynb>data table notebook</a>'\n",
       "            + ' to learn more about interactive tables.';\n",
       "          element.innerHTML = '';\n",
       "          dataTable['output_type'] = 'display_data';\n",
       "          await google.colab.output.renderOutput(dataTable, element);\n",
       "          const docLink = document.createElement('div');\n",
       "          docLink.innerHTML = docLinkHtml;\n",
       "          element.appendChild(docLink);\n",
       "        }\n",
       "      </script>\n",
       "    </div>\n",
       "  </div>\n",
       "  "
      ],
      "text/plain": [
       "  Customer No  Quantity Ordered  Line Item Amount Posting Date  \\\n",
       "0     0000919                 1             799.0   2018-04-01   \n",
       "1     0000919                 1               0.0   2018-04-01   \n",
       "2     0000919                 1               0.0   2018-04-01   \n",
       "3     0000919                 1               0.0   2018-04-01   \n",
       "4     0000919                 1             799.0   2018-04-01   \n",
       "\n",
       "  Department Dim Description Product Group Description First Purchase Date  \\\n",
       "0                   Software                       NaN          2016-01-11   \n",
       "1                   Software                       NaN          2016-01-11   \n",
       "2                   Software                       NaN          2016-01-11   \n",
       "3                   Software                       NaN          2016-01-11   \n",
       "4                   Software                       NaN          2016-01-11   \n",
       "\n",
       "   Days from 1st Purchase  \n",
       "0                   811.0  \n",
       "1                   811.0  \n",
       "2                   811.0  \n",
       "3                   811.0  \n",
       "4                   811.0  "
      ]
     },
     "execution_count": 12,
     "metadata": {},
     "output_type": "execute_result"
    }
   ],
   "source": [
    "myData.head()"
   ]
  },
  {
   "cell_type": "code",
   "execution_count": 13,
   "metadata": {
    "colab": {
     "base_uri": "https://localhost:8080/"
    },
    "id": "uxXiKq0qASnE",
    "outputId": "ed0025d2-01dc-4c04-a36a-27e27f2cc05c"
   },
   "outputs": [
    {
     "data": {
      "text/plain": [
       "0409806    49869\n",
       "3013961    34615\n",
       "1623167    31348\n",
       "1458331    27744\n",
       "3002523    26177\n",
       "           ...  \n",
       "7040729        1\n",
       "7014503        1\n",
       "3028186        1\n",
       "7040763        1\n",
       "3036538        1\n",
       "Name: Customer No, Length: 95540, dtype: int64"
      ]
     },
     "execution_count": 13,
     "metadata": {},
     "output_type": "execute_result"
    }
   ],
   "source": [
    "myData['Customer No'].value_counts()"
   ]
  },
  {
   "cell_type": "markdown",
   "metadata": {
    "id": "bDJeW8Vu-z1x"
   },
   "source": [
    "There are 95,540 identical customers in total"
   ]
  },
  {
   "cell_type": "markdown",
   "metadata": {
    "id": "EBsZ8476bq-S"
   },
   "source": [
    "## 2. Group by Department"
   ]
  },
  {
   "cell_type": "code",
   "execution_count": 14,
   "metadata": {
    "colab": {
     "base_uri": "https://localhost:8080/"
    },
    "id": "2tONPq4GbvNW",
    "outputId": "b9553171-b6d3-42c0-b6a8-4687e74fe086"
   },
   "outputs": [
    {
     "data": {
      "text/plain": [
       "array(['Software', 'Packaging', 'Labels', 'Contra Dimension', 'Books',\n",
       "       'Placards', 'Personal Compliance', 'Spacemaster',\n",
       "       'Imprinted Placards', 'Facility Management', 'Amazon Labels',\n",
       "       'None', 'Amazon Packaging', 'Marketing', 'Manufacturing',\n",
       "       'Raw Material Paper', 'Recall Ready', 'Amerex Extinguishers',\n",
       "       'Open', 'Packaging  and Warehouse', 'General Office',\n",
       "       'LSI- Consulting', 'LSI- E-Learning', 'Fed-Ex US Development'],\n",
       "      dtype=object)"
      ]
     },
     "execution_count": 14,
     "metadata": {},
     "output_type": "execute_result"
    }
   ],
   "source": [
    "# Seperate into different Department\n",
    "departmentName = myData['Department Dim Description'].unique()\n",
    "departmentName"
   ]
  },
  {
   "cell_type": "code",
   "execution_count": 15,
   "metadata": {
    "colab": {
     "base_uri": "https://localhost:8080/"
    },
    "id": "mAXlSK26bwzx",
    "outputId": "012c4968-00dd-42ff-e66d-8615b387ffac"
   },
   "outputs": [
    {
     "data": {
      "text/plain": [
       "Contra Dimension            425016\n",
       "Labels                      333471\n",
       "Placards                    257418\n",
       "Books                        93409\n",
       "Spacemaster                  81837\n",
       "Packaging                    81344\n",
       "Facility Management          62802\n",
       "Personal Compliance          46106\n",
       "Imprinted Placards           33351\n",
       "Software                     31815\n",
       "Amazon Labels                13007\n",
       "Amazon Packaging              8297\n",
       "LSI- Consulting               4577\n",
       "Recall Ready                  1170\n",
       "Marketing                      959\n",
       "None                           422\n",
       "Amerex Extinguishers            31\n",
       "Fed-Ex US Development           23\n",
       "LSI- E-Learning                 14\n",
       "Packaging  and Warehouse         6\n",
       "General Office                   5\n",
       "Open                             4\n",
       "Raw Material Paper               2\n",
       "Manufacturing                    1\n",
       "Name: Department Dim Description, dtype: int64"
      ]
     },
     "execution_count": 15,
     "metadata": {},
     "output_type": "execute_result"
    }
   ],
   "source": [
    "myData['Department Dim Description'].value_counts()"
   ]
  },
  {
   "cell_type": "markdown",
   "metadata": {
    "id": "GjU35zDJb0zC"
   },
   "source": [
    "### 2.1 Example - look into Label Department"
   ]
  },
  {
   "cell_type": "code",
   "execution_count": 16,
   "metadata": {
    "colab": {
     "base_uri": "https://localhost:8080/"
    },
    "id": "-H7ppUDCb1YC",
    "outputId": "5cb82917-eb9e-4f03-cab6-490929c9298b"
   },
   "outputs": [
    {
     "data": {
      "text/plain": [
       "0409806    22218\n",
       "3041322    15412\n",
       "1458331    10512\n",
       "0267242     6433\n",
       "3013961     6164\n",
       "           ...  \n",
       "3068618        1\n",
       "7051959        1\n",
       "7048058        1\n",
       "7051940        1\n",
       "3035860        1\n",
       "Name: Customer No, Length: 44765, dtype: int64"
      ]
     },
     "execution_count": 16,
     "metadata": {},
     "output_type": "execute_result"
    }
   ],
   "source": [
    "# Look at Labels only\n",
    "Labels = myData[myData['Department Dim Description'] == 'Labels'].reset_index(drop=True)\n",
    "Labels['Customer No'].value_counts()"
   ]
  },
  {
   "cell_type": "code",
   "execution_count": null,
   "metadata": {
    "id": "SRo6ozLtcFF-"
   },
   "outputs": [],
   "source": [
    "# # Visualize customers’ journey from first purchase to later purchases\n",
    "# kmf = KaplanMeierFitter(label=\"customers\")\n",
    "# kmf.fit(myLabels['Days from 1st Purchase'], myLabels['Have not Purchased since 1st Purchase'])\n",
    "# kmf.plot(figsize=(8,8), loc = slice(0., 365*2))"
   ]
  },
  {
   "cell_type": "code",
   "execution_count": 17,
   "metadata": {
    "colab": {
     "base_uri": "https://localhost:8080/",
     "height": 480
    },
    "id": "C2Az8HroEzRv",
    "outputId": "e138b69c-2074-4ff5-896a-51cbd30b1f51"
   },
   "outputs": [
    {
     "data": {
      "text/html": [
       "\n",
       "  <div id=\"df-8ea053e3-570f-4654-ab17-a0631c1fb936\">\n",
       "    <div class=\"colab-df-container\">\n",
       "      <div>\n",
       "<style scoped>\n",
       "    .dataframe tbody tr th:only-of-type {\n",
       "        vertical-align: middle;\n",
       "    }\n",
       "\n",
       "    .dataframe tbody tr th {\n",
       "        vertical-align: top;\n",
       "    }\n",
       "\n",
       "    .dataframe thead th {\n",
       "        text-align: right;\n",
       "    }\n",
       "</style>\n",
       "<table border=\"1\" class=\"dataframe\">\n",
       "  <thead>\n",
       "    <tr style=\"text-align: right;\">\n",
       "      <th></th>\n",
       "      <th>Customer No</th>\n",
       "      <th>Quantity Ordered</th>\n",
       "      <th>Line Item Amount</th>\n",
       "      <th>Posting Date</th>\n",
       "      <th>Department Dim Description</th>\n",
       "      <th>Product Group Description</th>\n",
       "      <th>First Purchase Date</th>\n",
       "      <th>Days from 1st Purchase</th>\n",
       "    </tr>\n",
       "  </thead>\n",
       "  <tbody>\n",
       "    <tr>\n",
       "      <th>0</th>\n",
       "      <td>0000919</td>\n",
       "      <td>10</td>\n",
       "      <td>197.30</td>\n",
       "      <td>2018-04-03</td>\n",
       "      <td>Labels</td>\n",
       "      <td>Forms</td>\n",
       "      <td>2016-01-11</td>\n",
       "      <td>813.0</td>\n",
       "    </tr>\n",
       "    <tr>\n",
       "      <th>1</th>\n",
       "      <td>0000919</td>\n",
       "      <td>5</td>\n",
       "      <td>104.25</td>\n",
       "      <td>2018-04-03</td>\n",
       "      <td>Labels</td>\n",
       "      <td>Forms</td>\n",
       "      <td>2016-01-11</td>\n",
       "      <td>813.0</td>\n",
       "    </tr>\n",
       "    <tr>\n",
       "      <th>2</th>\n",
       "      <td>0000919</td>\n",
       "      <td>10</td>\n",
       "      <td>616.00</td>\n",
       "      <td>2018-06-01</td>\n",
       "      <td>Labels</td>\n",
       "      <td>DOT Labels</td>\n",
       "      <td>2016-01-11</td>\n",
       "      <td>872.0</td>\n",
       "    </tr>\n",
       "    <tr>\n",
       "      <th>3</th>\n",
       "      <td>0000919</td>\n",
       "      <td>6</td>\n",
       "      <td>114.00</td>\n",
       "      <td>2016-01-12</td>\n",
       "      <td>Labels</td>\n",
       "      <td>DOT Labels</td>\n",
       "      <td>2016-01-11</td>\n",
       "      <td>1.0</td>\n",
       "    </tr>\n",
       "    <tr>\n",
       "      <th>4</th>\n",
       "      <td>0000919</td>\n",
       "      <td>24</td>\n",
       "      <td>312.00</td>\n",
       "      <td>2016-01-12</td>\n",
       "      <td>Labels</td>\n",
       "      <td>Air Labels</td>\n",
       "      <td>2016-01-11</td>\n",
       "      <td>1.0</td>\n",
       "    </tr>\n",
       "    <tr>\n",
       "      <th>...</th>\n",
       "      <td>...</td>\n",
       "      <td>...</td>\n",
       "      <td>...</td>\n",
       "      <td>...</td>\n",
       "      <td>...</td>\n",
       "      <td>...</td>\n",
       "      <td>...</td>\n",
       "      <td>...</td>\n",
       "    </tr>\n",
       "    <tr>\n",
       "      <th>333466</th>\n",
       "      <td>7037043</td>\n",
       "      <td>5</td>\n",
       "      <td>227.85</td>\n",
       "      <td>2021-01-14</td>\n",
       "      <td>Labels</td>\n",
       "      <td>Forms</td>\n",
       "      <td>2021-01-14</td>\n",
       "      <td>0.0</td>\n",
       "    </tr>\n",
       "    <tr>\n",
       "      <th>333467</th>\n",
       "      <td>7037050</td>\n",
       "      <td>1</td>\n",
       "      <td>62.20</td>\n",
       "      <td>2021-01-14</td>\n",
       "      <td>Labels</td>\n",
       "      <td>Air Labels</td>\n",
       "      <td>2021-01-14</td>\n",
       "      <td>0.0</td>\n",
       "    </tr>\n",
       "    <tr>\n",
       "      <th>333468</th>\n",
       "      <td>7037056</td>\n",
       "      <td>1</td>\n",
       "      <td>52.99</td>\n",
       "      <td>2021-01-14</td>\n",
       "      <td>Labels</td>\n",
       "      <td>Forms</td>\n",
       "      <td>2021-01-14</td>\n",
       "      <td>0.0</td>\n",
       "    </tr>\n",
       "    <tr>\n",
       "      <th>333469</th>\n",
       "      <td>7037057</td>\n",
       "      <td>1</td>\n",
       "      <td>41.15</td>\n",
       "      <td>2021-01-14</td>\n",
       "      <td>Labels</td>\n",
       "      <td>DOT Labels</td>\n",
       "      <td>2021-01-14</td>\n",
       "      <td>0.0</td>\n",
       "    </tr>\n",
       "    <tr>\n",
       "      <th>333470</th>\n",
       "      <td>7037057</td>\n",
       "      <td>1</td>\n",
       "      <td>41.15</td>\n",
       "      <td>2021-01-14</td>\n",
       "      <td>Labels</td>\n",
       "      <td>DOT Labels</td>\n",
       "      <td>2021-01-14</td>\n",
       "      <td>0.0</td>\n",
       "    </tr>\n",
       "  </tbody>\n",
       "</table>\n",
       "<p>333471 rows × 8 columns</p>\n",
       "</div>\n",
       "      <button class=\"colab-df-convert\" onclick=\"convertToInteractive('df-8ea053e3-570f-4654-ab17-a0631c1fb936')\"\n",
       "              title=\"Convert this dataframe to an interactive table.\"\n",
       "              style=\"display:none;\">\n",
       "        \n",
       "  <svg xmlns=\"http://www.w3.org/2000/svg\" height=\"24px\"viewBox=\"0 0 24 24\"\n",
       "       width=\"24px\">\n",
       "    <path d=\"M0 0h24v24H0V0z\" fill=\"none\"/>\n",
       "    <path d=\"M18.56 5.44l.94 2.06.94-2.06 2.06-.94-2.06-.94-.94-2.06-.94 2.06-2.06.94zm-11 1L8.5 8.5l.94-2.06 2.06-.94-2.06-.94L8.5 2.5l-.94 2.06-2.06.94zm10 10l.94 2.06.94-2.06 2.06-.94-2.06-.94-.94-2.06-.94 2.06-2.06.94z\"/><path d=\"M17.41 7.96l-1.37-1.37c-.4-.4-.92-.59-1.43-.59-.52 0-1.04.2-1.43.59L10.3 9.45l-7.72 7.72c-.78.78-.78 2.05 0 2.83L4 21.41c.39.39.9.59 1.41.59.51 0 1.02-.2 1.41-.59l7.78-7.78 2.81-2.81c.8-.78.8-2.07 0-2.86zM5.41 20L4 18.59l7.72-7.72 1.47 1.35L5.41 20z\"/>\n",
       "  </svg>\n",
       "      </button>\n",
       "      \n",
       "  <style>\n",
       "    .colab-df-container {\n",
       "      display:flex;\n",
       "      flex-wrap:wrap;\n",
       "      gap: 12px;\n",
       "    }\n",
       "\n",
       "    .colab-df-convert {\n",
       "      background-color: #E8F0FE;\n",
       "      border: none;\n",
       "      border-radius: 50%;\n",
       "      cursor: pointer;\n",
       "      display: none;\n",
       "      fill: #1967D2;\n",
       "      height: 32px;\n",
       "      padding: 0 0 0 0;\n",
       "      width: 32px;\n",
       "    }\n",
       "\n",
       "    .colab-df-convert:hover {\n",
       "      background-color: #E2EBFA;\n",
       "      box-shadow: 0px 1px 2px rgba(60, 64, 67, 0.3), 0px 1px 3px 1px rgba(60, 64, 67, 0.15);\n",
       "      fill: #174EA6;\n",
       "    }\n",
       "\n",
       "    [theme=dark] .colab-df-convert {\n",
       "      background-color: #3B4455;\n",
       "      fill: #D2E3FC;\n",
       "    }\n",
       "\n",
       "    [theme=dark] .colab-df-convert:hover {\n",
       "      background-color: #434B5C;\n",
       "      box-shadow: 0px 1px 3px 1px rgba(0, 0, 0, 0.15);\n",
       "      filter: drop-shadow(0px 1px 2px rgba(0, 0, 0, 0.3));\n",
       "      fill: #FFFFFF;\n",
       "    }\n",
       "  </style>\n",
       "\n",
       "      <script>\n",
       "        const buttonEl =\n",
       "          document.querySelector('#df-8ea053e3-570f-4654-ab17-a0631c1fb936 button.colab-df-convert');\n",
       "        buttonEl.style.display =\n",
       "          google.colab.kernel.accessAllowed ? 'block' : 'none';\n",
       "\n",
       "        async function convertToInteractive(key) {\n",
       "          const element = document.querySelector('#df-8ea053e3-570f-4654-ab17-a0631c1fb936');\n",
       "          const dataTable =\n",
       "            await google.colab.kernel.invokeFunction('convertToInteractive',\n",
       "                                                     [key], {});\n",
       "          if (!dataTable) return;\n",
       "\n",
       "          const docLinkHtml = 'Like what you see? Visit the ' +\n",
       "            '<a target=\"_blank\" href=https://colab.research.google.com/notebooks/data_table.ipynb>data table notebook</a>'\n",
       "            + ' to learn more about interactive tables.';\n",
       "          element.innerHTML = '';\n",
       "          dataTable['output_type'] = 'display_data';\n",
       "          await google.colab.output.renderOutput(dataTable, element);\n",
       "          const docLink = document.createElement('div');\n",
       "          docLink.innerHTML = docLinkHtml;\n",
       "          element.appendChild(docLink);\n",
       "        }\n",
       "      </script>\n",
       "    </div>\n",
       "  </div>\n",
       "  "
      ],
      "text/plain": [
       "       Customer No  Quantity Ordered  Line Item Amount Posting Date  \\\n",
       "0          0000919                10            197.30   2018-04-03   \n",
       "1          0000919                 5            104.25   2018-04-03   \n",
       "2          0000919                10            616.00   2018-06-01   \n",
       "3          0000919                 6            114.00   2016-01-12   \n",
       "4          0000919                24            312.00   2016-01-12   \n",
       "...            ...               ...               ...          ...   \n",
       "333466     7037043                 5            227.85   2021-01-14   \n",
       "333467     7037050                 1             62.20   2021-01-14   \n",
       "333468     7037056                 1             52.99   2021-01-14   \n",
       "333469     7037057                 1             41.15   2021-01-14   \n",
       "333470     7037057                 1             41.15   2021-01-14   \n",
       "\n",
       "       Department Dim Description Product Group Description  \\\n",
       "0                          Labels                     Forms   \n",
       "1                          Labels                     Forms   \n",
       "2                          Labels                DOT Labels   \n",
       "3                          Labels                DOT Labels   \n",
       "4                          Labels                Air Labels   \n",
       "...                           ...                       ...   \n",
       "333466                     Labels                     Forms   \n",
       "333467                     Labels                Air Labels   \n",
       "333468                     Labels                     Forms   \n",
       "333469                     Labels                DOT Labels   \n",
       "333470                     Labels                DOT Labels   \n",
       "\n",
       "       First Purchase Date  Days from 1st Purchase  \n",
       "0               2016-01-11                   813.0  \n",
       "1               2016-01-11                   813.0  \n",
       "2               2016-01-11                   872.0  \n",
       "3               2016-01-11                     1.0  \n",
       "4               2016-01-11                     1.0  \n",
       "...                    ...                     ...  \n",
       "333466          2021-01-14                     0.0  \n",
       "333467          2021-01-14                     0.0  \n",
       "333468          2021-01-14                     0.0  \n",
       "333469          2021-01-14                     0.0  \n",
       "333470          2021-01-14                     0.0  \n",
       "\n",
       "[333471 rows x 8 columns]"
      ]
     },
     "execution_count": 17,
     "metadata": {},
     "output_type": "execute_result"
    }
   ],
   "source": [
    "Labels"
   ]
  },
  {
   "cell_type": "code",
   "execution_count": 18,
   "metadata": {
    "colab": {
     "base_uri": "https://localhost:8080/"
    },
    "id": "yVxI08TUcHOh",
    "outputId": "4e57e3f1-7694-4a4a-e691-edbd574f7d08"
   },
   "outputs": [
    {
     "data": {
      "text/plain": [
       "0409806    1571\n",
       "1458331    1235\n",
       "0095457    1193\n",
       "0202079    1044\n",
       "0267242     923\n",
       "           ... \n",
       "1293270       2\n",
       "1293324       2\n",
       "1293399       2\n",
       "3028366       2\n",
       "OWNY208       2\n",
       "Name: Customer No, Length: 15801, dtype: int64"
      ]
     },
     "execution_count": 18,
     "metadata": {},
     "output_type": "execute_result"
    }
   ],
   "source": [
    "# Sum Quantity Order/Line Item Amount group by Customer No & Purchase date\n",
    "summLabels = Labels.groupby(['Customer No', 'Posting Date', 'Days from 1st Purchase']).agg({'Quantity Ordered': 'sum', 'Line Item Amount': 'sum'}).reset_index()\n",
    "summLabels.columns = ['Customer No', 'Posting Date', 'Days from 1st Purchase', 'Total Quantity Ordered', 'Total Line Item Amount']\n",
    "# Deal with those who have only purchased once\n",
    "remL= summLabels['Customer No'].value_counts().reset_index()\n",
    "remL.columns = ['Customer No', 'Count']\n",
    "summLabels = pd.merge(summLabels, remL, on='Customer No')\n",
    "summLabels = summLabels[summLabels['Count'] != 1].reset_index(drop=True)\n",
    "summLabels['Customer No'].value_counts()"
   ]
  },
  {
   "cell_type": "code",
   "execution_count": 19,
   "metadata": {
    "colab": {
     "base_uri": "https://localhost:8080/",
     "height": 419
    },
    "id": "88gRfJkZcLZF",
    "outputId": "4f14c500-959a-4ad5-e65f-ee56c9979db2"
   },
   "outputs": [
    {
     "data": {
      "text/html": [
       "\n",
       "  <div id=\"df-601b06f9-a95e-429b-b499-8f90f63044fb\">\n",
       "    <div class=\"colab-df-container\">\n",
       "      <div>\n",
       "<style scoped>\n",
       "    .dataframe tbody tr th:only-of-type {\n",
       "        vertical-align: middle;\n",
       "    }\n",
       "\n",
       "    .dataframe tbody tr th {\n",
       "        vertical-align: top;\n",
       "    }\n",
       "\n",
       "    .dataframe thead th {\n",
       "        text-align: right;\n",
       "    }\n",
       "</style>\n",
       "<table border=\"1\" class=\"dataframe\">\n",
       "  <thead>\n",
       "    <tr style=\"text-align: right;\">\n",
       "      <th></th>\n",
       "      <th>Customer No</th>\n",
       "      <th>Posting Date</th>\n",
       "      <th>Days from 1st Purchase</th>\n",
       "      <th>Total Quantity Ordered</th>\n",
       "      <th>Total Line Item Amount</th>\n",
       "      <th>Count</th>\n",
       "    </tr>\n",
       "  </thead>\n",
       "  <tbody>\n",
       "    <tr>\n",
       "      <th>0</th>\n",
       "      <td>0000010</td>\n",
       "      <td>2016-04-27</td>\n",
       "      <td>0.0</td>\n",
       "      <td>2</td>\n",
       "      <td>128.20</td>\n",
       "      <td>5</td>\n",
       "    </tr>\n",
       "    <tr>\n",
       "      <th>1</th>\n",
       "      <td>0000010</td>\n",
       "      <td>2016-07-29</td>\n",
       "      <td>93.0</td>\n",
       "      <td>3</td>\n",
       "      <td>192.30</td>\n",
       "      <td>5</td>\n",
       "    </tr>\n",
       "    <tr>\n",
       "      <th>2</th>\n",
       "      <td>0000010</td>\n",
       "      <td>2016-10-18</td>\n",
       "      <td>174.0</td>\n",
       "      <td>6</td>\n",
       "      <td>166.80</td>\n",
       "      <td>5</td>\n",
       "    </tr>\n",
       "    <tr>\n",
       "      <th>3</th>\n",
       "      <td>0000010</td>\n",
       "      <td>2018-07-31</td>\n",
       "      <td>825.0</td>\n",
       "      <td>5</td>\n",
       "      <td>255.50</td>\n",
       "      <td>5</td>\n",
       "    </tr>\n",
       "    <tr>\n",
       "      <th>4</th>\n",
       "      <td>0000010</td>\n",
       "      <td>2018-08-01</td>\n",
       "      <td>826.0</td>\n",
       "      <td>8</td>\n",
       "      <td>298.40</td>\n",
       "      <td>5</td>\n",
       "    </tr>\n",
       "    <tr>\n",
       "      <th>...</th>\n",
       "      <td>...</td>\n",
       "      <td>...</td>\n",
       "      <td>...</td>\n",
       "      <td>...</td>\n",
       "      <td>...</td>\n",
       "      <td>...</td>\n",
       "    </tr>\n",
       "    <tr>\n",
       "      <th>142798</th>\n",
       "      <td>7052843</td>\n",
       "      <td>2022-03-23</td>\n",
       "      <td>2.0</td>\n",
       "      <td>9</td>\n",
       "      <td>112.59</td>\n",
       "      <td>2</td>\n",
       "    </tr>\n",
       "    <tr>\n",
       "      <th>142799</th>\n",
       "      <td>7053362</td>\n",
       "      <td>2022-03-31</td>\n",
       "      <td>0.0</td>\n",
       "      <td>2</td>\n",
       "      <td>68.22</td>\n",
       "      <td>2</td>\n",
       "    </tr>\n",
       "    <tr>\n",
       "      <th>142800</th>\n",
       "      <td>7053362</td>\n",
       "      <td>2022-04-04</td>\n",
       "      <td>4.0</td>\n",
       "      <td>4</td>\n",
       "      <td>284.96</td>\n",
       "      <td>2</td>\n",
       "    </tr>\n",
       "    <tr>\n",
       "      <th>142801</th>\n",
       "      <td>OWNY208</td>\n",
       "      <td>2016-05-27</td>\n",
       "      <td>0.0</td>\n",
       "      <td>1</td>\n",
       "      <td>15.50</td>\n",
       "      <td>2</td>\n",
       "    </tr>\n",
       "    <tr>\n",
       "      <th>142802</th>\n",
       "      <td>OWNY208</td>\n",
       "      <td>2016-06-06</td>\n",
       "      <td>10.0</td>\n",
       "      <td>2</td>\n",
       "      <td>31.00</td>\n",
       "      <td>2</td>\n",
       "    </tr>\n",
       "  </tbody>\n",
       "</table>\n",
       "<p>142803 rows × 6 columns</p>\n",
       "</div>\n",
       "      <button class=\"colab-df-convert\" onclick=\"convertToInteractive('df-601b06f9-a95e-429b-b499-8f90f63044fb')\"\n",
       "              title=\"Convert this dataframe to an interactive table.\"\n",
       "              style=\"display:none;\">\n",
       "        \n",
       "  <svg xmlns=\"http://www.w3.org/2000/svg\" height=\"24px\"viewBox=\"0 0 24 24\"\n",
       "       width=\"24px\">\n",
       "    <path d=\"M0 0h24v24H0V0z\" fill=\"none\"/>\n",
       "    <path d=\"M18.56 5.44l.94 2.06.94-2.06 2.06-.94-2.06-.94-.94-2.06-.94 2.06-2.06.94zm-11 1L8.5 8.5l.94-2.06 2.06-.94-2.06-.94L8.5 2.5l-.94 2.06-2.06.94zm10 10l.94 2.06.94-2.06 2.06-.94-2.06-.94-.94-2.06-.94 2.06-2.06.94z\"/><path d=\"M17.41 7.96l-1.37-1.37c-.4-.4-.92-.59-1.43-.59-.52 0-1.04.2-1.43.59L10.3 9.45l-7.72 7.72c-.78.78-.78 2.05 0 2.83L4 21.41c.39.39.9.59 1.41.59.51 0 1.02-.2 1.41-.59l7.78-7.78 2.81-2.81c.8-.78.8-2.07 0-2.86zM5.41 20L4 18.59l7.72-7.72 1.47 1.35L5.41 20z\"/>\n",
       "  </svg>\n",
       "      </button>\n",
       "      \n",
       "  <style>\n",
       "    .colab-df-container {\n",
       "      display:flex;\n",
       "      flex-wrap:wrap;\n",
       "      gap: 12px;\n",
       "    }\n",
       "\n",
       "    .colab-df-convert {\n",
       "      background-color: #E8F0FE;\n",
       "      border: none;\n",
       "      border-radius: 50%;\n",
       "      cursor: pointer;\n",
       "      display: none;\n",
       "      fill: #1967D2;\n",
       "      height: 32px;\n",
       "      padding: 0 0 0 0;\n",
       "      width: 32px;\n",
       "    }\n",
       "\n",
       "    .colab-df-convert:hover {\n",
       "      background-color: #E2EBFA;\n",
       "      box-shadow: 0px 1px 2px rgba(60, 64, 67, 0.3), 0px 1px 3px 1px rgba(60, 64, 67, 0.15);\n",
       "      fill: #174EA6;\n",
       "    }\n",
       "\n",
       "    [theme=dark] .colab-df-convert {\n",
       "      background-color: #3B4455;\n",
       "      fill: #D2E3FC;\n",
       "    }\n",
       "\n",
       "    [theme=dark] .colab-df-convert:hover {\n",
       "      background-color: #434B5C;\n",
       "      box-shadow: 0px 1px 3px 1px rgba(0, 0, 0, 0.15);\n",
       "      filter: drop-shadow(0px 1px 2px rgba(0, 0, 0, 0.3));\n",
       "      fill: #FFFFFF;\n",
       "    }\n",
       "  </style>\n",
       "\n",
       "      <script>\n",
       "        const buttonEl =\n",
       "          document.querySelector('#df-601b06f9-a95e-429b-b499-8f90f63044fb button.colab-df-convert');\n",
       "        buttonEl.style.display =\n",
       "          google.colab.kernel.accessAllowed ? 'block' : 'none';\n",
       "\n",
       "        async function convertToInteractive(key) {\n",
       "          const element = document.querySelector('#df-601b06f9-a95e-429b-b499-8f90f63044fb');\n",
       "          const dataTable =\n",
       "            await google.colab.kernel.invokeFunction('convertToInteractive',\n",
       "                                                     [key], {});\n",
       "          if (!dataTable) return;\n",
       "\n",
       "          const docLinkHtml = 'Like what you see? Visit the ' +\n",
       "            '<a target=\"_blank\" href=https://colab.research.google.com/notebooks/data_table.ipynb>data table notebook</a>'\n",
       "            + ' to learn more about interactive tables.';\n",
       "          element.innerHTML = '';\n",
       "          dataTable['output_type'] = 'display_data';\n",
       "          await google.colab.output.renderOutput(dataTable, element);\n",
       "          const docLink = document.createElement('div');\n",
       "          docLink.innerHTML = docLinkHtml;\n",
       "          element.appendChild(docLink);\n",
       "        }\n",
       "      </script>\n",
       "    </div>\n",
       "  </div>\n",
       "  "
      ],
      "text/plain": [
       "       Customer No Posting Date  Days from 1st Purchase  \\\n",
       "0          0000010   2016-04-27                     0.0   \n",
       "1          0000010   2016-07-29                    93.0   \n",
       "2          0000010   2016-10-18                   174.0   \n",
       "3          0000010   2018-07-31                   825.0   \n",
       "4          0000010   2018-08-01                   826.0   \n",
       "...            ...          ...                     ...   \n",
       "142798     7052843   2022-03-23                     2.0   \n",
       "142799     7053362   2022-03-31                     0.0   \n",
       "142800     7053362   2022-04-04                     4.0   \n",
       "142801     OWNY208   2016-05-27                     0.0   \n",
       "142802     OWNY208   2016-06-06                    10.0   \n",
       "\n",
       "        Total Quantity Ordered  Total Line Item Amount  Count  \n",
       "0                            2                  128.20      5  \n",
       "1                            3                  192.30      5  \n",
       "2                            6                  166.80      5  \n",
       "3                            5                  255.50      5  \n",
       "4                            8                  298.40      5  \n",
       "...                        ...                     ...    ...  \n",
       "142798                       9                  112.59      2  \n",
       "142799                       2                   68.22      2  \n",
       "142800                       4                  284.96      2  \n",
       "142801                       1                   15.50      2  \n",
       "142802                       2                   31.00      2  \n",
       "\n",
       "[142803 rows x 6 columns]"
      ]
     },
     "execution_count": 19,
     "metadata": {},
     "output_type": "execute_result"
    }
   ],
   "source": [
    "summLabels"
   ]
  },
  {
   "cell_type": "markdown",
   "metadata": {
    "id": "lASm0j-jcMey"
   },
   "source": [
    "In Label Department, there are 44,765 identical customers. There are only 15,801 customers have purchased more than once."
   ]
  },
  {
   "cell_type": "markdown",
   "metadata": {
    "id": "HgBFaoT5cRH4"
   },
   "source": [
    "#### 2.1.1 Calculate boundary based on each customer's median & IQR"
   ]
  },
  {
   "cell_type": "code",
   "execution_count": 20,
   "metadata": {
    "colab": {
     "base_uri": "https://localhost:8080/"
    },
    "id": "oqLwRryRF0nK",
    "outputId": "dc310274-6da4-4aa3-bf20-e125fa4e88da"
   },
   "outputs": [
    {
     "data": {
      "text/plain": [
       "(127002, 7)"
      ]
     },
     "execution_count": 20,
     "metadata": {},
     "output_type": "execute_result"
    }
   ],
   "source": [
    "# Calculate the number of days between consecutive purchases\n",
    "summLabels['Days from previous purchase'] = summLabels.groupby(['Customer No'])['Days from 1st Purchase'].diff().reset_index(drop = True)\n",
    "summLabels = summLabels.dropna()\n",
    "summLabels.shape"
   ]
  },
  {
   "cell_type": "code",
   "execution_count": 21,
   "metadata": {
    "colab": {
     "base_uri": "https://localhost:8080/",
     "height": 419
    },
    "id": "kwNejOC6cTmD",
    "outputId": "968b6a97-85cf-40f9-e0a7-b7e0f5efc59c"
   },
   "outputs": [
    {
     "data": {
      "text/html": [
       "\n",
       "  <div id=\"df-464fc66b-8aef-47d2-91b6-bd2b41bb897d\">\n",
       "    <div class=\"colab-df-container\">\n",
       "      <div>\n",
       "<style scoped>\n",
       "    .dataframe tbody tr th:only-of-type {\n",
       "        vertical-align: middle;\n",
       "    }\n",
       "\n",
       "    .dataframe tbody tr th {\n",
       "        vertical-align: top;\n",
       "    }\n",
       "\n",
       "    .dataframe thead th {\n",
       "        text-align: right;\n",
       "    }\n",
       "</style>\n",
       "<table border=\"1\" class=\"dataframe\">\n",
       "  <thead>\n",
       "    <tr style=\"text-align: right;\">\n",
       "      <th></th>\n",
       "      <th>Customer No</th>\n",
       "      <th>Median</th>\n",
       "      <th>Count</th>\n",
       "      <th>IQR</th>\n",
       "      <th>Lower Bound</th>\n",
       "      <th>Upper Bound</th>\n",
       "    </tr>\n",
       "  </thead>\n",
       "  <tbody>\n",
       "    <tr>\n",
       "      <th>0</th>\n",
       "      <td>0000010</td>\n",
       "      <td>87.0</td>\n",
       "      <td>4</td>\n",
       "      <td>171.50</td>\n",
       "      <td>-170.250000</td>\n",
       "      <td>344.250000</td>\n",
       "    </tr>\n",
       "    <tr>\n",
       "      <th>1</th>\n",
       "      <td>0000145</td>\n",
       "      <td>93.5</td>\n",
       "      <td>10</td>\n",
       "      <td>205.25</td>\n",
       "      <td>-101.217247</td>\n",
       "      <td>288.217247</td>\n",
       "    </tr>\n",
       "    <tr>\n",
       "      <th>2</th>\n",
       "      <td>0000185</td>\n",
       "      <td>66.0</td>\n",
       "      <td>9</td>\n",
       "      <td>189.00</td>\n",
       "      <td>-123.000000</td>\n",
       "      <td>255.000000</td>\n",
       "    </tr>\n",
       "    <tr>\n",
       "      <th>3</th>\n",
       "      <td>0000258</td>\n",
       "      <td>20.0</td>\n",
       "      <td>1</td>\n",
       "      <td>0.00</td>\n",
       "      <td>20.000000</td>\n",
       "      <td>20.000000</td>\n",
       "    </tr>\n",
       "    <tr>\n",
       "      <th>4</th>\n",
       "      <td>0000323</td>\n",
       "      <td>43.0</td>\n",
       "      <td>5</td>\n",
       "      <td>47.00</td>\n",
       "      <td>-20.057117</td>\n",
       "      <td>106.057117</td>\n",
       "    </tr>\n",
       "    <tr>\n",
       "      <th>...</th>\n",
       "      <td>...</td>\n",
       "      <td>...</td>\n",
       "      <td>...</td>\n",
       "      <td>...</td>\n",
       "      <td>...</td>\n",
       "      <td>...</td>\n",
       "    </tr>\n",
       "    <tr>\n",
       "      <th>15796</th>\n",
       "      <td>7052591</td>\n",
       "      <td>5.0</td>\n",
       "      <td>1</td>\n",
       "      <td>0.00</td>\n",
       "      <td>5.000000</td>\n",
       "      <td>5.000000</td>\n",
       "    </tr>\n",
       "    <tr>\n",
       "      <th>15797</th>\n",
       "      <td>7052662</td>\n",
       "      <td>6.0</td>\n",
       "      <td>2</td>\n",
       "      <td>5.00</td>\n",
       "      <td>-4.606602</td>\n",
       "      <td>16.606602</td>\n",
       "    </tr>\n",
       "    <tr>\n",
       "      <th>15798</th>\n",
       "      <td>7052843</td>\n",
       "      <td>2.0</td>\n",
       "      <td>1</td>\n",
       "      <td>0.00</td>\n",
       "      <td>2.000000</td>\n",
       "      <td>2.000000</td>\n",
       "    </tr>\n",
       "    <tr>\n",
       "      <th>15799</th>\n",
       "      <td>7053362</td>\n",
       "      <td>4.0</td>\n",
       "      <td>1</td>\n",
       "      <td>0.00</td>\n",
       "      <td>4.000000</td>\n",
       "      <td>4.000000</td>\n",
       "    </tr>\n",
       "    <tr>\n",
       "      <th>15800</th>\n",
       "      <td>OWNY208</td>\n",
       "      <td>10.0</td>\n",
       "      <td>1</td>\n",
       "      <td>0.00</td>\n",
       "      <td>10.000000</td>\n",
       "      <td>10.000000</td>\n",
       "    </tr>\n",
       "  </tbody>\n",
       "</table>\n",
       "<p>15801 rows × 6 columns</p>\n",
       "</div>\n",
       "      <button class=\"colab-df-convert\" onclick=\"convertToInteractive('df-464fc66b-8aef-47d2-91b6-bd2b41bb897d')\"\n",
       "              title=\"Convert this dataframe to an interactive table.\"\n",
       "              style=\"display:none;\">\n",
       "        \n",
       "  <svg xmlns=\"http://www.w3.org/2000/svg\" height=\"24px\"viewBox=\"0 0 24 24\"\n",
       "       width=\"24px\">\n",
       "    <path d=\"M0 0h24v24H0V0z\" fill=\"none\"/>\n",
       "    <path d=\"M18.56 5.44l.94 2.06.94-2.06 2.06-.94-2.06-.94-.94-2.06-.94 2.06-2.06.94zm-11 1L8.5 8.5l.94-2.06 2.06-.94-2.06-.94L8.5 2.5l-.94 2.06-2.06.94zm10 10l.94 2.06.94-2.06 2.06-.94-2.06-.94-.94-2.06-.94 2.06-2.06.94z\"/><path d=\"M17.41 7.96l-1.37-1.37c-.4-.4-.92-.59-1.43-.59-.52 0-1.04.2-1.43.59L10.3 9.45l-7.72 7.72c-.78.78-.78 2.05 0 2.83L4 21.41c.39.39.9.59 1.41.59.51 0 1.02-.2 1.41-.59l7.78-7.78 2.81-2.81c.8-.78.8-2.07 0-2.86zM5.41 20L4 18.59l7.72-7.72 1.47 1.35L5.41 20z\"/>\n",
       "  </svg>\n",
       "      </button>\n",
       "      \n",
       "  <style>\n",
       "    .colab-df-container {\n",
       "      display:flex;\n",
       "      flex-wrap:wrap;\n",
       "      gap: 12px;\n",
       "    }\n",
       "\n",
       "    .colab-df-convert {\n",
       "      background-color: #E8F0FE;\n",
       "      border: none;\n",
       "      border-radius: 50%;\n",
       "      cursor: pointer;\n",
       "      display: none;\n",
       "      fill: #1967D2;\n",
       "      height: 32px;\n",
       "      padding: 0 0 0 0;\n",
       "      width: 32px;\n",
       "    }\n",
       "\n",
       "    .colab-df-convert:hover {\n",
       "      background-color: #E2EBFA;\n",
       "      box-shadow: 0px 1px 2px rgba(60, 64, 67, 0.3), 0px 1px 3px 1px rgba(60, 64, 67, 0.15);\n",
       "      fill: #174EA6;\n",
       "    }\n",
       "\n",
       "    [theme=dark] .colab-df-convert {\n",
       "      background-color: #3B4455;\n",
       "      fill: #D2E3FC;\n",
       "    }\n",
       "\n",
       "    [theme=dark] .colab-df-convert:hover {\n",
       "      background-color: #434B5C;\n",
       "      box-shadow: 0px 1px 3px 1px rgba(0, 0, 0, 0.15);\n",
       "      filter: drop-shadow(0px 1px 2px rgba(0, 0, 0, 0.3));\n",
       "      fill: #FFFFFF;\n",
       "    }\n",
       "  </style>\n",
       "\n",
       "      <script>\n",
       "        const buttonEl =\n",
       "          document.querySelector('#df-464fc66b-8aef-47d2-91b6-bd2b41bb897d button.colab-df-convert');\n",
       "        buttonEl.style.display =\n",
       "          google.colab.kernel.accessAllowed ? 'block' : 'none';\n",
       "\n",
       "        async function convertToInteractive(key) {\n",
       "          const element = document.querySelector('#df-464fc66b-8aef-47d2-91b6-bd2b41bb897d');\n",
       "          const dataTable =\n",
       "            await google.colab.kernel.invokeFunction('convertToInteractive',\n",
       "                                                     [key], {});\n",
       "          if (!dataTable) return;\n",
       "\n",
       "          const docLinkHtml = 'Like what you see? Visit the ' +\n",
       "            '<a target=\"_blank\" href=https://colab.research.google.com/notebooks/data_table.ipynb>data table notebook</a>'\n",
       "            + ' to learn more about interactive tables.';\n",
       "          element.innerHTML = '';\n",
       "          dataTable['output_type'] = 'display_data';\n",
       "          await google.colab.output.renderOutput(dataTable, element);\n",
       "          const docLink = document.createElement('div');\n",
       "          docLink.innerHTML = docLinkHtml;\n",
       "          element.appendChild(docLink);\n",
       "        }\n",
       "      </script>\n",
       "    </div>\n",
       "  </div>\n",
       "  "
      ],
      "text/plain": [
       "      Customer No  Median  Count     IQR  Lower Bound  Upper Bound\n",
       "0         0000010    87.0      4  171.50  -170.250000   344.250000\n",
       "1         0000145    93.5     10  205.25  -101.217247   288.217247\n",
       "2         0000185    66.0      9  189.00  -123.000000   255.000000\n",
       "3         0000258    20.0      1    0.00    20.000000    20.000000\n",
       "4         0000323    43.0      5   47.00   -20.057117   106.057117\n",
       "...           ...     ...    ...     ...          ...          ...\n",
       "15796     7052591     5.0      1    0.00     5.000000     5.000000\n",
       "15797     7052662     6.0      2    5.00    -4.606602    16.606602\n",
       "15798     7052843     2.0      1    0.00     2.000000     2.000000\n",
       "15799     7053362     4.0      1    0.00     4.000000     4.000000\n",
       "15800     OWNY208    10.0      1    0.00    10.000000    10.000000\n",
       "\n",
       "[15801 rows x 6 columns]"
      ]
     },
     "execution_count": 21,
     "metadata": {},
     "output_type": "execute_result"
    }
   ],
   "source": [
    "# Find median, IQR, lower bound, upper bound\n",
    "medianL = summLabels.groupby('Customer No')['Days from previous purchase'].agg(['median', 'count']).reset_index()\n",
    "iqrL = summLabels.groupby('Customer No')['Days from previous purchase'].agg(iqr).reset_index()\n",
    "findingL = pd.merge(medianL, iqrL, on='Customer No')\n",
    "findingL.columns = ['Customer No', 'Median', 'Count', 'IQR']\n",
    "findingL['Lower Bound'] = findingL['Median'] - 3 * findingL['IQR'] / np.sqrt(findingL['Count'])\n",
    "findingL['Upper Bound'] = findingL['Median'] + 3 * findingL['IQR'] / np.sqrt(findingL['Count'])\n",
    "findingL"
   ]
  },
  {
   "cell_type": "code",
   "execution_count": 22,
   "metadata": {
    "colab": {
     "base_uri": "https://localhost:8080/",
     "height": 419
    },
    "id": "h9SukgNdcVl_",
    "outputId": "35c2ff69-205c-462f-ee75-e271e51d0934"
   },
   "outputs": [
    {
     "data": {
      "text/html": [
       "\n",
       "  <div id=\"df-6ce19f60-a145-47bd-8864-4f7267e13e35\">\n",
       "    <div class=\"colab-df-container\">\n",
       "      <div>\n",
       "<style scoped>\n",
       "    .dataframe tbody tr th:only-of-type {\n",
       "        vertical-align: middle;\n",
       "    }\n",
       "\n",
       "    .dataframe tbody tr th {\n",
       "        vertical-align: top;\n",
       "    }\n",
       "\n",
       "    .dataframe thead th {\n",
       "        text-align: right;\n",
       "    }\n",
       "</style>\n",
       "<table border=\"1\" class=\"dataframe\">\n",
       "  <thead>\n",
       "    <tr style=\"text-align: right;\">\n",
       "      <th></th>\n",
       "      <th>Customer No</th>\n",
       "      <th>Days from 1st Purchase</th>\n",
       "      <th>Days from previous purchase</th>\n",
       "      <th>Lower Bound</th>\n",
       "      <th>Upper Bound</th>\n",
       "    </tr>\n",
       "  </thead>\n",
       "  <tbody>\n",
       "    <tr>\n",
       "      <th>0</th>\n",
       "      <td>0000010</td>\n",
       "      <td>93.0</td>\n",
       "      <td>93.0</td>\n",
       "      <td>-170.250000</td>\n",
       "      <td>344.250000</td>\n",
       "    </tr>\n",
       "    <tr>\n",
       "      <th>1</th>\n",
       "      <td>0000010</td>\n",
       "      <td>174.0</td>\n",
       "      <td>81.0</td>\n",
       "      <td>-170.250000</td>\n",
       "      <td>344.250000</td>\n",
       "    </tr>\n",
       "    <tr>\n",
       "      <th>2</th>\n",
       "      <td>0000010</td>\n",
       "      <td>825.0</td>\n",
       "      <td>651.0</td>\n",
       "      <td>-170.250000</td>\n",
       "      <td>344.250000</td>\n",
       "    </tr>\n",
       "    <tr>\n",
       "      <th>3</th>\n",
       "      <td>0000010</td>\n",
       "      <td>826.0</td>\n",
       "      <td>1.0</td>\n",
       "      <td>-170.250000</td>\n",
       "      <td>344.250000</td>\n",
       "    </tr>\n",
       "    <tr>\n",
       "      <th>4</th>\n",
       "      <td>0000145</td>\n",
       "      <td>380.0</td>\n",
       "      <td>258.0</td>\n",
       "      <td>-101.217247</td>\n",
       "      <td>288.217247</td>\n",
       "    </tr>\n",
       "    <tr>\n",
       "      <th>...</th>\n",
       "      <td>...</td>\n",
       "      <td>...</td>\n",
       "      <td>...</td>\n",
       "      <td>...</td>\n",
       "      <td>...</td>\n",
       "    </tr>\n",
       "    <tr>\n",
       "      <th>126997</th>\n",
       "      <td>7052662</td>\n",
       "      <td>1.0</td>\n",
       "      <td>1.0</td>\n",
       "      <td>-4.606602</td>\n",
       "      <td>16.606602</td>\n",
       "    </tr>\n",
       "    <tr>\n",
       "      <th>126998</th>\n",
       "      <td>7052662</td>\n",
       "      <td>12.0</td>\n",
       "      <td>11.0</td>\n",
       "      <td>-4.606602</td>\n",
       "      <td>16.606602</td>\n",
       "    </tr>\n",
       "    <tr>\n",
       "      <th>126999</th>\n",
       "      <td>7052843</td>\n",
       "      <td>2.0</td>\n",
       "      <td>2.0</td>\n",
       "      <td>2.000000</td>\n",
       "      <td>2.000000</td>\n",
       "    </tr>\n",
       "    <tr>\n",
       "      <th>127000</th>\n",
       "      <td>7053362</td>\n",
       "      <td>4.0</td>\n",
       "      <td>4.0</td>\n",
       "      <td>4.000000</td>\n",
       "      <td>4.000000</td>\n",
       "    </tr>\n",
       "    <tr>\n",
       "      <th>127001</th>\n",
       "      <td>OWNY208</td>\n",
       "      <td>10.0</td>\n",
       "      <td>10.0</td>\n",
       "      <td>10.000000</td>\n",
       "      <td>10.000000</td>\n",
       "    </tr>\n",
       "  </tbody>\n",
       "</table>\n",
       "<p>127002 rows × 5 columns</p>\n",
       "</div>\n",
       "      <button class=\"colab-df-convert\" onclick=\"convertToInteractive('df-6ce19f60-a145-47bd-8864-4f7267e13e35')\"\n",
       "              title=\"Convert this dataframe to an interactive table.\"\n",
       "              style=\"display:none;\">\n",
       "        \n",
       "  <svg xmlns=\"http://www.w3.org/2000/svg\" height=\"24px\"viewBox=\"0 0 24 24\"\n",
       "       width=\"24px\">\n",
       "    <path d=\"M0 0h24v24H0V0z\" fill=\"none\"/>\n",
       "    <path d=\"M18.56 5.44l.94 2.06.94-2.06 2.06-.94-2.06-.94-.94-2.06-.94 2.06-2.06.94zm-11 1L8.5 8.5l.94-2.06 2.06-.94-2.06-.94L8.5 2.5l-.94 2.06-2.06.94zm10 10l.94 2.06.94-2.06 2.06-.94-2.06-.94-.94-2.06-.94 2.06-2.06.94z\"/><path d=\"M17.41 7.96l-1.37-1.37c-.4-.4-.92-.59-1.43-.59-.52 0-1.04.2-1.43.59L10.3 9.45l-7.72 7.72c-.78.78-.78 2.05 0 2.83L4 21.41c.39.39.9.59 1.41.59.51 0 1.02-.2 1.41-.59l7.78-7.78 2.81-2.81c.8-.78.8-2.07 0-2.86zM5.41 20L4 18.59l7.72-7.72 1.47 1.35L5.41 20z\"/>\n",
       "  </svg>\n",
       "      </button>\n",
       "      \n",
       "  <style>\n",
       "    .colab-df-container {\n",
       "      display:flex;\n",
       "      flex-wrap:wrap;\n",
       "      gap: 12px;\n",
       "    }\n",
       "\n",
       "    .colab-df-convert {\n",
       "      background-color: #E8F0FE;\n",
       "      border: none;\n",
       "      border-radius: 50%;\n",
       "      cursor: pointer;\n",
       "      display: none;\n",
       "      fill: #1967D2;\n",
       "      height: 32px;\n",
       "      padding: 0 0 0 0;\n",
       "      width: 32px;\n",
       "    }\n",
       "\n",
       "    .colab-df-convert:hover {\n",
       "      background-color: #E2EBFA;\n",
       "      box-shadow: 0px 1px 2px rgba(60, 64, 67, 0.3), 0px 1px 3px 1px rgba(60, 64, 67, 0.15);\n",
       "      fill: #174EA6;\n",
       "    }\n",
       "\n",
       "    [theme=dark] .colab-df-convert {\n",
       "      background-color: #3B4455;\n",
       "      fill: #D2E3FC;\n",
       "    }\n",
       "\n",
       "    [theme=dark] .colab-df-convert:hover {\n",
       "      background-color: #434B5C;\n",
       "      box-shadow: 0px 1px 3px 1px rgba(0, 0, 0, 0.15);\n",
       "      filter: drop-shadow(0px 1px 2px rgba(0, 0, 0, 0.3));\n",
       "      fill: #FFFFFF;\n",
       "    }\n",
       "  </style>\n",
       "\n",
       "      <script>\n",
       "        const buttonEl =\n",
       "          document.querySelector('#df-6ce19f60-a145-47bd-8864-4f7267e13e35 button.colab-df-convert');\n",
       "        buttonEl.style.display =\n",
       "          google.colab.kernel.accessAllowed ? 'block' : 'none';\n",
       "\n",
       "        async function convertToInteractive(key) {\n",
       "          const element = document.querySelector('#df-6ce19f60-a145-47bd-8864-4f7267e13e35');\n",
       "          const dataTable =\n",
       "            await google.colab.kernel.invokeFunction('convertToInteractive',\n",
       "                                                     [key], {});\n",
       "          if (!dataTable) return;\n",
       "\n",
       "          const docLinkHtml = 'Like what you see? Visit the ' +\n",
       "            '<a target=\"_blank\" href=https://colab.research.google.com/notebooks/data_table.ipynb>data table notebook</a>'\n",
       "            + ' to learn more about interactive tables.';\n",
       "          element.innerHTML = '';\n",
       "          dataTable['output_type'] = 'display_data';\n",
       "          await google.colab.output.renderOutput(dataTable, element);\n",
       "          const docLink = document.createElement('div');\n",
       "          docLink.innerHTML = docLinkHtml;\n",
       "          element.appendChild(docLink);\n",
       "        }\n",
       "      </script>\n",
       "    </div>\n",
       "  </div>\n",
       "  "
      ],
      "text/plain": [
       "       Customer No  Days from 1st Purchase  Days from previous purchase  \\\n",
       "0          0000010                    93.0                         93.0   \n",
       "1          0000010                   174.0                         81.0   \n",
       "2          0000010                   825.0                        651.0   \n",
       "3          0000010                   826.0                          1.0   \n",
       "4          0000145                   380.0                        258.0   \n",
       "...            ...                     ...                          ...   \n",
       "126997     7052662                     1.0                          1.0   \n",
       "126998     7052662                    12.0                         11.0   \n",
       "126999     7052843                     2.0                          2.0   \n",
       "127000     7053362                     4.0                          4.0   \n",
       "127001     OWNY208                    10.0                         10.0   \n",
       "\n",
       "        Lower Bound  Upper Bound  \n",
       "0       -170.250000   344.250000  \n",
       "1       -170.250000   344.250000  \n",
       "2       -170.250000   344.250000  \n",
       "3       -170.250000   344.250000  \n",
       "4       -101.217247   288.217247  \n",
       "...             ...          ...  \n",
       "126997    -4.606602    16.606602  \n",
       "126998    -4.606602    16.606602  \n",
       "126999     2.000000     2.000000  \n",
       "127000     4.000000     4.000000  \n",
       "127001    10.000000    10.000000  \n",
       "\n",
       "[127002 rows x 5 columns]"
      ]
     },
     "execution_count": 22,
     "metadata": {},
     "output_type": "execute_result"
    }
   ],
   "source": [
    "getL = pd.merge(summLabels[['Customer No', 'Days from 1st Purchase', 'Days from previous purchase']], findingL[['Customer No', 'Lower Bound', 'Upper Bound']], on = 'Customer No')\n",
    "getL"
   ]
  },
  {
   "cell_type": "code",
   "execution_count": null,
   "metadata": {
    "id": "F4ZnfT0RcXBg"
   },
   "outputs": [],
   "source": [
    "# # Find customers who have churned already based on last purchased date\n",
    "# labeling1L = getL.groupby('Customer No').agg(lastPurchased = ('Days from Purchased to Now', np.min)).reset_index()\n",
    "# labeling1L = pd.merge(getL[['Customer No', 'Lower Bound', 'Upper Bound']].drop_duplicates(), labeling1L, on='Customer No')\n",
    "# labeling1L['Churn Definition 1'] = np.where((labeling1L['lastPurchased'] >= labeling1L['Lower Bound']) & (labeling1L['lastPurchased'] <= labeling1L['Upper Bound']), 0, 1)\n",
    "# labeling1L['Churn Definition 1'].value_counts()"
   ]
  },
  {
   "cell_type": "code",
   "execution_count": 23,
   "metadata": {
    "colab": {
     "base_uri": "https://localhost:8080/"
    },
    "id": "JsfO4D_EcaYp",
    "outputId": "75c08dac-9767-4327-ab29-4dd265dbd9e0"
   },
   "outputs": [
    {
     "data": {
      "text/plain": [
       "0    14320\n",
       "1     1481\n",
       "Name: Churn Definition, dtype: int64"
      ]
     },
     "execution_count": 23,
     "metadata": {},
     "output_type": "execute_result"
    }
   ],
   "source": [
    "# Find customers who have churned already based on purchased history\n",
    "countChurnL = getL.copy()\n",
    "countChurnL['Churn Count'] = np.where((countChurnL['Days from previous purchase'] >= countChurnL['Lower Bound']) & (countChurnL['Days from previous purchase'] <= countChurnL['Upper Bound']), 0, 1)\n",
    "resultLabels = countChurnL.groupby('Customer No')['Churn Count'].agg(['sum', 'count']).reset_index()\n",
    "resultLabels.columns = ['Customer No', 'Churn Count', 'Purchase Count']\n",
    "resultLabels['Churn Percent'] = round(resultLabels['Churn Count'] / resultLabels['Purchase Count'], 3)\n",
    "resultLabels['Churn Definition'] = np.where(resultLabels['Churn Count'] > (resultLabels['Purchase Count']/3), 1, 0)\n",
    "resultLabels['Churn Definition'].value_counts()"
   ]
  },
  {
   "cell_type": "code",
   "execution_count": 24,
   "metadata": {
    "colab": {
     "base_uri": "https://localhost:8080/",
     "height": 419
    },
    "id": "w5gQzgc4FFEl",
    "outputId": "83f5cf5b-422e-4a40-85bc-5a5587d80582"
   },
   "outputs": [
    {
     "data": {
      "text/html": [
       "\n",
       "  <div id=\"df-3d4b7164-e249-4c96-b461-f91042f3c273\">\n",
       "    <div class=\"colab-df-container\">\n",
       "      <div>\n",
       "<style scoped>\n",
       "    .dataframe tbody tr th:only-of-type {\n",
       "        vertical-align: middle;\n",
       "    }\n",
       "\n",
       "    .dataframe tbody tr th {\n",
       "        vertical-align: top;\n",
       "    }\n",
       "\n",
       "    .dataframe thead th {\n",
       "        text-align: right;\n",
       "    }\n",
       "</style>\n",
       "<table border=\"1\" class=\"dataframe\">\n",
       "  <thead>\n",
       "    <tr style=\"text-align: right;\">\n",
       "      <th></th>\n",
       "      <th>Customer No</th>\n",
       "      <th>Churn Count</th>\n",
       "      <th>Purchase Count</th>\n",
       "      <th>Churn Percent</th>\n",
       "      <th>Churn Definition</th>\n",
       "    </tr>\n",
       "  </thead>\n",
       "  <tbody>\n",
       "    <tr>\n",
       "      <th>0</th>\n",
       "      <td>0000010</td>\n",
       "      <td>1</td>\n",
       "      <td>4</td>\n",
       "      <td>0.250</td>\n",
       "      <td>0</td>\n",
       "    </tr>\n",
       "    <tr>\n",
       "      <th>1</th>\n",
       "      <td>0000145</td>\n",
       "      <td>2</td>\n",
       "      <td>10</td>\n",
       "      <td>0.200</td>\n",
       "      <td>0</td>\n",
       "    </tr>\n",
       "    <tr>\n",
       "      <th>2</th>\n",
       "      <td>0000185</td>\n",
       "      <td>2</td>\n",
       "      <td>9</td>\n",
       "      <td>0.222</td>\n",
       "      <td>0</td>\n",
       "    </tr>\n",
       "    <tr>\n",
       "      <th>3</th>\n",
       "      <td>0000258</td>\n",
       "      <td>0</td>\n",
       "      <td>1</td>\n",
       "      <td>0.000</td>\n",
       "      <td>0</td>\n",
       "    </tr>\n",
       "    <tr>\n",
       "      <th>4</th>\n",
       "      <td>0000323</td>\n",
       "      <td>1</td>\n",
       "      <td>5</td>\n",
       "      <td>0.200</td>\n",
       "      <td>0</td>\n",
       "    </tr>\n",
       "    <tr>\n",
       "      <th>...</th>\n",
       "      <td>...</td>\n",
       "      <td>...</td>\n",
       "      <td>...</td>\n",
       "      <td>...</td>\n",
       "      <td>...</td>\n",
       "    </tr>\n",
       "    <tr>\n",
       "      <th>15796</th>\n",
       "      <td>7052591</td>\n",
       "      <td>0</td>\n",
       "      <td>1</td>\n",
       "      <td>0.000</td>\n",
       "      <td>0</td>\n",
       "    </tr>\n",
       "    <tr>\n",
       "      <th>15797</th>\n",
       "      <td>7052662</td>\n",
       "      <td>0</td>\n",
       "      <td>2</td>\n",
       "      <td>0.000</td>\n",
       "      <td>0</td>\n",
       "    </tr>\n",
       "    <tr>\n",
       "      <th>15798</th>\n",
       "      <td>7052843</td>\n",
       "      <td>0</td>\n",
       "      <td>1</td>\n",
       "      <td>0.000</td>\n",
       "      <td>0</td>\n",
       "    </tr>\n",
       "    <tr>\n",
       "      <th>15799</th>\n",
       "      <td>7053362</td>\n",
       "      <td>0</td>\n",
       "      <td>1</td>\n",
       "      <td>0.000</td>\n",
       "      <td>0</td>\n",
       "    </tr>\n",
       "    <tr>\n",
       "      <th>15800</th>\n",
       "      <td>OWNY208</td>\n",
       "      <td>0</td>\n",
       "      <td>1</td>\n",
       "      <td>0.000</td>\n",
       "      <td>0</td>\n",
       "    </tr>\n",
       "  </tbody>\n",
       "</table>\n",
       "<p>15801 rows × 5 columns</p>\n",
       "</div>\n",
       "      <button class=\"colab-df-convert\" onclick=\"convertToInteractive('df-3d4b7164-e249-4c96-b461-f91042f3c273')\"\n",
       "              title=\"Convert this dataframe to an interactive table.\"\n",
       "              style=\"display:none;\">\n",
       "        \n",
       "  <svg xmlns=\"http://www.w3.org/2000/svg\" height=\"24px\"viewBox=\"0 0 24 24\"\n",
       "       width=\"24px\">\n",
       "    <path d=\"M0 0h24v24H0V0z\" fill=\"none\"/>\n",
       "    <path d=\"M18.56 5.44l.94 2.06.94-2.06 2.06-.94-2.06-.94-.94-2.06-.94 2.06-2.06.94zm-11 1L8.5 8.5l.94-2.06 2.06-.94-2.06-.94L8.5 2.5l-.94 2.06-2.06.94zm10 10l.94 2.06.94-2.06 2.06-.94-2.06-.94-.94-2.06-.94 2.06-2.06.94z\"/><path d=\"M17.41 7.96l-1.37-1.37c-.4-.4-.92-.59-1.43-.59-.52 0-1.04.2-1.43.59L10.3 9.45l-7.72 7.72c-.78.78-.78 2.05 0 2.83L4 21.41c.39.39.9.59 1.41.59.51 0 1.02-.2 1.41-.59l7.78-7.78 2.81-2.81c.8-.78.8-2.07 0-2.86zM5.41 20L4 18.59l7.72-7.72 1.47 1.35L5.41 20z\"/>\n",
       "  </svg>\n",
       "      </button>\n",
       "      \n",
       "  <style>\n",
       "    .colab-df-container {\n",
       "      display:flex;\n",
       "      flex-wrap:wrap;\n",
       "      gap: 12px;\n",
       "    }\n",
       "\n",
       "    .colab-df-convert {\n",
       "      background-color: #E8F0FE;\n",
       "      border: none;\n",
       "      border-radius: 50%;\n",
       "      cursor: pointer;\n",
       "      display: none;\n",
       "      fill: #1967D2;\n",
       "      height: 32px;\n",
       "      padding: 0 0 0 0;\n",
       "      width: 32px;\n",
       "    }\n",
       "\n",
       "    .colab-df-convert:hover {\n",
       "      background-color: #E2EBFA;\n",
       "      box-shadow: 0px 1px 2px rgba(60, 64, 67, 0.3), 0px 1px 3px 1px rgba(60, 64, 67, 0.15);\n",
       "      fill: #174EA6;\n",
       "    }\n",
       "\n",
       "    [theme=dark] .colab-df-convert {\n",
       "      background-color: #3B4455;\n",
       "      fill: #D2E3FC;\n",
       "    }\n",
       "\n",
       "    [theme=dark] .colab-df-convert:hover {\n",
       "      background-color: #434B5C;\n",
       "      box-shadow: 0px 1px 3px 1px rgba(0, 0, 0, 0.15);\n",
       "      filter: drop-shadow(0px 1px 2px rgba(0, 0, 0, 0.3));\n",
       "      fill: #FFFFFF;\n",
       "    }\n",
       "  </style>\n",
       "\n",
       "      <script>\n",
       "        const buttonEl =\n",
       "          document.querySelector('#df-3d4b7164-e249-4c96-b461-f91042f3c273 button.colab-df-convert');\n",
       "        buttonEl.style.display =\n",
       "          google.colab.kernel.accessAllowed ? 'block' : 'none';\n",
       "\n",
       "        async function convertToInteractive(key) {\n",
       "          const element = document.querySelector('#df-3d4b7164-e249-4c96-b461-f91042f3c273');\n",
       "          const dataTable =\n",
       "            await google.colab.kernel.invokeFunction('convertToInteractive',\n",
       "                                                     [key], {});\n",
       "          if (!dataTable) return;\n",
       "\n",
       "          const docLinkHtml = 'Like what you see? Visit the ' +\n",
       "            '<a target=\"_blank\" href=https://colab.research.google.com/notebooks/data_table.ipynb>data table notebook</a>'\n",
       "            + ' to learn more about interactive tables.';\n",
       "          element.innerHTML = '';\n",
       "          dataTable['output_type'] = 'display_data';\n",
       "          await google.colab.output.renderOutput(dataTable, element);\n",
       "          const docLink = document.createElement('div');\n",
       "          docLink.innerHTML = docLinkHtml;\n",
       "          element.appendChild(docLink);\n",
       "        }\n",
       "      </script>\n",
       "    </div>\n",
       "  </div>\n",
       "  "
      ],
      "text/plain": [
       "      Customer No  Churn Count  Purchase Count  Churn Percent  \\\n",
       "0         0000010            1               4          0.250   \n",
       "1         0000145            2              10          0.200   \n",
       "2         0000185            2               9          0.222   \n",
       "3         0000258            0               1          0.000   \n",
       "4         0000323            1               5          0.200   \n",
       "...           ...          ...             ...            ...   \n",
       "15796     7052591            0               1          0.000   \n",
       "15797     7052662            0               2          0.000   \n",
       "15798     7052843            0               1          0.000   \n",
       "15799     7053362            0               1          0.000   \n",
       "15800     OWNY208            0               1          0.000   \n",
       "\n",
       "       Churn Definition  \n",
       "0                     0  \n",
       "1                     0  \n",
       "2                     0  \n",
       "3                     0  \n",
       "4                     0  \n",
       "...                 ...  \n",
       "15796                 0  \n",
       "15797                 0  \n",
       "15798                 0  \n",
       "15799                 0  \n",
       "15800                 0  \n",
       "\n",
       "[15801 rows x 5 columns]"
      ]
     },
     "execution_count": 24,
     "metadata": {},
     "output_type": "execute_result"
    }
   ],
   "source": [
    "resultLabels"
   ]
  },
  {
   "cell_type": "markdown",
   "metadata": {
    "id": "_GPkI-Zfcii_"
   },
   "source": [
    "#### 2.1.2 Calculate bound based on each department's median & IQR"
   ]
  },
  {
   "cell_type": "code",
   "execution_count": null,
   "metadata": {
    "id": "eipoes_YcewA"
   },
   "outputs": [],
   "source": [
    "# lowerBoundL = findingL['Lower Bound'].mean()\n",
    "# upperBoundL = findingL['Upper Bound'].mean()"
   ]
  },
  {
   "cell_type": "code",
   "execution_count": null,
   "metadata": {
    "id": "SySsfcTickna"
   },
   "outputs": [],
   "source": [
    "# Find customers who have churned already based on last purchased date\n",
    "# labeling3L = getL.groupby('Customer No').agg(lastPurchased = ('Days from Purchased to Now', np.min)).reset_index()\n",
    "# labeling3L['Churn Definition 1'] = np.where((labeling3L['lastPurchased'] >= lowerBoundL) & (labeling3L['lastPurchased'] <= upperBoundL), 0, 1)\n",
    "# labeling3L['Churn Definition 1'].value_counts()"
   ]
  },
  {
   "cell_type": "code",
   "execution_count": null,
   "metadata": {
    "id": "8QzBqIBicnGM"
   },
   "outputs": [],
   "source": [
    "# Find customers who have churned already based on purchased history\n",
    "# countChurn1L = getL.copy()\n",
    "# countChurn1L['Churn Count'] = np.where(countChurn1L['Days from previous purchase'] > upperBoundL, 1, 0)\n",
    "# countChurn1L\n",
    "# labeling4L = pd.DataFrame(countChurn1L.groupby(['Customer No']).agg({'Churn Count': 'sum'})).reset_index()\n",
    "# labeling4L['Churn Definition 2'] = np.where(labeling4L['Churn Count'] > 0, 1, 0)\n",
    "# labeling4L['Churn Definition 2'].value_counts()"
   ]
  },
  {
   "cell_type": "markdown",
   "metadata": {
    "id": "bLlJaXqedO6t"
   },
   "source": [
    "#### 2.1.3 Calculate bound based on all differences in Labels Department"
   ]
  },
  {
   "cell_type": "code",
   "execution_count": null,
   "metadata": {
    "id": "q3Q2RGjFc0CC"
   },
   "outputs": [],
   "source": [
    "# q1L = previousL['Days from previous purchase'].quantile(.25)\n",
    "# q3L = previousL['Days from previous purchase'].quantile(.75)\n",
    "# IQRL = q3L - q1L\n",
    "# MedianL = previousL['Days from previous purchase'].median()\n",
    "# nL = previousL.shape[0]\n",
    "# lowerL = MedianL - 4.5 * IQRL \n",
    "# upperL = MedianL + 4.5 * IQRL"
   ]
  },
  {
   "cell_type": "code",
   "execution_count": null,
   "metadata": {
    "id": "yY6M2zK0dRp2"
   },
   "outputs": [],
   "source": [
    "# Find customers who have churned already based on last purchased date\n",
    "# labeling5L = getL.groupby('Customer No').agg(lastPurchased = ('Days from Purchased to Now', np.min)).reset_index()\n",
    "# labeling5L['Churn Definition 1'] = np.where((labeling5L['lastPurchased'] >= lowerL) & (labeling5L['lastPurchased'] <= upperL), 0, 1)\n",
    "# labeling5L\n",
    "# labeling5L['Churn Definition 1'].value_counts()"
   ]
  },
  {
   "cell_type": "code",
   "execution_count": null,
   "metadata": {
    "id": "rVGeEVAwdTK2"
   },
   "outputs": [],
   "source": [
    "# Find customers who have churned already based on purchased history\n",
    "# countChurn2L = getL.copy()\n",
    "# countChurn2L['Churn Count'] = np.where((countChurn2L['Days from previous purchase'] >= lowerL) & (countChurn2L['Days from previous purchase'] <= upperL), 0, 1)\n",
    "# countChurn2L\n",
    "# labeling6L = pd.DataFrame(countChurn2L.groupby(['Customer No']).agg({'Churn Count': 'sum'})).reset_index()\n",
    "# labeling6L['Churn Definition 2'] = np.where(labeling6L['Churn Count'] > 0, 1, 0)\n",
    "# labeling6L['Churn Definition 2'].value_counts()"
   ]
  },
  {
   "cell_type": "markdown",
   "metadata": {
    "id": "UOEjuJlfdU_5"
   },
   "source": [
    "## 3. Group by Family's Industry"
   ]
  },
  {
   "cell_type": "code",
   "execution_count": null,
   "metadata": {
    "id": "OXZONkgkFFEo"
   },
   "outputs": [],
   "source": [
    "# # Seperate into different Department\n",
    "# industryName = myData['Family_Industry_Description_New__c'].unique()\n",
    "# industryName"
   ]
  },
  {
   "cell_type": "code",
   "execution_count": null,
   "metadata": {
    "id": "DHZAxfh9dtjK"
   },
   "outputs": [],
   "source": [
    "# industry_sales.Family_Industry_Description_New__c.value_counts()"
   ]
  },
  {
   "cell_type": "markdown",
   "metadata": {
    "id": "EOfkwyAid1Mt"
   },
   "source": [
    "### 3.1 Example - look into Chemical Industry"
   ]
  },
  {
   "cell_type": "code",
   "execution_count": null,
   "metadata": {
    "id": "K32koCK1d47k"
   },
   "outputs": [],
   "source": [
    "# # Seperate into different Industry\n",
    "# Chemical = myData[myData['Family_Industry_Description_New__c'] == 'Chemical'].reset_index(drop = True)\n",
    "# Chemical.shape"
   ]
  },
  {
   "cell_type": "code",
   "execution_count": null,
   "metadata": {
    "id": "r_fRrZL2eGK3"
   },
   "outputs": [],
   "source": [
    "# Chemical"
   ]
  },
  {
   "cell_type": "code",
   "execution_count": null,
   "metadata": {
    "id": "8u13NLWuLp2y"
   },
   "outputs": [],
   "source": [
    "# Chemical['Customer No'].value_counts()"
   ]
  },
  {
   "cell_type": "code",
   "execution_count": null,
   "metadata": {
    "id": "jkMXrffeLRZz"
   },
   "outputs": [],
   "source": [
    "# # Sum Quantity Order/Line Item Amount group by Customer No & Purchase date\n",
    "# summChemical = Chemical.groupby(['Customer No', 'Posting Date', 'Days from 1st Purchase', 'Days from Purchased to Now']).agg({'Quantity Ordered': 'sum', 'Line Item Amount': 'sum'}).reset_index()\n",
    "# summChemical.columns = ['Customer No', 'Posting Date', 'Days from 1st Purchase', 'Days from Purchased to Now', 'Total Quantity Ordered', 'Total Line Item Amount']\n",
    "# # Deal with those who have only purchased once\n",
    "# remC= summChemical['Customer No'].value_counts().reset_index()\n",
    "# remC.columns = ['Customer No', 'Count']\n",
    "# summChemical = pd.merge(summChemical, remC, on='Customer No')\n",
    "# summChemical = summChemical[summChemical['Count'] != 1].reset_index(drop=True)\n",
    "# summChemical['Customer No'].value_counts()"
   ]
  },
  {
   "cell_type": "markdown",
   "metadata": {
    "id": "NL4S27taeQAs"
   },
   "source": [
    "#### 3.1.1 Calculate bound based on each customer's median & IQR"
   ]
  },
  {
   "cell_type": "code",
   "execution_count": null,
   "metadata": {
    "id": "YZrpHNMBL6kE"
   },
   "outputs": [],
   "source": [
    "# # Calculate the number of days between consecutive purchases\n",
    "# summChemical['Days from previous purchase'] = summChemical.groupby(['Customer No'])['Days from 1st Purchase'].diff().reset_index(drop = True)\n",
    "# summChemical = summChemical.dropna()\n",
    "# summChemical.shape"
   ]
  },
  {
   "cell_type": "code",
   "execution_count": null,
   "metadata": {
    "id": "buZKBKeaeTa9"
   },
   "outputs": [],
   "source": [
    "# # Find median, IQR, lower bound, upper bound\n",
    "# medianC = summChemical.groupby('Customer No')['Days from previous purchase'].agg(['median', 'count']).reset_index()\n",
    "# iqrC = summChemical.groupby('Customer No')['Days from previous purchase'].agg(iqr).reset_index()\n",
    "# findingC = pd.merge(medianC, iqrC, on='Customer No')\n",
    "# findingC.columns = ['Customer No', 'Median', 'Count', 'IQR']\n",
    "# findingC['Lower Bound'] = findingC['Median'] - 3 * findingC['IQR'] / np.sqrt(findingC['Count'])\n",
    "# findingC['Upper Bound'] = findingC['Median'] + 3 * findingC['IQR'] / np.sqrt(findingC['Count'])\n",
    "# findingC"
   ]
  },
  {
   "cell_type": "code",
   "execution_count": null,
   "metadata": {
    "id": "bXZbAFg8eVGG"
   },
   "outputs": [],
   "source": [
    "# getC = pd.merge(summChemical[['Customer No', 'Days from 1st Purchase', 'Days from Purchased to Now', 'Days from previous purchase']], findingC[['Customer No', 'Lower Bound', 'Upper Bound']], on = 'Customer No')\n",
    "# getC"
   ]
  },
  {
   "cell_type": "code",
   "execution_count": null,
   "metadata": {
    "id": "y92Ln_fveWoZ"
   },
   "outputs": [],
   "source": [
    "# Find customers who have churned already based on last purchased date\n",
    "# labeling1C = getC.groupby('Customer No').agg(lastPurchased = ('Days from Purchased to Now', np.min)).reset_index()\n",
    "# labeling1C = pd.merge(getC[['Customer No', 'Lower Bound', 'Upper Bound']].drop_duplicates(), labeling1C, on='Customer No')\n",
    "# labeling1C['Churn Definition 1'] = np.where((labeling1C['lastPurchased'] >= labeling1C['Lower Bound']) & (labeling1C['lastPurchased'] <= labeling1C['Upper Bound']), 0, 1)\n",
    "# labeling1C['Churn Definition 1'].value_counts()"
   ]
  },
  {
   "cell_type": "code",
   "execution_count": null,
   "metadata": {
    "id": "0aFq1NBaFFEr"
   },
   "outputs": [],
   "source": [
    "# # Find customers who have churned already based on purchased history\n",
    "# countChurnC = getC.copy()\n",
    "# countChurnC['Churn Count'] = np.where((countChurnC['Days from previous purchase'] >= countChurnC['Lower Bound']) & (countChurnC['Days from previous purchase'] <= countChurnC['Upper Bound']), 0, 1)\n",
    "# resultChemical = countChurnC.groupby('Customer No')['Churn Count'].agg(['sum', 'count']).reset_index()\n",
    "# resultChemical.columns = ['Customer No', 'Churn Count', 'Purchase Count']\n",
    "# resultChemical['Churn Percent'] = round(resultChemical['Churn Count'] / resultChemical['Purchase Count'], 3)\n",
    "# resultChemical['Churn Definition'] = np.where(resultChemical['Churn Count'] > (resultChemical['Purchase Count']/3), 1, 0)\n",
    "# resultChemical['Churn Definition'].value_counts()"
   ]
  },
  {
   "cell_type": "code",
   "execution_count": null,
   "metadata": {
    "id": "1F8Sjh6SFFEr"
   },
   "outputs": [],
   "source": [
    "# resultChemical"
   ]
  },
  {
   "cell_type": "markdown",
   "metadata": {
    "id": "GjV8v_9Feh9P"
   },
   "source": [
    "#### 3.1.2 Calculate bound based on each industry's median & IQR"
   ]
  },
  {
   "cell_type": "code",
   "execution_count": null,
   "metadata": {
    "id": "5o5dJWIwejlK"
   },
   "outputs": [],
   "source": [
    "# lowerBoundC = findingC['Lower Bound'].mean()\n",
    "# upperBoundC = findingC['Upper Bound'].mean()"
   ]
  },
  {
   "cell_type": "code",
   "execution_count": null,
   "metadata": {
    "id": "g5efv558elMX"
   },
   "outputs": [],
   "source": [
    "# # Find customers who have churned already based on last purchased date\n",
    "# labeling3C = getC.groupby('Customer No').agg(lastPurchased = ('Days from Purchased to Now', np.min)).reset_index()\n",
    "# labeling3C['Churn Definition 1'] = np.where((labeling3C['lastPurchased'] >= lowerBoundC) & (labeling3C['lastPurchased'] <= upperBoundC), 0, 1)\n",
    "# labeling3C['Churn Definition 1'].value_counts()"
   ]
  },
  {
   "cell_type": "code",
   "execution_count": null,
   "metadata": {
    "id": "9J6whdjfen0o"
   },
   "outputs": [],
   "source": [
    "# Find customers who have churned already based on purchased history\n",
    "# countChurn1C = getC.copy()\n",
    "# countChurn1C['Churn Count'] = np.where((countChurn1C['Days from previous purchase'] >= lowerBoundC) & (countChurn1C['Days from previous purchase'] <= upperBoundC), 0, 1)\n",
    "# labeling4C = pd.DataFrame(countChurn1C.groupby(['Customer No']).agg({'Churn Count': 'sum'})).reset_index()\n",
    "# labeling4C['Churn Definition 2'] = np.where(labeling4C['Churn Count'] > 0, 1, 0)\n",
    "# labeling4C['Churn Definition 2'].value_counts()"
   ]
  },
  {
   "cell_type": "markdown",
   "metadata": {
    "id": "YteSm_KEexaT"
   },
   "source": [
    "#### 2.1.3 Calculate bound based on all differences in Chemical Industry"
   ]
  },
  {
   "cell_type": "code",
   "execution_count": null,
   "metadata": {
    "id": "ZCvYG5MHewsV"
   },
   "outputs": [],
   "source": [
    "# q1C = previousC['Days from previous purchase'].quantile(.25)\n",
    "# q3C = previousC['Days from previous purchase'].quantile(.75)\n",
    "# IQRC = q3C - q1C\n",
    "# MedianC = previousC['Days from previous purchase'].median()\n",
    "# nC = previousC.shape[0]\n",
    "# lowerC = MedianC - 4.5 * IQRC\n",
    "# upperC = MedianC + 4.5 * IQRC"
   ]
  },
  {
   "cell_type": "code",
   "execution_count": null,
   "metadata": {
    "id": "VLeaoJCnezoH"
   },
   "outputs": [],
   "source": [
    "# # Find customers who have churned already based on last purchased date\n",
    "# labeling5C = getC.groupby('Customer No').agg(lastPurchased = ('Days from Purchased to Now', np.min)).reset_index()\n",
    "# labeling5C['Churn Definition 1'] = np.where((labeling5C['lastPurchased'] >= lowerC) & (labeling5C['lastPurchased'] <= upperC), 0, 1)\n",
    "# labeling5C\n",
    "# labeling5C['Churn Definition 1'].value_counts()"
   ]
  },
  {
   "cell_type": "code",
   "execution_count": null,
   "metadata": {
    "id": "l2sGLIx4e1M2"
   },
   "outputs": [],
   "source": [
    "# Find customers who have churned already based on purchased history\n",
    "# countChurn2C = getC.copy()\n",
    "# countChurn2C['Churn Count'] = np.where((countChurn2C['Days from previous purchase'] >= lowerC) & (countChurn2C['Days from previous purchase'] <= upperC), 0, 1)\n",
    "# labeling6C = pd.DataFrame(countChurn2C.groupby(['Customer No']).agg({'Churn Count': 'sum'})).reset_index()\n",
    "# labeling6C['Churn Definition 2'] = np.where(labeling6C['Churn Count'] > (findingC['Count']/2), 1, 0)\n",
    "# # labeling6C['Churn Definition 2'] = np.where(labeling6C['Churn Count'] > 0, 1, 0)\n",
    "# labeling6C['Churn Definition 2'].value_counts()"
   ]
  },
  {
   "cell_type": "markdown",
   "metadata": {
    "id": "iu_EtKV2FFEt"
   },
   "source": [
    "## 4. Combine the result"
   ]
  },
  {
   "cell_type": "markdown",
   "metadata": {
    "id": "NfLGs8V6FFEt"
   },
   "source": [
    "### 4.1 Function to define churn"
   ]
  },
  {
   "cell_type": "code",
   "execution_count": 25,
   "metadata": {
    "id": "nlvankqXNhih"
   },
   "outputs": [],
   "source": [
    "def defineChurn(df):\n",
    "    # Sum Quantity Order/Line Item Amount group by Customer No & Purchase date\n",
    "    summ = df.groupby(['Customer No', 'Posting Date', 'Days from 1st Purchase']).agg({'Quantity Ordered': 'sum', 'Line Item Amount': 'sum'}).reset_index()\n",
    "    summ.columns = ['Customer No', 'Posting Date', 'Days from 1st Purchase', 'Total Quantity Ordered', 'Total Line Item Amount']\n",
    "    \n",
    "    # Deal with those who have only purchased once\n",
    "    rem= summ['Customer No'].value_counts().reset_index()\n",
    "    rem.columns = ['Customer No', 'Count']\n",
    "    summ = pd.merge(summ, rem, on='Customer No')\n",
    "    one = summ[summ['Count'] == 1].reset_index(drop=True)\n",
    "    summ = summ[summ['Count'] != 1].reset_index(drop=True)\n",
    "    result = pd.DataFrame()\n",
    "    \n",
    "    if summ.empty == False:\n",
    "        # Calculate the number of days between consecutive purchases\n",
    "        summ['Days from previous purchase'] = summ.groupby(['Customer No'])['Days from 1st Purchase'].diff().reset_index(drop = True)\n",
    "        summ = summ.dropna()\n",
    "        \n",
    "        # Find median, iqr, lower/upper bound\n",
    "        Median = summ.groupby('Customer No')['Days from previous purchase'].agg(['median', 'count']).reset_index()\n",
    "        IQR = summ.groupby('Customer No')['Days from previous purchase'].agg(iqr).reset_index()\n",
    "        finding = pd.merge(Median, IQR, on='Customer No')\n",
    "        finding.columns = ['Customer No', 'Median', 'Count', 'IQR']\n",
    "        finding['Lower Bound'] = finding['Median'] - 3 * finding['IQR'] / np.sqrt(finding['Count'])\n",
    "        finding['Upper Bound'] = finding['Median'] + 3 * finding['IQR'] / np.sqrt(finding['Count'])\n",
    "        get = pd.merge(summ[['Customer No', 'Days from 1st Purchase', 'Days from previous purchase']], finding[['Customer No', 'Lower Bound', 'Upper Bound']], on = 'Customer No')\n",
    "        \n",
    "        # Calculate Churn times\n",
    "        countChurn = get.copy()\n",
    "        countChurn['Churn Count'] = np.where((countChurn['Days from previous purchase'] >= countChurn['Lower Bound']) & (countChurn['Days from previous purchase'] <= countChurn['Upper Bound']), 0, 1)\n",
    "        result = countChurn.groupby('Customer No')['Churn Count'].agg(['sum', 'count']).reset_index()\n",
    "        result.columns = ['Customer No', 'Churn Count', 'Purchase Count']\n",
    "        result['Churn Percent'] = round(result['Churn Count'] / result['Purchase Count'], 3)\n",
    "        result['Churn'] = np.where(result['Churn Count'] > (result['Purchase Count']/3), 1, 0)\n",
    "        return one, result[['Customer No', 'Churn', 'Churn Percent']]\n",
    "    return one, result"
   ]
  },
  {
   "cell_type": "markdown",
   "metadata": {
    "id": "O5TaIVoCFFEu"
   },
   "source": [
    "### 4.2 Department"
   ]
  },
  {
   "cell_type": "code",
   "execution_count": 26,
   "metadata": {
    "id": "pc4yLbl7FFEu"
   },
   "outputs": [],
   "source": [
    "moreDepartment = pd.DataFrame()\n",
    "oneDepartment = pd.DataFrame()\n",
    "for name in departmentName:\n",
    "    df = myData[myData['Department Dim Description'] == name].reset_index(drop=True)\n",
    "    one, r = defineChurn(df)\n",
    "    oneDepartment = pd.concat([oneDepartment, one])\n",
    "    if r.empty == False:\n",
    "        r['Department'] = name\n",
    "        moreDepartment = pd.concat([moreDepartment, r])"
   ]
  },
  {
   "cell_type": "code",
   "execution_count": 27,
   "metadata": {
    "colab": {
     "base_uri": "https://localhost:8080/",
     "height": 419
    },
    "id": "dbS-xSiKFFEu",
    "outputId": "8e6aead5-e9e9-4de7-dec2-85a144a5dae9"
   },
   "outputs": [
    {
     "data": {
      "text/html": [
       "\n",
       "  <div id=\"df-3e2ff5db-7b3f-4095-a5e5-bcaef96657d8\">\n",
       "    <div class=\"colab-df-container\">\n",
       "      <div>\n",
       "<style scoped>\n",
       "    .dataframe tbody tr th:only-of-type {\n",
       "        vertical-align: middle;\n",
       "    }\n",
       "\n",
       "    .dataframe tbody tr th {\n",
       "        vertical-align: top;\n",
       "    }\n",
       "\n",
       "    .dataframe thead th {\n",
       "        text-align: right;\n",
       "    }\n",
       "</style>\n",
       "<table border=\"1\" class=\"dataframe\">\n",
       "  <thead>\n",
       "    <tr style=\"text-align: right;\">\n",
       "      <th></th>\n",
       "      <th>0</th>\n",
       "    </tr>\n",
       "  </thead>\n",
       "  <tbody>\n",
       "    <tr>\n",
       "      <th>0</th>\n",
       "      <td>0001697</td>\n",
       "    </tr>\n",
       "    <tr>\n",
       "      <th>1</th>\n",
       "      <td>0001791</td>\n",
       "    </tr>\n",
       "    <tr>\n",
       "      <th>2</th>\n",
       "      <td>0005573</td>\n",
       "    </tr>\n",
       "    <tr>\n",
       "      <th>3</th>\n",
       "      <td>0009901</td>\n",
       "    </tr>\n",
       "    <tr>\n",
       "      <th>4</th>\n",
       "      <td>0011647</td>\n",
       "    </tr>\n",
       "    <tr>\n",
       "      <th>...</th>\n",
       "      <td>...</td>\n",
       "    </tr>\n",
       "    <tr>\n",
       "      <th>75757</th>\n",
       "      <td>2500333</td>\n",
       "    </tr>\n",
       "    <tr>\n",
       "      <th>75758</th>\n",
       "      <td>2500334</td>\n",
       "    </tr>\n",
       "    <tr>\n",
       "      <th>75759</th>\n",
       "      <td>2500335</td>\n",
       "    </tr>\n",
       "    <tr>\n",
       "      <th>75760</th>\n",
       "      <td>2500338</td>\n",
       "    </tr>\n",
       "    <tr>\n",
       "      <th>75761</th>\n",
       "      <td>2500340</td>\n",
       "    </tr>\n",
       "  </tbody>\n",
       "</table>\n",
       "<p>75762 rows × 1 columns</p>\n",
       "</div>\n",
       "      <button class=\"colab-df-convert\" onclick=\"convertToInteractive('df-3e2ff5db-7b3f-4095-a5e5-bcaef96657d8')\"\n",
       "              title=\"Convert this dataframe to an interactive table.\"\n",
       "              style=\"display:none;\">\n",
       "        \n",
       "  <svg xmlns=\"http://www.w3.org/2000/svg\" height=\"24px\"viewBox=\"0 0 24 24\"\n",
       "       width=\"24px\">\n",
       "    <path d=\"M0 0h24v24H0V0z\" fill=\"none\"/>\n",
       "    <path d=\"M18.56 5.44l.94 2.06.94-2.06 2.06-.94-2.06-.94-.94-2.06-.94 2.06-2.06.94zm-11 1L8.5 8.5l.94-2.06 2.06-.94-2.06-.94L8.5 2.5l-.94 2.06-2.06.94zm10 10l.94 2.06.94-2.06 2.06-.94-2.06-.94-.94-2.06-.94 2.06-2.06.94z\"/><path d=\"M17.41 7.96l-1.37-1.37c-.4-.4-.92-.59-1.43-.59-.52 0-1.04.2-1.43.59L10.3 9.45l-7.72 7.72c-.78.78-.78 2.05 0 2.83L4 21.41c.39.39.9.59 1.41.59.51 0 1.02-.2 1.41-.59l7.78-7.78 2.81-2.81c.8-.78.8-2.07 0-2.86zM5.41 20L4 18.59l7.72-7.72 1.47 1.35L5.41 20z\"/>\n",
       "  </svg>\n",
       "      </button>\n",
       "      \n",
       "  <style>\n",
       "    .colab-df-container {\n",
       "      display:flex;\n",
       "      flex-wrap:wrap;\n",
       "      gap: 12px;\n",
       "    }\n",
       "\n",
       "    .colab-df-convert {\n",
       "      background-color: #E8F0FE;\n",
       "      border: none;\n",
       "      border-radius: 50%;\n",
       "      cursor: pointer;\n",
       "      display: none;\n",
       "      fill: #1967D2;\n",
       "      height: 32px;\n",
       "      padding: 0 0 0 0;\n",
       "      width: 32px;\n",
       "    }\n",
       "\n",
       "    .colab-df-convert:hover {\n",
       "      background-color: #E2EBFA;\n",
       "      box-shadow: 0px 1px 2px rgba(60, 64, 67, 0.3), 0px 1px 3px 1px rgba(60, 64, 67, 0.15);\n",
       "      fill: #174EA6;\n",
       "    }\n",
       "\n",
       "    [theme=dark] .colab-df-convert {\n",
       "      background-color: #3B4455;\n",
       "      fill: #D2E3FC;\n",
       "    }\n",
       "\n",
       "    [theme=dark] .colab-df-convert:hover {\n",
       "      background-color: #434B5C;\n",
       "      box-shadow: 0px 1px 3px 1px rgba(0, 0, 0, 0.15);\n",
       "      filter: drop-shadow(0px 1px 2px rgba(0, 0, 0, 0.3));\n",
       "      fill: #FFFFFF;\n",
       "    }\n",
       "  </style>\n",
       "\n",
       "      <script>\n",
       "        const buttonEl =\n",
       "          document.querySelector('#df-3e2ff5db-7b3f-4095-a5e5-bcaef96657d8 button.colab-df-convert');\n",
       "        buttonEl.style.display =\n",
       "          google.colab.kernel.accessAllowed ? 'block' : 'none';\n",
       "\n",
       "        async function convertToInteractive(key) {\n",
       "          const element = document.querySelector('#df-3e2ff5db-7b3f-4095-a5e5-bcaef96657d8');\n",
       "          const dataTable =\n",
       "            await google.colab.kernel.invokeFunction('convertToInteractive',\n",
       "                                                     [key], {});\n",
       "          if (!dataTable) return;\n",
       "\n",
       "          const docLinkHtml = 'Like what you see? Visit the ' +\n",
       "            '<a target=\"_blank\" href=https://colab.research.google.com/notebooks/data_table.ipynb>data table notebook</a>'\n",
       "            + ' to learn more about interactive tables.';\n",
       "          element.innerHTML = '';\n",
       "          dataTable['output_type'] = 'display_data';\n",
       "          await google.colab.output.renderOutput(dataTable, element);\n",
       "          const docLink = document.createElement('div');\n",
       "          docLink.innerHTML = docLinkHtml;\n",
       "          element.appendChild(docLink);\n",
       "        }\n",
       "      </script>\n",
       "    </div>\n",
       "  </div>\n",
       "  "
      ],
      "text/plain": [
       "             0\n",
       "0      0001697\n",
       "1      0001791\n",
       "2      0005573\n",
       "3      0009901\n",
       "4      0011647\n",
       "...        ...\n",
       "75757  2500333\n",
       "75758  2500334\n",
       "75759  2500335\n",
       "75760  2500338\n",
       "75761  2500340\n",
       "\n",
       "[75762 rows x 1 columns]"
      ]
     },
     "execution_count": 27,
     "metadata": {},
     "output_type": "execute_result"
    }
   ],
   "source": [
    "# In either department, customer has purchased only once\n",
    "pd.DataFrame(oneDepartment['Customer No'].unique())"
   ]
  },
  {
   "cell_type": "code",
   "execution_count": 28,
   "metadata": {
    "colab": {
     "base_uri": "https://localhost:8080/",
     "height": 419
    },
    "id": "C-MO41L1FFEu",
    "outputId": "132e0711-3dd4-45ec-acb8-87a1aa84de63"
   },
   "outputs": [
    {
     "data": {
      "text/html": [
       "\n",
       "  <div id=\"df-4933bc09-d24b-48e1-a1b2-fe22a381e702\">\n",
       "    <div class=\"colab-df-container\">\n",
       "      <div>\n",
       "<style scoped>\n",
       "    .dataframe tbody tr th:only-of-type {\n",
       "        vertical-align: middle;\n",
       "    }\n",
       "\n",
       "    .dataframe tbody tr th {\n",
       "        vertical-align: top;\n",
       "    }\n",
       "\n",
       "    .dataframe thead th {\n",
       "        text-align: right;\n",
       "    }\n",
       "</style>\n",
       "<table border=\"1\" class=\"dataframe\">\n",
       "  <thead>\n",
       "    <tr style=\"text-align: right;\">\n",
       "      <th></th>\n",
       "      <th>Customer No</th>\n",
       "      <th>Churn</th>\n",
       "      <th>Churn Percent</th>\n",
       "      <th>Department</th>\n",
       "    </tr>\n",
       "  </thead>\n",
       "  <tbody>\n",
       "    <tr>\n",
       "      <th>0</th>\n",
       "      <td>0000323</td>\n",
       "      <td>0</td>\n",
       "      <td>0.000</td>\n",
       "      <td>Software</td>\n",
       "    </tr>\n",
       "    <tr>\n",
       "      <th>1</th>\n",
       "      <td>0000678</td>\n",
       "      <td>0</td>\n",
       "      <td>0.333</td>\n",
       "      <td>Software</td>\n",
       "    </tr>\n",
       "    <tr>\n",
       "      <th>2</th>\n",
       "      <td>0000919</td>\n",
       "      <td>0</td>\n",
       "      <td>0.286</td>\n",
       "      <td>Software</td>\n",
       "    </tr>\n",
       "    <tr>\n",
       "      <th>3</th>\n",
       "      <td>0000969</td>\n",
       "      <td>0</td>\n",
       "      <td>0.000</td>\n",
       "      <td>Software</td>\n",
       "    </tr>\n",
       "    <tr>\n",
       "      <th>4</th>\n",
       "      <td>0001232</td>\n",
       "      <td>0</td>\n",
       "      <td>0.333</td>\n",
       "      <td>Software</td>\n",
       "    </tr>\n",
       "    <tr>\n",
       "      <th>...</th>\n",
       "      <td>...</td>\n",
       "      <td>...</td>\n",
       "      <td>...</td>\n",
       "      <td>...</td>\n",
       "    </tr>\n",
       "    <tr>\n",
       "      <th>170</th>\n",
       "      <td>2500336</td>\n",
       "      <td>0</td>\n",
       "      <td>0.000</td>\n",
       "      <td>LSI- Consulting</td>\n",
       "    </tr>\n",
       "    <tr>\n",
       "      <th>171</th>\n",
       "      <td>2500337</td>\n",
       "      <td>0</td>\n",
       "      <td>0.000</td>\n",
       "      <td>LSI- Consulting</td>\n",
       "    </tr>\n",
       "    <tr>\n",
       "      <th>172</th>\n",
       "      <td>2500342</td>\n",
       "      <td>0</td>\n",
       "      <td>0.000</td>\n",
       "      <td>LSI- Consulting</td>\n",
       "    </tr>\n",
       "    <tr>\n",
       "      <th>0</th>\n",
       "      <td>2500185</td>\n",
       "      <td>0</td>\n",
       "      <td>0.250</td>\n",
       "      <td>LSI- E-Learning</td>\n",
       "    </tr>\n",
       "    <tr>\n",
       "      <th>0</th>\n",
       "      <td>3050552</td>\n",
       "      <td>1</td>\n",
       "      <td>0.368</td>\n",
       "      <td>Fed-Ex US Development</td>\n",
       "    </tr>\n",
       "  </tbody>\n",
       "</table>\n",
       "<p>82130 rows × 4 columns</p>\n",
       "</div>\n",
       "      <button class=\"colab-df-convert\" onclick=\"convertToInteractive('df-4933bc09-d24b-48e1-a1b2-fe22a381e702')\"\n",
       "              title=\"Convert this dataframe to an interactive table.\"\n",
       "              style=\"display:none;\">\n",
       "        \n",
       "  <svg xmlns=\"http://www.w3.org/2000/svg\" height=\"24px\"viewBox=\"0 0 24 24\"\n",
       "       width=\"24px\">\n",
       "    <path d=\"M0 0h24v24H0V0z\" fill=\"none\"/>\n",
       "    <path d=\"M18.56 5.44l.94 2.06.94-2.06 2.06-.94-2.06-.94-.94-2.06-.94 2.06-2.06.94zm-11 1L8.5 8.5l.94-2.06 2.06-.94-2.06-.94L8.5 2.5l-.94 2.06-2.06.94zm10 10l.94 2.06.94-2.06 2.06-.94-2.06-.94-.94-2.06-.94 2.06-2.06.94z\"/><path d=\"M17.41 7.96l-1.37-1.37c-.4-.4-.92-.59-1.43-.59-.52 0-1.04.2-1.43.59L10.3 9.45l-7.72 7.72c-.78.78-.78 2.05 0 2.83L4 21.41c.39.39.9.59 1.41.59.51 0 1.02-.2 1.41-.59l7.78-7.78 2.81-2.81c.8-.78.8-2.07 0-2.86zM5.41 20L4 18.59l7.72-7.72 1.47 1.35L5.41 20z\"/>\n",
       "  </svg>\n",
       "      </button>\n",
       "      \n",
       "  <style>\n",
       "    .colab-df-container {\n",
       "      display:flex;\n",
       "      flex-wrap:wrap;\n",
       "      gap: 12px;\n",
       "    }\n",
       "\n",
       "    .colab-df-convert {\n",
       "      background-color: #E8F0FE;\n",
       "      border: none;\n",
       "      border-radius: 50%;\n",
       "      cursor: pointer;\n",
       "      display: none;\n",
       "      fill: #1967D2;\n",
       "      height: 32px;\n",
       "      padding: 0 0 0 0;\n",
       "      width: 32px;\n",
       "    }\n",
       "\n",
       "    .colab-df-convert:hover {\n",
       "      background-color: #E2EBFA;\n",
       "      box-shadow: 0px 1px 2px rgba(60, 64, 67, 0.3), 0px 1px 3px 1px rgba(60, 64, 67, 0.15);\n",
       "      fill: #174EA6;\n",
       "    }\n",
       "\n",
       "    [theme=dark] .colab-df-convert {\n",
       "      background-color: #3B4455;\n",
       "      fill: #D2E3FC;\n",
       "    }\n",
       "\n",
       "    [theme=dark] .colab-df-convert:hover {\n",
       "      background-color: #434B5C;\n",
       "      box-shadow: 0px 1px 3px 1px rgba(0, 0, 0, 0.15);\n",
       "      filter: drop-shadow(0px 1px 2px rgba(0, 0, 0, 0.3));\n",
       "      fill: #FFFFFF;\n",
       "    }\n",
       "  </style>\n",
       "\n",
       "      <script>\n",
       "        const buttonEl =\n",
       "          document.querySelector('#df-4933bc09-d24b-48e1-a1b2-fe22a381e702 button.colab-df-convert');\n",
       "        buttonEl.style.display =\n",
       "          google.colab.kernel.accessAllowed ? 'block' : 'none';\n",
       "\n",
       "        async function convertToInteractive(key) {\n",
       "          const element = document.querySelector('#df-4933bc09-d24b-48e1-a1b2-fe22a381e702');\n",
       "          const dataTable =\n",
       "            await google.colab.kernel.invokeFunction('convertToInteractive',\n",
       "                                                     [key], {});\n",
       "          if (!dataTable) return;\n",
       "\n",
       "          const docLinkHtml = 'Like what you see? Visit the ' +\n",
       "            '<a target=\"_blank\" href=https://colab.research.google.com/notebooks/data_table.ipynb>data table notebook</a>'\n",
       "            + ' to learn more about interactive tables.';\n",
       "          element.innerHTML = '';\n",
       "          dataTable['output_type'] = 'display_data';\n",
       "          await google.colab.output.renderOutput(dataTable, element);\n",
       "          const docLink = document.createElement('div');\n",
       "          docLink.innerHTML = docLinkHtml;\n",
       "          element.appendChild(docLink);\n",
       "        }\n",
       "      </script>\n",
       "    </div>\n",
       "  </div>\n",
       "  "
      ],
      "text/plain": [
       "    Customer No  Churn  Churn Percent             Department\n",
       "0       0000323      0          0.000               Software\n",
       "1       0000678      0          0.333               Software\n",
       "2       0000919      0          0.286               Software\n",
       "3       0000969      0          0.000               Software\n",
       "4       0001232      0          0.333               Software\n",
       "..          ...    ...            ...                    ...\n",
       "170     2500336      0          0.000        LSI- Consulting\n",
       "171     2500337      0          0.000        LSI- Consulting\n",
       "172     2500342      0          0.000        LSI- Consulting\n",
       "0       2500185      0          0.250        LSI- E-Learning\n",
       "0       3050552      1          0.368  Fed-Ex US Development\n",
       "\n",
       "[82130 rows x 4 columns]"
      ]
     },
     "execution_count": 28,
     "metadata": {},
     "output_type": "execute_result"
    }
   ],
   "source": [
    "moreDepartment"
   ]
  },
  {
   "cell_type": "code",
   "execution_count": 29,
   "metadata": {
    "id": "q_YVoCJ4FFEv"
   },
   "outputs": [],
   "source": [
    "# Groupby each customer to see the overall performance in all Department\n",
    "finalDepartment = moreDepartment.groupby('Customer No')['Churn'].agg(['count', 'sum']).reset_index()"
   ]
  },
  {
   "cell_type": "code",
   "execution_count": 30,
   "metadata": {
    "colab": {
     "base_uri": "https://localhost:8080/",
     "height": 419
    },
    "id": "WcW4hpilFFEv",
    "outputId": "8a9e1b56-7680-4d3f-8307-34d1027c78a9"
   },
   "outputs": [
    {
     "data": {
      "text/html": [
       "\n",
       "  <div id=\"df-753b5231-74be-447b-8178-835df8941d32\">\n",
       "    <div class=\"colab-df-container\">\n",
       "      <div>\n",
       "<style scoped>\n",
       "    .dataframe tbody tr th:only-of-type {\n",
       "        vertical-align: middle;\n",
       "    }\n",
       "\n",
       "    .dataframe tbody tr th {\n",
       "        vertical-align: top;\n",
       "    }\n",
       "\n",
       "    .dataframe thead th {\n",
       "        text-align: right;\n",
       "    }\n",
       "</style>\n",
       "<table border=\"1\" class=\"dataframe\">\n",
       "  <thead>\n",
       "    <tr style=\"text-align: right;\">\n",
       "      <th></th>\n",
       "      <th>0</th>\n",
       "    </tr>\n",
       "  </thead>\n",
       "  <tbody>\n",
       "    <tr>\n",
       "      <th>0</th>\n",
       "      <td>.</td>\n",
       "    </tr>\n",
       "    <tr>\n",
       "      <th>1</th>\n",
       "      <td>0000010</td>\n",
       "    </tr>\n",
       "    <tr>\n",
       "      <th>2</th>\n",
       "      <td>0000133</td>\n",
       "    </tr>\n",
       "    <tr>\n",
       "      <th>3</th>\n",
       "      <td>0000145</td>\n",
       "    </tr>\n",
       "    <tr>\n",
       "      <th>4</th>\n",
       "      <td>0000185</td>\n",
       "    </tr>\n",
       "    <tr>\n",
       "      <th>...</th>\n",
       "      <td>...</td>\n",
       "    </tr>\n",
       "    <tr>\n",
       "      <th>35202</th>\n",
       "      <td>7053262</td>\n",
       "    </tr>\n",
       "    <tr>\n",
       "      <th>35203</th>\n",
       "      <td>7053362</td>\n",
       "    </tr>\n",
       "    <tr>\n",
       "      <th>35204</th>\n",
       "      <td>7053400</td>\n",
       "    </tr>\n",
       "    <tr>\n",
       "      <th>35205</th>\n",
       "      <td>7053526</td>\n",
       "    </tr>\n",
       "    <tr>\n",
       "      <th>35206</th>\n",
       "      <td>OWNY208</td>\n",
       "    </tr>\n",
       "  </tbody>\n",
       "</table>\n",
       "<p>35207 rows × 1 columns</p>\n",
       "</div>\n",
       "      <button class=\"colab-df-convert\" onclick=\"convertToInteractive('df-753b5231-74be-447b-8178-835df8941d32')\"\n",
       "              title=\"Convert this dataframe to an interactive table.\"\n",
       "              style=\"display:none;\">\n",
       "        \n",
       "  <svg xmlns=\"http://www.w3.org/2000/svg\" height=\"24px\"viewBox=\"0 0 24 24\"\n",
       "       width=\"24px\">\n",
       "    <path d=\"M0 0h24v24H0V0z\" fill=\"none\"/>\n",
       "    <path d=\"M18.56 5.44l.94 2.06.94-2.06 2.06-.94-2.06-.94-.94-2.06-.94 2.06-2.06.94zm-11 1L8.5 8.5l.94-2.06 2.06-.94-2.06-.94L8.5 2.5l-.94 2.06-2.06.94zm10 10l.94 2.06.94-2.06 2.06-.94-2.06-.94-.94-2.06-.94 2.06-2.06.94z\"/><path d=\"M17.41 7.96l-1.37-1.37c-.4-.4-.92-.59-1.43-.59-.52 0-1.04.2-1.43.59L10.3 9.45l-7.72 7.72c-.78.78-.78 2.05 0 2.83L4 21.41c.39.39.9.59 1.41.59.51 0 1.02-.2 1.41-.59l7.78-7.78 2.81-2.81c.8-.78.8-2.07 0-2.86zM5.41 20L4 18.59l7.72-7.72 1.47 1.35L5.41 20z\"/>\n",
       "  </svg>\n",
       "      </button>\n",
       "      \n",
       "  <style>\n",
       "    .colab-df-container {\n",
       "      display:flex;\n",
       "      flex-wrap:wrap;\n",
       "      gap: 12px;\n",
       "    }\n",
       "\n",
       "    .colab-df-convert {\n",
       "      background-color: #E8F0FE;\n",
       "      border: none;\n",
       "      border-radius: 50%;\n",
       "      cursor: pointer;\n",
       "      display: none;\n",
       "      fill: #1967D2;\n",
       "      height: 32px;\n",
       "      padding: 0 0 0 0;\n",
       "      width: 32px;\n",
       "    }\n",
       "\n",
       "    .colab-df-convert:hover {\n",
       "      background-color: #E2EBFA;\n",
       "      box-shadow: 0px 1px 2px rgba(60, 64, 67, 0.3), 0px 1px 3px 1px rgba(60, 64, 67, 0.15);\n",
       "      fill: #174EA6;\n",
       "    }\n",
       "\n",
       "    [theme=dark] .colab-df-convert {\n",
       "      background-color: #3B4455;\n",
       "      fill: #D2E3FC;\n",
       "    }\n",
       "\n",
       "    [theme=dark] .colab-df-convert:hover {\n",
       "      background-color: #434B5C;\n",
       "      box-shadow: 0px 1px 3px 1px rgba(0, 0, 0, 0.15);\n",
       "      filter: drop-shadow(0px 1px 2px rgba(0, 0, 0, 0.3));\n",
       "      fill: #FFFFFF;\n",
       "    }\n",
       "  </style>\n",
       "\n",
       "      <script>\n",
       "        const buttonEl =\n",
       "          document.querySelector('#df-753b5231-74be-447b-8178-835df8941d32 button.colab-df-convert');\n",
       "        buttonEl.style.display =\n",
       "          google.colab.kernel.accessAllowed ? 'block' : 'none';\n",
       "\n",
       "        async function convertToInteractive(key) {\n",
       "          const element = document.querySelector('#df-753b5231-74be-447b-8178-835df8941d32');\n",
       "          const dataTable =\n",
       "            await google.colab.kernel.invokeFunction('convertToInteractive',\n",
       "                                                     [key], {});\n",
       "          if (!dataTable) return;\n",
       "\n",
       "          const docLinkHtml = 'Like what you see? Visit the ' +\n",
       "            '<a target=\"_blank\" href=https://colab.research.google.com/notebooks/data_table.ipynb>data table notebook</a>'\n",
       "            + ' to learn more about interactive tables.';\n",
       "          element.innerHTML = '';\n",
       "          dataTable['output_type'] = 'display_data';\n",
       "          await google.colab.output.renderOutput(dataTable, element);\n",
       "          const docLink = document.createElement('div');\n",
       "          docLink.innerHTML = docLinkHtml;\n",
       "          element.appendChild(docLink);\n",
       "        }\n",
       "      </script>\n",
       "    </div>\n",
       "  </div>\n",
       "  "
      ],
      "text/plain": [
       "             0\n",
       "0            .\n",
       "1      0000010\n",
       "2      0000133\n",
       "3      0000145\n",
       "4      0000185\n",
       "...        ...\n",
       "35202  7053262\n",
       "35203  7053362\n",
       "35204  7053400\n",
       "35205  7053526\n",
       "35206  OWNY208\n",
       "\n",
       "[35207 rows x 1 columns]"
      ]
     },
     "execution_count": 30,
     "metadata": {},
     "output_type": "execute_result"
    }
   ],
   "source": [
    "# In either department, customer has purchased more than once\n",
    "pd.DataFrame(finalDepartment['Customer No'].unique())"
   ]
  },
  {
   "cell_type": "markdown",
   "metadata": {
    "id": "5QkadQFLFFEv"
   },
   "source": [
    "Among 95,540 customers, there are 35,207 identical customers have purchased more than once while 75,762 customers have purchased only once. Some customers purchased only once in one department and purchased more than one in other departments."
   ]
  },
  {
   "cell_type": "code",
   "execution_count": 31,
   "metadata": {
    "colab": {
     "base_uri": "https://localhost:8080/",
     "height": 480
    },
    "id": "HL0E-acNFFEv",
    "outputId": "eeca3b65-ce7b-442f-a2b4-3d122e705d26"
   },
   "outputs": [
    {
     "data": {
      "text/html": [
       "\n",
       "  <div id=\"df-a33ef5af-50f2-402c-8e20-965b4d4d6e61\">\n",
       "    <div class=\"colab-df-container\">\n",
       "      <div>\n",
       "<style scoped>\n",
       "    .dataframe tbody tr th:only-of-type {\n",
       "        vertical-align: middle;\n",
       "    }\n",
       "\n",
       "    .dataframe tbody tr th {\n",
       "        vertical-align: top;\n",
       "    }\n",
       "\n",
       "    .dataframe thead th {\n",
       "        text-align: right;\n",
       "    }\n",
       "</style>\n",
       "<table border=\"1\" class=\"dataframe\">\n",
       "  <thead>\n",
       "    <tr style=\"text-align: right;\">\n",
       "      <th></th>\n",
       "      <th>Customer No</th>\n",
       "      <th># of Departments that customer purchased</th>\n",
       "      <th># of Departments that customer churned</th>\n",
       "      <th>Churn_Department</th>\n",
       "      <th>Churn Percent_Department</th>\n",
       "    </tr>\n",
       "  </thead>\n",
       "  <tbody>\n",
       "    <tr>\n",
       "      <th>0</th>\n",
       "      <td>.</td>\n",
       "      <td>2</td>\n",
       "      <td>0</td>\n",
       "      <td>0</td>\n",
       "      <td>0.000</td>\n",
       "    </tr>\n",
       "    <tr>\n",
       "      <th>1</th>\n",
       "      <td>0000010</td>\n",
       "      <td>3</td>\n",
       "      <td>0</td>\n",
       "      <td>0</td>\n",
       "      <td>0.000</td>\n",
       "    </tr>\n",
       "    <tr>\n",
       "      <th>2</th>\n",
       "      <td>0000133</td>\n",
       "      <td>2</td>\n",
       "      <td>0</td>\n",
       "      <td>0</td>\n",
       "      <td>0.000</td>\n",
       "    </tr>\n",
       "    <tr>\n",
       "      <th>3</th>\n",
       "      <td>0000145</td>\n",
       "      <td>7</td>\n",
       "      <td>1</td>\n",
       "      <td>0</td>\n",
       "      <td>0.143</td>\n",
       "    </tr>\n",
       "    <tr>\n",
       "      <th>4</th>\n",
       "      <td>0000185</td>\n",
       "      <td>7</td>\n",
       "      <td>2</td>\n",
       "      <td>0</td>\n",
       "      <td>0.286</td>\n",
       "    </tr>\n",
       "    <tr>\n",
       "      <th>...</th>\n",
       "      <td>...</td>\n",
       "      <td>...</td>\n",
       "      <td>...</td>\n",
       "      <td>...</td>\n",
       "      <td>...</td>\n",
       "    </tr>\n",
       "    <tr>\n",
       "      <th>35202</th>\n",
       "      <td>7053262</td>\n",
       "      <td>1</td>\n",
       "      <td>0</td>\n",
       "      <td>0</td>\n",
       "      <td>0.000</td>\n",
       "    </tr>\n",
       "    <tr>\n",
       "      <th>35203</th>\n",
       "      <td>7053362</td>\n",
       "      <td>2</td>\n",
       "      <td>0</td>\n",
       "      <td>0</td>\n",
       "      <td>0.000</td>\n",
       "    </tr>\n",
       "    <tr>\n",
       "      <th>35204</th>\n",
       "      <td>7053400</td>\n",
       "      <td>1</td>\n",
       "      <td>0</td>\n",
       "      <td>0</td>\n",
       "      <td>0.000</td>\n",
       "    </tr>\n",
       "    <tr>\n",
       "      <th>35205</th>\n",
       "      <td>7053526</td>\n",
       "      <td>1</td>\n",
       "      <td>0</td>\n",
       "      <td>0</td>\n",
       "      <td>0.000</td>\n",
       "    </tr>\n",
       "    <tr>\n",
       "      <th>35206</th>\n",
       "      <td>OWNY208</td>\n",
       "      <td>2</td>\n",
       "      <td>0</td>\n",
       "      <td>0</td>\n",
       "      <td>0.000</td>\n",
       "    </tr>\n",
       "  </tbody>\n",
       "</table>\n",
       "<p>35207 rows × 5 columns</p>\n",
       "</div>\n",
       "      <button class=\"colab-df-convert\" onclick=\"convertToInteractive('df-a33ef5af-50f2-402c-8e20-965b4d4d6e61')\"\n",
       "              title=\"Convert this dataframe to an interactive table.\"\n",
       "              style=\"display:none;\">\n",
       "        \n",
       "  <svg xmlns=\"http://www.w3.org/2000/svg\" height=\"24px\"viewBox=\"0 0 24 24\"\n",
       "       width=\"24px\">\n",
       "    <path d=\"M0 0h24v24H0V0z\" fill=\"none\"/>\n",
       "    <path d=\"M18.56 5.44l.94 2.06.94-2.06 2.06-.94-2.06-.94-.94-2.06-.94 2.06-2.06.94zm-11 1L8.5 8.5l.94-2.06 2.06-.94-2.06-.94L8.5 2.5l-.94 2.06-2.06.94zm10 10l.94 2.06.94-2.06 2.06-.94-2.06-.94-.94-2.06-.94 2.06-2.06.94z\"/><path d=\"M17.41 7.96l-1.37-1.37c-.4-.4-.92-.59-1.43-.59-.52 0-1.04.2-1.43.59L10.3 9.45l-7.72 7.72c-.78.78-.78 2.05 0 2.83L4 21.41c.39.39.9.59 1.41.59.51 0 1.02-.2 1.41-.59l7.78-7.78 2.81-2.81c.8-.78.8-2.07 0-2.86zM5.41 20L4 18.59l7.72-7.72 1.47 1.35L5.41 20z\"/>\n",
       "  </svg>\n",
       "      </button>\n",
       "      \n",
       "  <style>\n",
       "    .colab-df-container {\n",
       "      display:flex;\n",
       "      flex-wrap:wrap;\n",
       "      gap: 12px;\n",
       "    }\n",
       "\n",
       "    .colab-df-convert {\n",
       "      background-color: #E8F0FE;\n",
       "      border: none;\n",
       "      border-radius: 50%;\n",
       "      cursor: pointer;\n",
       "      display: none;\n",
       "      fill: #1967D2;\n",
       "      height: 32px;\n",
       "      padding: 0 0 0 0;\n",
       "      width: 32px;\n",
       "    }\n",
       "\n",
       "    .colab-df-convert:hover {\n",
       "      background-color: #E2EBFA;\n",
       "      box-shadow: 0px 1px 2px rgba(60, 64, 67, 0.3), 0px 1px 3px 1px rgba(60, 64, 67, 0.15);\n",
       "      fill: #174EA6;\n",
       "    }\n",
       "\n",
       "    [theme=dark] .colab-df-convert {\n",
       "      background-color: #3B4455;\n",
       "      fill: #D2E3FC;\n",
       "    }\n",
       "\n",
       "    [theme=dark] .colab-df-convert:hover {\n",
       "      background-color: #434B5C;\n",
       "      box-shadow: 0px 1px 3px 1px rgba(0, 0, 0, 0.15);\n",
       "      filter: drop-shadow(0px 1px 2px rgba(0, 0, 0, 0.3));\n",
       "      fill: #FFFFFF;\n",
       "    }\n",
       "  </style>\n",
       "\n",
       "      <script>\n",
       "        const buttonEl =\n",
       "          document.querySelector('#df-a33ef5af-50f2-402c-8e20-965b4d4d6e61 button.colab-df-convert');\n",
       "        buttonEl.style.display =\n",
       "          google.colab.kernel.accessAllowed ? 'block' : 'none';\n",
       "\n",
       "        async function convertToInteractive(key) {\n",
       "          const element = document.querySelector('#df-a33ef5af-50f2-402c-8e20-965b4d4d6e61');\n",
       "          const dataTable =\n",
       "            await google.colab.kernel.invokeFunction('convertToInteractive',\n",
       "                                                     [key], {});\n",
       "          if (!dataTable) return;\n",
       "\n",
       "          const docLinkHtml = 'Like what you see? Visit the ' +\n",
       "            '<a target=\"_blank\" href=https://colab.research.google.com/notebooks/data_table.ipynb>data table notebook</a>'\n",
       "            + ' to learn more about interactive tables.';\n",
       "          element.innerHTML = '';\n",
       "          dataTable['output_type'] = 'display_data';\n",
       "          await google.colab.output.renderOutput(dataTable, element);\n",
       "          const docLink = document.createElement('div');\n",
       "          docLink.innerHTML = docLinkHtml;\n",
       "          element.appendChild(docLink);\n",
       "        }\n",
       "      </script>\n",
       "    </div>\n",
       "  </div>\n",
       "  "
      ],
      "text/plain": [
       "      Customer No  # of Departments that customer purchased  \\\n",
       "0               .                                         2   \n",
       "1         0000010                                         3   \n",
       "2         0000133                                         2   \n",
       "3         0000145                                         7   \n",
       "4         0000185                                         7   \n",
       "...           ...                                       ...   \n",
       "35202     7053262                                         1   \n",
       "35203     7053362                                         2   \n",
       "35204     7053400                                         1   \n",
       "35205     7053526                                         1   \n",
       "35206     OWNY208                                         2   \n",
       "\n",
       "       # of Departments that customer churned  Churn_Department  \\\n",
       "0                                           0                 0   \n",
       "1                                           0                 0   \n",
       "2                                           0                 0   \n",
       "3                                           1                 0   \n",
       "4                                           2                 0   \n",
       "...                                       ...               ...   \n",
       "35202                                       0                 0   \n",
       "35203                                       0                 0   \n",
       "35204                                       0                 0   \n",
       "35205                                       0                 0   \n",
       "35206                                       0                 0   \n",
       "\n",
       "       Churn Percent_Department  \n",
       "0                         0.000  \n",
       "1                         0.000  \n",
       "2                         0.000  \n",
       "3                         0.143  \n",
       "4                         0.286  \n",
       "...                         ...  \n",
       "35202                     0.000  \n",
       "35203                     0.000  \n",
       "35204                     0.000  \n",
       "35205                     0.000  \n",
       "35206                     0.000  \n",
       "\n",
       "[35207 rows x 5 columns]"
      ]
     },
     "execution_count": 31,
     "metadata": {},
     "output_type": "execute_result"
    }
   ],
   "source": [
    "finalDepartment.columns = ['Customer No', '# of Departments that customer purchased', '# of Departments that customer churned']\n",
    "finalDepartment['Churn_Department'] = np.where(finalDepartment['# of Departments that customer churned'] > (finalDepartment['# of Departments that customer purchased']/3), 1, 0)\n",
    "finalDepartment['Churn Percent_Department'] = round(finalDepartment['# of Departments that customer churned'] / finalDepartment['# of Departments that customer purchased'], 3)\n",
    "finalDepartment"
   ]
  },
  {
   "cell_type": "code",
   "execution_count": 32,
   "metadata": {
    "colab": {
     "base_uri": "https://localhost:8080/"
    },
    "id": "aNHUdys3FFEw",
    "outputId": "d462a893-3658-4514-a4da-366bee85f4ce"
   },
   "outputs": [
    {
     "data": {
      "text/plain": [
       "0    32938\n",
       "1     2269\n",
       "Name: Churn_Department, dtype: int64"
      ]
     },
     "execution_count": 32,
     "metadata": {},
     "output_type": "execute_result"
    }
   ],
   "source": [
    "finalDepartment['Churn_Department'].value_counts()"
   ]
  },
  {
   "cell_type": "code",
   "execution_count": 33,
   "metadata": {
    "colab": {
     "base_uri": "https://localhost:8080/"
    },
    "id": "fJ7OYN4FFFEw",
    "outputId": "45150273-13a2-4b92-c01a-ff8607f35475"
   },
   "outputs": [
    {
     "data": {
      "text/plain": [
       "0.06444741102621637"
      ]
     },
     "execution_count": 33,
     "metadata": {},
     "output_type": "execute_result"
    }
   ],
   "source": [
    "# Within-department churn rate\n",
    "2269/(32938+2269)"
   ]
  },
  {
   "cell_type": "markdown",
   "metadata": {
    "id": "O9eRM6SrFFEw"
   },
   "source": [
    "### 4.3 Product Line"
   ]
  },
  {
   "cell_type": "code",
   "execution_count": 34,
   "metadata": {
    "id": "wYOGlFQWFFEw"
   },
   "outputs": [],
   "source": [
    "myProduct = myData.copy()\n",
    "# Replace Nan in Product Group Description with Department Dim Description\n",
    "myProduct.loc[myProduct['Department Dim Description'] == 'LSI- Consulting', 'Product Group Description'] = 'LSI- Consulting'\n",
    "myProduct.loc[(myProduct['Department Dim Description'] == 'Software') & (myProduct['Product Group Description'].isna()), 'Product Group Description'] = 'Software'\n",
    "myProduct.loc[(myProduct['Department Dim Description'] == 'Contra Dimension') & (myProduct['Product Group Description'].isna()), 'Product Group Description'] = 'Contra Dimension'"
   ]
  },
  {
   "cell_type": "code",
   "execution_count": 35,
   "metadata": {
    "id": "eHOozMDBFFEx"
   },
   "outputs": [],
   "source": [
    "myProduct = myProduct[myProduct['Product Group Description'].notnull()]"
   ]
  },
  {
   "cell_type": "code",
   "execution_count": 36,
   "metadata": {
    "colab": {
     "base_uri": "https://localhost:8080/"
    },
    "id": "IV3Ev-qCFFEx",
    "outputId": "a8e69f08-f8f0-4c82-a263-1496f397a875"
   },
   "outputs": [
    {
     "data": {
      "text/plain": [
       "(1472243, 8)"
      ]
     },
     "execution_count": 36,
     "metadata": {},
     "output_type": "execute_result"
    }
   ],
   "source": [
    "myProduct.shape"
   ]
  },
  {
   "cell_type": "code",
   "execution_count": 37,
   "metadata": {
    "colab": {
     "base_uri": "https://localhost:8080/",
     "height": 265
    },
    "id": "rTbTc8WpFFEx",
    "outputId": "36f8bc5e-2754-4de0-f3d4-a38beeb54ad9"
   },
   "outputs": [
    {
     "data": {
      "text/html": [
       "\n",
       "  <div id=\"df-6e0f6b21-f2d6-4cdd-bfaf-7e08cca0b1a4\">\n",
       "    <div class=\"colab-df-container\">\n",
       "      <div>\n",
       "<style scoped>\n",
       "    .dataframe tbody tr th:only-of-type {\n",
       "        vertical-align: middle;\n",
       "    }\n",
       "\n",
       "    .dataframe tbody tr th {\n",
       "        vertical-align: top;\n",
       "    }\n",
       "\n",
       "    .dataframe thead th {\n",
       "        text-align: right;\n",
       "    }\n",
       "</style>\n",
       "<table border=\"1\" class=\"dataframe\">\n",
       "  <thead>\n",
       "    <tr style=\"text-align: right;\">\n",
       "      <th></th>\n",
       "      <th>Customer No</th>\n",
       "      <th>Quantity Ordered</th>\n",
       "      <th>Line Item Amount</th>\n",
       "      <th>Posting Date</th>\n",
       "      <th>Department Dim Description</th>\n",
       "      <th>Product Group Description</th>\n",
       "      <th>First Purchase Date</th>\n",
       "      <th>Days from 1st Purchase</th>\n",
       "    </tr>\n",
       "  </thead>\n",
       "  <tbody>\n",
       "    <tr>\n",
       "      <th>0</th>\n",
       "      <td>0000919</td>\n",
       "      <td>1</td>\n",
       "      <td>799.0</td>\n",
       "      <td>2018-04-01</td>\n",
       "      <td>Software</td>\n",
       "      <td>Software</td>\n",
       "      <td>2016-01-11</td>\n",
       "      <td>811.0</td>\n",
       "    </tr>\n",
       "    <tr>\n",
       "      <th>1</th>\n",
       "      <td>0000919</td>\n",
       "      <td>1</td>\n",
       "      <td>0.0</td>\n",
       "      <td>2018-04-01</td>\n",
       "      <td>Software</td>\n",
       "      <td>Software</td>\n",
       "      <td>2016-01-11</td>\n",
       "      <td>811.0</td>\n",
       "    </tr>\n",
       "    <tr>\n",
       "      <th>2</th>\n",
       "      <td>0000919</td>\n",
       "      <td>1</td>\n",
       "      <td>0.0</td>\n",
       "      <td>2018-04-01</td>\n",
       "      <td>Software</td>\n",
       "      <td>Software</td>\n",
       "      <td>2016-01-11</td>\n",
       "      <td>811.0</td>\n",
       "    </tr>\n",
       "    <tr>\n",
       "      <th>3</th>\n",
       "      <td>0000919</td>\n",
       "      <td>1</td>\n",
       "      <td>0.0</td>\n",
       "      <td>2018-04-01</td>\n",
       "      <td>Software</td>\n",
       "      <td>Software</td>\n",
       "      <td>2016-01-11</td>\n",
       "      <td>811.0</td>\n",
       "    </tr>\n",
       "    <tr>\n",
       "      <th>4</th>\n",
       "      <td>0000919</td>\n",
       "      <td>1</td>\n",
       "      <td>799.0</td>\n",
       "      <td>2018-04-01</td>\n",
       "      <td>Software</td>\n",
       "      <td>Software</td>\n",
       "      <td>2016-01-11</td>\n",
       "      <td>811.0</td>\n",
       "    </tr>\n",
       "  </tbody>\n",
       "</table>\n",
       "</div>\n",
       "      <button class=\"colab-df-convert\" onclick=\"convertToInteractive('df-6e0f6b21-f2d6-4cdd-bfaf-7e08cca0b1a4')\"\n",
       "              title=\"Convert this dataframe to an interactive table.\"\n",
       "              style=\"display:none;\">\n",
       "        \n",
       "  <svg xmlns=\"http://www.w3.org/2000/svg\" height=\"24px\"viewBox=\"0 0 24 24\"\n",
       "       width=\"24px\">\n",
       "    <path d=\"M0 0h24v24H0V0z\" fill=\"none\"/>\n",
       "    <path d=\"M18.56 5.44l.94 2.06.94-2.06 2.06-.94-2.06-.94-.94-2.06-.94 2.06-2.06.94zm-11 1L8.5 8.5l.94-2.06 2.06-.94-2.06-.94L8.5 2.5l-.94 2.06-2.06.94zm10 10l.94 2.06.94-2.06 2.06-.94-2.06-.94-.94-2.06-.94 2.06-2.06.94z\"/><path d=\"M17.41 7.96l-1.37-1.37c-.4-.4-.92-.59-1.43-.59-.52 0-1.04.2-1.43.59L10.3 9.45l-7.72 7.72c-.78.78-.78 2.05 0 2.83L4 21.41c.39.39.9.59 1.41.59.51 0 1.02-.2 1.41-.59l7.78-7.78 2.81-2.81c.8-.78.8-2.07 0-2.86zM5.41 20L4 18.59l7.72-7.72 1.47 1.35L5.41 20z\"/>\n",
       "  </svg>\n",
       "      </button>\n",
       "      \n",
       "  <style>\n",
       "    .colab-df-container {\n",
       "      display:flex;\n",
       "      flex-wrap:wrap;\n",
       "      gap: 12px;\n",
       "    }\n",
       "\n",
       "    .colab-df-convert {\n",
       "      background-color: #E8F0FE;\n",
       "      border: none;\n",
       "      border-radius: 50%;\n",
       "      cursor: pointer;\n",
       "      display: none;\n",
       "      fill: #1967D2;\n",
       "      height: 32px;\n",
       "      padding: 0 0 0 0;\n",
       "      width: 32px;\n",
       "    }\n",
       "\n",
       "    .colab-df-convert:hover {\n",
       "      background-color: #E2EBFA;\n",
       "      box-shadow: 0px 1px 2px rgba(60, 64, 67, 0.3), 0px 1px 3px 1px rgba(60, 64, 67, 0.15);\n",
       "      fill: #174EA6;\n",
       "    }\n",
       "\n",
       "    [theme=dark] .colab-df-convert {\n",
       "      background-color: #3B4455;\n",
       "      fill: #D2E3FC;\n",
       "    }\n",
       "\n",
       "    [theme=dark] .colab-df-convert:hover {\n",
       "      background-color: #434B5C;\n",
       "      box-shadow: 0px 1px 3px 1px rgba(0, 0, 0, 0.15);\n",
       "      filter: drop-shadow(0px 1px 2px rgba(0, 0, 0, 0.3));\n",
       "      fill: #FFFFFF;\n",
       "    }\n",
       "  </style>\n",
       "\n",
       "      <script>\n",
       "        const buttonEl =\n",
       "          document.querySelector('#df-6e0f6b21-f2d6-4cdd-bfaf-7e08cca0b1a4 button.colab-df-convert');\n",
       "        buttonEl.style.display =\n",
       "          google.colab.kernel.accessAllowed ? 'block' : 'none';\n",
       "\n",
       "        async function convertToInteractive(key) {\n",
       "          const element = document.querySelector('#df-6e0f6b21-f2d6-4cdd-bfaf-7e08cca0b1a4');\n",
       "          const dataTable =\n",
       "            await google.colab.kernel.invokeFunction('convertToInteractive',\n",
       "                                                     [key], {});\n",
       "          if (!dataTable) return;\n",
       "\n",
       "          const docLinkHtml = 'Like what you see? Visit the ' +\n",
       "            '<a target=\"_blank\" href=https://colab.research.google.com/notebooks/data_table.ipynb>data table notebook</a>'\n",
       "            + ' to learn more about interactive tables.';\n",
       "          element.innerHTML = '';\n",
       "          dataTable['output_type'] = 'display_data';\n",
       "          await google.colab.output.renderOutput(dataTable, element);\n",
       "          const docLink = document.createElement('div');\n",
       "          docLink.innerHTML = docLinkHtml;\n",
       "          element.appendChild(docLink);\n",
       "        }\n",
       "      </script>\n",
       "    </div>\n",
       "  </div>\n",
       "  "
      ],
      "text/plain": [
       "  Customer No  Quantity Ordered  Line Item Amount Posting Date  \\\n",
       "0     0000919                 1             799.0   2018-04-01   \n",
       "1     0000919                 1               0.0   2018-04-01   \n",
       "2     0000919                 1               0.0   2018-04-01   \n",
       "3     0000919                 1               0.0   2018-04-01   \n",
       "4     0000919                 1             799.0   2018-04-01   \n",
       "\n",
       "  Department Dim Description Product Group Description First Purchase Date  \\\n",
       "0                   Software                  Software          2016-01-11   \n",
       "1                   Software                  Software          2016-01-11   \n",
       "2                   Software                  Software          2016-01-11   \n",
       "3                   Software                  Software          2016-01-11   \n",
       "4                   Software                  Software          2016-01-11   \n",
       "\n",
       "   Days from 1st Purchase  \n",
       "0                   811.0  \n",
       "1                   811.0  \n",
       "2                   811.0  \n",
       "3                   811.0  \n",
       "4                   811.0  "
      ]
     },
     "execution_count": 37,
     "metadata": {},
     "output_type": "execute_result"
    }
   ],
   "source": [
    "myProduct.head()"
   ]
  },
  {
   "cell_type": "code",
   "execution_count": 38,
   "metadata": {
    "colab": {
     "base_uri": "https://localhost:8080/"
    },
    "id": "Nth8Xe9OFFEy",
    "outputId": "15a6ba02-6310-444b-92cc-4ab08a3c1042"
   },
   "outputs": [
    {
     "data": {
      "text/plain": [
       "array(['Software', 'Corrugated Shippers', 'Forms', 'DOT Labels',\n",
       "       'Contra Dimension', 'International Air Transport Association',\n",
       "       'Pre-Printed Placards', 'Air Labels', 'International Labels',\n",
       "       'Hazcom Labels', 'Worded Placards',\n",
       "       'Personalized DOT Labels and Markings', 'Warehouse Labels',\n",
       "       'Early 49 CFR', 'Regulatory Markings', 'Seals',\n",
       "       'Code of Federal Regulations', 'Imprinted One Sided Placards',\n",
       "       'Placard Accessories', 'Blank Placards', 'ERG',\n",
       "       'MasterRegs 49 CFR', 'Variation Packaging',\n",
       "       'International Maritime Organization', 'Masterform New',\n",
       "       'Waste Labels', 'Exemption Packaging 173.3', 'Reference Books',\n",
       "       'Personalized Warehouse Labels', 'Shipping Supplies',\n",
       "       'Custom Labels', 'Personalized Waste Lables',\n",
       "       'Orange Panels & Markings', 'Poly Drums and Pails',\n",
       "       'Chemtrec Markings', 'Paint Can Shippers',\n",
       "       'Personalized Regulatory Markings', 'Metal Packaging',\n",
       "       'Foam Shippers', 'GHS Training Products',\n",
       "       'International Civil Air Organization', 'Bottles and Caps',\n",
       "       'Label Accessories', 'Obexion', 'Packaging Custom Quotes',\n",
       "       'International Placards', 'Components', 'Cold Chain Shippers',\n",
       "       'Infectious Shippers', 'Spill', 'Accessories', 'Signs', 'Duo-Flip',\n",
       "       'Spacemaster', 'Slidemaster', 'Imprinted Two Sided Placards',\n",
       "       'Imprinted Orange Panels', 'Trucking Supplies',\n",
       "       'Accident Prevention Tags', 'Lock Out Tag Out',\n",
       "       'Vermiculite Shippers', 'DGIS Software Products', 'Wooden Crates',\n",
       "       'Steel Drums', 'Fire Protection', 'Personalized Forms',\n",
       "       'Online Compliance Training', 'Reg Sticks', 'Poly Shippers',\n",
       "       'Personal Protection Equipment', 'Amazon Hazmat Labels',\n",
       "       'Material Handling', 'Inactive', 'Amazon Warehouse Labels',\n",
       "       'Amazon Packaging', 'Paper', 'Vinyl Roll', 'GM Packaging',\n",
       "       'LSI- Consulting', 'inactive', 'GM Labor', 'Amazon Labels'],\n",
       "      dtype=object)"
      ]
     },
     "execution_count": 38,
     "metadata": {},
     "output_type": "execute_result"
    }
   ],
   "source": [
    "# Seperate into different Product Line\n",
    "productName = myProduct['Product Group Description'].unique()\n",
    "productName"
   ]
  },
  {
   "cell_type": "code",
   "execution_count": 39,
   "metadata": {
    "id": "ehB-9ANPFFEz"
   },
   "outputs": [],
   "source": [
    "moreProduct = pd.DataFrame()\n",
    "oneProduct = pd.DataFrame()\n",
    "for name in productName:\n",
    "    df = myProduct[myProduct['Product Group Description'] == name].reset_index(drop=True)\n",
    "    one, r = defineChurn(df)\n",
    "    oneProduct = pd.concat([oneProduct, one])\n",
    "    if r.empty == False:\n",
    "        r['Product'] = name\n",
    "        moreProduct = pd.concat([moreProduct, r])"
   ]
  },
  {
   "cell_type": "code",
   "execution_count": 40,
   "metadata": {
    "colab": {
     "base_uri": "https://localhost:8080/",
     "height": 419
    },
    "id": "vXARPcuDFFEz",
    "outputId": "f42ce78f-7fcf-4b05-9811-4dda7fd67009"
   },
   "outputs": [
    {
     "data": {
      "text/html": [
       "\n",
       "  <div id=\"df-3313841d-51ba-4b2f-a2ec-24e831b96440\">\n",
       "    <div class=\"colab-df-container\">\n",
       "      <div>\n",
       "<style scoped>\n",
       "    .dataframe tbody tr th:only-of-type {\n",
       "        vertical-align: middle;\n",
       "    }\n",
       "\n",
       "    .dataframe tbody tr th {\n",
       "        vertical-align: top;\n",
       "    }\n",
       "\n",
       "    .dataframe thead th {\n",
       "        text-align: right;\n",
       "    }\n",
       "</style>\n",
       "<table border=\"1\" class=\"dataframe\">\n",
       "  <thead>\n",
       "    <tr style=\"text-align: right;\">\n",
       "      <th></th>\n",
       "      <th>0</th>\n",
       "    </tr>\n",
       "  </thead>\n",
       "  <tbody>\n",
       "    <tr>\n",
       "      <th>0</th>\n",
       "      <td>0000323</td>\n",
       "    </tr>\n",
       "    <tr>\n",
       "      <th>1</th>\n",
       "      <td>0008240</td>\n",
       "    </tr>\n",
       "    <tr>\n",
       "      <th>2</th>\n",
       "      <td>0013313</td>\n",
       "    </tr>\n",
       "    <tr>\n",
       "      <th>3</th>\n",
       "      <td>0017066</td>\n",
       "    </tr>\n",
       "    <tr>\n",
       "      <th>4</th>\n",
       "      <td>0025872</td>\n",
       "    </tr>\n",
       "    <tr>\n",
       "      <th>...</th>\n",
       "      <td>...</td>\n",
       "    </tr>\n",
       "    <tr>\n",
       "      <th>83682</th>\n",
       "      <td>2500334</td>\n",
       "    </tr>\n",
       "    <tr>\n",
       "      <th>83683</th>\n",
       "      <td>2500335</td>\n",
       "    </tr>\n",
       "    <tr>\n",
       "      <th>83684</th>\n",
       "      <td>2500338</td>\n",
       "    </tr>\n",
       "    <tr>\n",
       "      <th>83685</th>\n",
       "      <td>2500340</td>\n",
       "    </tr>\n",
       "    <tr>\n",
       "      <th>83686</th>\n",
       "      <td>3052730</td>\n",
       "    </tr>\n",
       "  </tbody>\n",
       "</table>\n",
       "<p>83687 rows × 1 columns</p>\n",
       "</div>\n",
       "      <button class=\"colab-df-convert\" onclick=\"convertToInteractive('df-3313841d-51ba-4b2f-a2ec-24e831b96440')\"\n",
       "              title=\"Convert this dataframe to an interactive table.\"\n",
       "              style=\"display:none;\">\n",
       "        \n",
       "  <svg xmlns=\"http://www.w3.org/2000/svg\" height=\"24px\"viewBox=\"0 0 24 24\"\n",
       "       width=\"24px\">\n",
       "    <path d=\"M0 0h24v24H0V0z\" fill=\"none\"/>\n",
       "    <path d=\"M18.56 5.44l.94 2.06.94-2.06 2.06-.94-2.06-.94-.94-2.06-.94 2.06-2.06.94zm-11 1L8.5 8.5l.94-2.06 2.06-.94-2.06-.94L8.5 2.5l-.94 2.06-2.06.94zm10 10l.94 2.06.94-2.06 2.06-.94-2.06-.94-.94-2.06-.94 2.06-2.06.94z\"/><path d=\"M17.41 7.96l-1.37-1.37c-.4-.4-.92-.59-1.43-.59-.52 0-1.04.2-1.43.59L10.3 9.45l-7.72 7.72c-.78.78-.78 2.05 0 2.83L4 21.41c.39.39.9.59 1.41.59.51 0 1.02-.2 1.41-.59l7.78-7.78 2.81-2.81c.8-.78.8-2.07 0-2.86zM5.41 20L4 18.59l7.72-7.72 1.47 1.35L5.41 20z\"/>\n",
       "  </svg>\n",
       "      </button>\n",
       "      \n",
       "  <style>\n",
       "    .colab-df-container {\n",
       "      display:flex;\n",
       "      flex-wrap:wrap;\n",
       "      gap: 12px;\n",
       "    }\n",
       "\n",
       "    .colab-df-convert {\n",
       "      background-color: #E8F0FE;\n",
       "      border: none;\n",
       "      border-radius: 50%;\n",
       "      cursor: pointer;\n",
       "      display: none;\n",
       "      fill: #1967D2;\n",
       "      height: 32px;\n",
       "      padding: 0 0 0 0;\n",
       "      width: 32px;\n",
       "    }\n",
       "\n",
       "    .colab-df-convert:hover {\n",
       "      background-color: #E2EBFA;\n",
       "      box-shadow: 0px 1px 2px rgba(60, 64, 67, 0.3), 0px 1px 3px 1px rgba(60, 64, 67, 0.15);\n",
       "      fill: #174EA6;\n",
       "    }\n",
       "\n",
       "    [theme=dark] .colab-df-convert {\n",
       "      background-color: #3B4455;\n",
       "      fill: #D2E3FC;\n",
       "    }\n",
       "\n",
       "    [theme=dark] .colab-df-convert:hover {\n",
       "      background-color: #434B5C;\n",
       "      box-shadow: 0px 1px 3px 1px rgba(0, 0, 0, 0.15);\n",
       "      filter: drop-shadow(0px 1px 2px rgba(0, 0, 0, 0.3));\n",
       "      fill: #FFFFFF;\n",
       "    }\n",
       "  </style>\n",
       "\n",
       "      <script>\n",
       "        const buttonEl =\n",
       "          document.querySelector('#df-3313841d-51ba-4b2f-a2ec-24e831b96440 button.colab-df-convert');\n",
       "        buttonEl.style.display =\n",
       "          google.colab.kernel.accessAllowed ? 'block' : 'none';\n",
       "\n",
       "        async function convertToInteractive(key) {\n",
       "          const element = document.querySelector('#df-3313841d-51ba-4b2f-a2ec-24e831b96440');\n",
       "          const dataTable =\n",
       "            await google.colab.kernel.invokeFunction('convertToInteractive',\n",
       "                                                     [key], {});\n",
       "          if (!dataTable) return;\n",
       "\n",
       "          const docLinkHtml = 'Like what you see? Visit the ' +\n",
       "            '<a target=\"_blank\" href=https://colab.research.google.com/notebooks/data_table.ipynb>data table notebook</a>'\n",
       "            + ' to learn more about interactive tables.';\n",
       "          element.innerHTML = '';\n",
       "          dataTable['output_type'] = 'display_data';\n",
       "          await google.colab.output.renderOutput(dataTable, element);\n",
       "          const docLink = document.createElement('div');\n",
       "          docLink.innerHTML = docLinkHtml;\n",
       "          element.appendChild(docLink);\n",
       "        }\n",
       "      </script>\n",
       "    </div>\n",
       "  </div>\n",
       "  "
      ],
      "text/plain": [
       "             0\n",
       "0      0000323\n",
       "1      0008240\n",
       "2      0013313\n",
       "3      0017066\n",
       "4      0025872\n",
       "...        ...\n",
       "83682  2500334\n",
       "83683  2500335\n",
       "83684  2500338\n",
       "83685  2500340\n",
       "83686  3052730\n",
       "\n",
       "[83687 rows x 1 columns]"
      ]
     },
     "execution_count": 40,
     "metadata": {},
     "output_type": "execute_result"
    }
   ],
   "source": [
    "# In either product line, customer has purchased only once\n",
    "pd.DataFrame(oneProduct['Customer No'].unique())"
   ]
  },
  {
   "cell_type": "code",
   "execution_count": 41,
   "metadata": {
    "colab": {
     "base_uri": "https://localhost:8080/",
     "height": 419
    },
    "id": "NIOU3yOMFFE0",
    "outputId": "8eb64ed0-ab3c-4b44-8442-5e60fca3c333"
   },
   "outputs": [
    {
     "data": {
      "text/html": [
       "\n",
       "  <div id=\"df-aa6f4fb2-cd6b-4b78-8b19-f6b5f43de515\">\n",
       "    <div class=\"colab-df-container\">\n",
       "      <div>\n",
       "<style scoped>\n",
       "    .dataframe tbody tr th:only-of-type {\n",
       "        vertical-align: middle;\n",
       "    }\n",
       "\n",
       "    .dataframe tbody tr th {\n",
       "        vertical-align: top;\n",
       "    }\n",
       "\n",
       "    .dataframe thead th {\n",
       "        text-align: right;\n",
       "    }\n",
       "</style>\n",
       "<table border=\"1\" class=\"dataframe\">\n",
       "  <thead>\n",
       "    <tr style=\"text-align: right;\">\n",
       "      <th></th>\n",
       "      <th>Customer No</th>\n",
       "      <th>Churn</th>\n",
       "      <th>Churn Percent</th>\n",
       "      <th>Product</th>\n",
       "    </tr>\n",
       "  </thead>\n",
       "  <tbody>\n",
       "    <tr>\n",
       "      <th>0</th>\n",
       "      <td>0000919</td>\n",
       "      <td>0</td>\n",
       "      <td>0.286</td>\n",
       "      <td>Software</td>\n",
       "    </tr>\n",
       "    <tr>\n",
       "      <th>1</th>\n",
       "      <td>0001467</td>\n",
       "      <td>0</td>\n",
       "      <td>0.333</td>\n",
       "      <td>Software</td>\n",
       "    </tr>\n",
       "    <tr>\n",
       "      <th>2</th>\n",
       "      <td>0002083</td>\n",
       "      <td>0</td>\n",
       "      <td>0.000</td>\n",
       "      <td>Software</td>\n",
       "    </tr>\n",
       "    <tr>\n",
       "      <th>3</th>\n",
       "      <td>0004448</td>\n",
       "      <td>0</td>\n",
       "      <td>0.286</td>\n",
       "      <td>Software</td>\n",
       "    </tr>\n",
       "    <tr>\n",
       "      <th>4</th>\n",
       "      <td>0004486</td>\n",
       "      <td>0</td>\n",
       "      <td>0.200</td>\n",
       "      <td>Software</td>\n",
       "    </tr>\n",
       "    <tr>\n",
       "      <th>...</th>\n",
       "      <td>...</td>\n",
       "      <td>...</td>\n",
       "      <td>...</td>\n",
       "      <td>...</td>\n",
       "    </tr>\n",
       "    <tr>\n",
       "      <th>169</th>\n",
       "      <td>2500323</td>\n",
       "      <td>0</td>\n",
       "      <td>0.000</td>\n",
       "      <td>LSI- Consulting</td>\n",
       "    </tr>\n",
       "    <tr>\n",
       "      <th>170</th>\n",
       "      <td>2500336</td>\n",
       "      <td>0</td>\n",
       "      <td>0.000</td>\n",
       "      <td>LSI- Consulting</td>\n",
       "    </tr>\n",
       "    <tr>\n",
       "      <th>171</th>\n",
       "      <td>2500337</td>\n",
       "      <td>0</td>\n",
       "      <td>0.000</td>\n",
       "      <td>LSI- Consulting</td>\n",
       "    </tr>\n",
       "    <tr>\n",
       "      <th>172</th>\n",
       "      <td>2500342</td>\n",
       "      <td>0</td>\n",
       "      <td>0.000</td>\n",
       "      <td>LSI- Consulting</td>\n",
       "    </tr>\n",
       "    <tr>\n",
       "      <th>0</th>\n",
       "      <td>3064608</td>\n",
       "      <td>0</td>\n",
       "      <td>0.333</td>\n",
       "      <td>GM Labor</td>\n",
       "    </tr>\n",
       "  </tbody>\n",
       "</table>\n",
       "<p>97469 rows × 4 columns</p>\n",
       "</div>\n",
       "      <button class=\"colab-df-convert\" onclick=\"convertToInteractive('df-aa6f4fb2-cd6b-4b78-8b19-f6b5f43de515')\"\n",
       "              title=\"Convert this dataframe to an interactive table.\"\n",
       "              style=\"display:none;\">\n",
       "        \n",
       "  <svg xmlns=\"http://www.w3.org/2000/svg\" height=\"24px\"viewBox=\"0 0 24 24\"\n",
       "       width=\"24px\">\n",
       "    <path d=\"M0 0h24v24H0V0z\" fill=\"none\"/>\n",
       "    <path d=\"M18.56 5.44l.94 2.06.94-2.06 2.06-.94-2.06-.94-.94-2.06-.94 2.06-2.06.94zm-11 1L8.5 8.5l.94-2.06 2.06-.94-2.06-.94L8.5 2.5l-.94 2.06-2.06.94zm10 10l.94 2.06.94-2.06 2.06-.94-2.06-.94-.94-2.06-.94 2.06-2.06.94z\"/><path d=\"M17.41 7.96l-1.37-1.37c-.4-.4-.92-.59-1.43-.59-.52 0-1.04.2-1.43.59L10.3 9.45l-7.72 7.72c-.78.78-.78 2.05 0 2.83L4 21.41c.39.39.9.59 1.41.59.51 0 1.02-.2 1.41-.59l7.78-7.78 2.81-2.81c.8-.78.8-2.07 0-2.86zM5.41 20L4 18.59l7.72-7.72 1.47 1.35L5.41 20z\"/>\n",
       "  </svg>\n",
       "      </button>\n",
       "      \n",
       "  <style>\n",
       "    .colab-df-container {\n",
       "      display:flex;\n",
       "      flex-wrap:wrap;\n",
       "      gap: 12px;\n",
       "    }\n",
       "\n",
       "    .colab-df-convert {\n",
       "      background-color: #E8F0FE;\n",
       "      border: none;\n",
       "      border-radius: 50%;\n",
       "      cursor: pointer;\n",
       "      display: none;\n",
       "      fill: #1967D2;\n",
       "      height: 32px;\n",
       "      padding: 0 0 0 0;\n",
       "      width: 32px;\n",
       "    }\n",
       "\n",
       "    .colab-df-convert:hover {\n",
       "      background-color: #E2EBFA;\n",
       "      box-shadow: 0px 1px 2px rgba(60, 64, 67, 0.3), 0px 1px 3px 1px rgba(60, 64, 67, 0.15);\n",
       "      fill: #174EA6;\n",
       "    }\n",
       "\n",
       "    [theme=dark] .colab-df-convert {\n",
       "      background-color: #3B4455;\n",
       "      fill: #D2E3FC;\n",
       "    }\n",
       "\n",
       "    [theme=dark] .colab-df-convert:hover {\n",
       "      background-color: #434B5C;\n",
       "      box-shadow: 0px 1px 3px 1px rgba(0, 0, 0, 0.15);\n",
       "      filter: drop-shadow(0px 1px 2px rgba(0, 0, 0, 0.3));\n",
       "      fill: #FFFFFF;\n",
       "    }\n",
       "  </style>\n",
       "\n",
       "      <script>\n",
       "        const buttonEl =\n",
       "          document.querySelector('#df-aa6f4fb2-cd6b-4b78-8b19-f6b5f43de515 button.colab-df-convert');\n",
       "        buttonEl.style.display =\n",
       "          google.colab.kernel.accessAllowed ? 'block' : 'none';\n",
       "\n",
       "        async function convertToInteractive(key) {\n",
       "          const element = document.querySelector('#df-aa6f4fb2-cd6b-4b78-8b19-f6b5f43de515');\n",
       "          const dataTable =\n",
       "            await google.colab.kernel.invokeFunction('convertToInteractive',\n",
       "                                                     [key], {});\n",
       "          if (!dataTable) return;\n",
       "\n",
       "          const docLinkHtml = 'Like what you see? Visit the ' +\n",
       "            '<a target=\"_blank\" href=https://colab.research.google.com/notebooks/data_table.ipynb>data table notebook</a>'\n",
       "            + ' to learn more about interactive tables.';\n",
       "          element.innerHTML = '';\n",
       "          dataTable['output_type'] = 'display_data';\n",
       "          await google.colab.output.renderOutput(dataTable, element);\n",
       "          const docLink = document.createElement('div');\n",
       "          docLink.innerHTML = docLinkHtml;\n",
       "          element.appendChild(docLink);\n",
       "        }\n",
       "      </script>\n",
       "    </div>\n",
       "  </div>\n",
       "  "
      ],
      "text/plain": [
       "    Customer No  Churn  Churn Percent          Product\n",
       "0       0000919      0          0.286         Software\n",
       "1       0001467      0          0.333         Software\n",
       "2       0002083      0          0.000         Software\n",
       "3       0004448      0          0.286         Software\n",
       "4       0004486      0          0.200         Software\n",
       "..          ...    ...            ...              ...\n",
       "169     2500323      0          0.000  LSI- Consulting\n",
       "170     2500336      0          0.000  LSI- Consulting\n",
       "171     2500337      0          0.000  LSI- Consulting\n",
       "172     2500342      0          0.000  LSI- Consulting\n",
       "0       3064608      0          0.333         GM Labor\n",
       "\n",
       "[97469 rows x 4 columns]"
      ]
     },
     "execution_count": 41,
     "metadata": {},
     "output_type": "execute_result"
    }
   ],
   "source": [
    "moreProduct"
   ]
  },
  {
   "cell_type": "code",
   "execution_count": 42,
   "metadata": {
    "colab": {
     "base_uri": "https://localhost:8080/"
    },
    "id": "RFBCDxQRFFE0",
    "outputId": "f8445b66-4f12-497d-8d6e-c38387e9e7d1"
   },
   "outputs": [
    {
     "data": {
      "text/plain": [
       "Contra Dimension           30752\n",
       "DOT Labels                  5171\n",
       "Pre-Printed Placards        4106\n",
       "Worded Placards             3351\n",
       "Air Labels                  3187\n",
       "                           ...  \n",
       "Inactive                       9\n",
       "Amazon Packaging               6\n",
       "Amazon Warehouse Labels        4\n",
       "GM Packaging                   1\n",
       "GM Labor                       1\n",
       "Name: Product, Length: 77, dtype: int64"
      ]
     },
     "execution_count": 42,
     "metadata": {},
     "output_type": "execute_result"
    }
   ],
   "source": [
    "moreProduct['Product'].value_counts()"
   ]
  },
  {
   "cell_type": "code",
   "execution_count": 43,
   "metadata": {
    "id": "O2bQvnyuFFE1"
   },
   "outputs": [],
   "source": [
    "# Groupby each customer to see the overall performance in all Product Line\n",
    "finalProduct = moreProduct.groupby('Customer No')['Churn'].agg(['count', 'sum']).reset_index()"
   ]
  },
  {
   "cell_type": "code",
   "execution_count": 44,
   "metadata": {
    "colab": {
     "base_uri": "https://localhost:8080/",
     "height": 419
    },
    "id": "8GVO9eIUFFE1",
    "outputId": "ac0e7ae4-f6c6-4b85-eb1d-196fab439122"
   },
   "outputs": [
    {
     "data": {
      "text/html": [
       "\n",
       "  <div id=\"df-89d70c93-9a8c-4995-8717-ad5f38ea7392\">\n",
       "    <div class=\"colab-df-container\">\n",
       "      <div>\n",
       "<style scoped>\n",
       "    .dataframe tbody tr th:only-of-type {\n",
       "        vertical-align: middle;\n",
       "    }\n",
       "\n",
       "    .dataframe tbody tr th {\n",
       "        vertical-align: top;\n",
       "    }\n",
       "\n",
       "    .dataframe thead th {\n",
       "        text-align: right;\n",
       "    }\n",
       "</style>\n",
       "<table border=\"1\" class=\"dataframe\">\n",
       "  <thead>\n",
       "    <tr style=\"text-align: right;\">\n",
       "      <th></th>\n",
       "      <th>0</th>\n",
       "    </tr>\n",
       "  </thead>\n",
       "  <tbody>\n",
       "    <tr>\n",
       "      <th>0</th>\n",
       "      <td>.</td>\n",
       "    </tr>\n",
       "    <tr>\n",
       "      <th>1</th>\n",
       "      <td>0000010</td>\n",
       "    </tr>\n",
       "    <tr>\n",
       "      <th>2</th>\n",
       "      <td>0000133</td>\n",
       "    </tr>\n",
       "    <tr>\n",
       "      <th>3</th>\n",
       "      <td>0000145</td>\n",
       "    </tr>\n",
       "    <tr>\n",
       "      <th>4</th>\n",
       "      <td>0000185</td>\n",
       "    </tr>\n",
       "    <tr>\n",
       "      <th>...</th>\n",
       "      <td>...</td>\n",
       "    </tr>\n",
       "    <tr>\n",
       "      <th>34646</th>\n",
       "      <td>7053262</td>\n",
       "    </tr>\n",
       "    <tr>\n",
       "      <th>34647</th>\n",
       "      <td>7053362</td>\n",
       "    </tr>\n",
       "    <tr>\n",
       "      <th>34648</th>\n",
       "      <td>7053400</td>\n",
       "    </tr>\n",
       "    <tr>\n",
       "      <th>34649</th>\n",
       "      <td>7053526</td>\n",
       "    </tr>\n",
       "    <tr>\n",
       "      <th>34650</th>\n",
       "      <td>OWNY208</td>\n",
       "    </tr>\n",
       "  </tbody>\n",
       "</table>\n",
       "<p>34651 rows × 1 columns</p>\n",
       "</div>\n",
       "      <button class=\"colab-df-convert\" onclick=\"convertToInteractive('df-89d70c93-9a8c-4995-8717-ad5f38ea7392')\"\n",
       "              title=\"Convert this dataframe to an interactive table.\"\n",
       "              style=\"display:none;\">\n",
       "        \n",
       "  <svg xmlns=\"http://www.w3.org/2000/svg\" height=\"24px\"viewBox=\"0 0 24 24\"\n",
       "       width=\"24px\">\n",
       "    <path d=\"M0 0h24v24H0V0z\" fill=\"none\"/>\n",
       "    <path d=\"M18.56 5.44l.94 2.06.94-2.06 2.06-.94-2.06-.94-.94-2.06-.94 2.06-2.06.94zm-11 1L8.5 8.5l.94-2.06 2.06-.94-2.06-.94L8.5 2.5l-.94 2.06-2.06.94zm10 10l.94 2.06.94-2.06 2.06-.94-2.06-.94-.94-2.06-.94 2.06-2.06.94z\"/><path d=\"M17.41 7.96l-1.37-1.37c-.4-.4-.92-.59-1.43-.59-.52 0-1.04.2-1.43.59L10.3 9.45l-7.72 7.72c-.78.78-.78 2.05 0 2.83L4 21.41c.39.39.9.59 1.41.59.51 0 1.02-.2 1.41-.59l7.78-7.78 2.81-2.81c.8-.78.8-2.07 0-2.86zM5.41 20L4 18.59l7.72-7.72 1.47 1.35L5.41 20z\"/>\n",
       "  </svg>\n",
       "      </button>\n",
       "      \n",
       "  <style>\n",
       "    .colab-df-container {\n",
       "      display:flex;\n",
       "      flex-wrap:wrap;\n",
       "      gap: 12px;\n",
       "    }\n",
       "\n",
       "    .colab-df-convert {\n",
       "      background-color: #E8F0FE;\n",
       "      border: none;\n",
       "      border-radius: 50%;\n",
       "      cursor: pointer;\n",
       "      display: none;\n",
       "      fill: #1967D2;\n",
       "      height: 32px;\n",
       "      padding: 0 0 0 0;\n",
       "      width: 32px;\n",
       "    }\n",
       "\n",
       "    .colab-df-convert:hover {\n",
       "      background-color: #E2EBFA;\n",
       "      box-shadow: 0px 1px 2px rgba(60, 64, 67, 0.3), 0px 1px 3px 1px rgba(60, 64, 67, 0.15);\n",
       "      fill: #174EA6;\n",
       "    }\n",
       "\n",
       "    [theme=dark] .colab-df-convert {\n",
       "      background-color: #3B4455;\n",
       "      fill: #D2E3FC;\n",
       "    }\n",
       "\n",
       "    [theme=dark] .colab-df-convert:hover {\n",
       "      background-color: #434B5C;\n",
       "      box-shadow: 0px 1px 3px 1px rgba(0, 0, 0, 0.15);\n",
       "      filter: drop-shadow(0px 1px 2px rgba(0, 0, 0, 0.3));\n",
       "      fill: #FFFFFF;\n",
       "    }\n",
       "  </style>\n",
       "\n",
       "      <script>\n",
       "        const buttonEl =\n",
       "          document.querySelector('#df-89d70c93-9a8c-4995-8717-ad5f38ea7392 button.colab-df-convert');\n",
       "        buttonEl.style.display =\n",
       "          google.colab.kernel.accessAllowed ? 'block' : 'none';\n",
       "\n",
       "        async function convertToInteractive(key) {\n",
       "          const element = document.querySelector('#df-89d70c93-9a8c-4995-8717-ad5f38ea7392');\n",
       "          const dataTable =\n",
       "            await google.colab.kernel.invokeFunction('convertToInteractive',\n",
       "                                                     [key], {});\n",
       "          if (!dataTable) return;\n",
       "\n",
       "          const docLinkHtml = 'Like what you see? Visit the ' +\n",
       "            '<a target=\"_blank\" href=https://colab.research.google.com/notebooks/data_table.ipynb>data table notebook</a>'\n",
       "            + ' to learn more about interactive tables.';\n",
       "          element.innerHTML = '';\n",
       "          dataTable['output_type'] = 'display_data';\n",
       "          await google.colab.output.renderOutput(dataTable, element);\n",
       "          const docLink = document.createElement('div');\n",
       "          docLink.innerHTML = docLinkHtml;\n",
       "          element.appendChild(docLink);\n",
       "        }\n",
       "      </script>\n",
       "    </div>\n",
       "  </div>\n",
       "  "
      ],
      "text/plain": [
       "             0\n",
       "0            .\n",
       "1      0000010\n",
       "2      0000133\n",
       "3      0000145\n",
       "4      0000185\n",
       "...        ...\n",
       "34646  7053262\n",
       "34647  7053362\n",
       "34648  7053400\n",
       "34649  7053526\n",
       "34650  OWNY208\n",
       "\n",
       "[34651 rows x 1 columns]"
      ]
     },
     "execution_count": 44,
     "metadata": {},
     "output_type": "execute_result"
    }
   ],
   "source": [
    "# In either product line, customer has purchased more than once\n",
    "pd.DataFrame(finalProduct['Customer No'].unique())"
   ]
  },
  {
   "cell_type": "markdown",
   "metadata": {
    "id": "0DZydXElFFE1"
   },
   "source": [
    "Among 95,540 customers, there are 34,651 identical customers have purchased more than once while 83,687 customers have purchased only once. Some customers purchased only once in one department and purchased more than one in other departments."
   ]
  },
  {
   "cell_type": "code",
   "execution_count": 45,
   "metadata": {
    "colab": {
     "base_uri": "https://localhost:8080/",
     "height": 480
    },
    "id": "z2K-0qMPFFE1",
    "outputId": "774b2781-9065-41dd-a205-9061ccfcf590"
   },
   "outputs": [
    {
     "data": {
      "text/html": [
       "\n",
       "  <div id=\"df-cd0ee8dc-ebfe-422a-8463-381d579329a4\">\n",
       "    <div class=\"colab-df-container\">\n",
       "      <div>\n",
       "<style scoped>\n",
       "    .dataframe tbody tr th:only-of-type {\n",
       "        vertical-align: middle;\n",
       "    }\n",
       "\n",
       "    .dataframe tbody tr th {\n",
       "        vertical-align: top;\n",
       "    }\n",
       "\n",
       "    .dataframe thead th {\n",
       "        text-align: right;\n",
       "    }\n",
       "</style>\n",
       "<table border=\"1\" class=\"dataframe\">\n",
       "  <thead>\n",
       "    <tr style=\"text-align: right;\">\n",
       "      <th></th>\n",
       "      <th>Customer No</th>\n",
       "      <th># of Product Line that customer purchased</th>\n",
       "      <th># of Product Line that customer churned</th>\n",
       "      <th>Churn_Product</th>\n",
       "      <th>Churn Percent_Product</th>\n",
       "    </tr>\n",
       "  </thead>\n",
       "  <tbody>\n",
       "    <tr>\n",
       "      <th>0</th>\n",
       "      <td>.</td>\n",
       "      <td>2</td>\n",
       "      <td>0</td>\n",
       "      <td>0</td>\n",
       "      <td>0.000</td>\n",
       "    </tr>\n",
       "    <tr>\n",
       "      <th>1</th>\n",
       "      <td>0000010</td>\n",
       "      <td>4</td>\n",
       "      <td>0</td>\n",
       "      <td>0</td>\n",
       "      <td>0.000</td>\n",
       "    </tr>\n",
       "    <tr>\n",
       "      <th>2</th>\n",
       "      <td>0000133</td>\n",
       "      <td>1</td>\n",
       "      <td>0</td>\n",
       "      <td>0</td>\n",
       "      <td>0.000</td>\n",
       "    </tr>\n",
       "    <tr>\n",
       "      <th>3</th>\n",
       "      <td>0000145</td>\n",
       "      <td>19</td>\n",
       "      <td>3</td>\n",
       "      <td>0</td>\n",
       "      <td>0.158</td>\n",
       "    </tr>\n",
       "    <tr>\n",
       "      <th>4</th>\n",
       "      <td>0000185</td>\n",
       "      <td>12</td>\n",
       "      <td>2</td>\n",
       "      <td>0</td>\n",
       "      <td>0.167</td>\n",
       "    </tr>\n",
       "    <tr>\n",
       "      <th>...</th>\n",
       "      <td>...</td>\n",
       "      <td>...</td>\n",
       "      <td>...</td>\n",
       "      <td>...</td>\n",
       "      <td>...</td>\n",
       "    </tr>\n",
       "    <tr>\n",
       "      <th>34646</th>\n",
       "      <td>7053262</td>\n",
       "      <td>1</td>\n",
       "      <td>0</td>\n",
       "      <td>0</td>\n",
       "      <td>0.000</td>\n",
       "    </tr>\n",
       "    <tr>\n",
       "      <th>34647</th>\n",
       "      <td>7053362</td>\n",
       "      <td>1</td>\n",
       "      <td>0</td>\n",
       "      <td>0</td>\n",
       "      <td>0.000</td>\n",
       "    </tr>\n",
       "    <tr>\n",
       "      <th>34648</th>\n",
       "      <td>7053400</td>\n",
       "      <td>1</td>\n",
       "      <td>0</td>\n",
       "      <td>0</td>\n",
       "      <td>0.000</td>\n",
       "    </tr>\n",
       "    <tr>\n",
       "      <th>34649</th>\n",
       "      <td>7053526</td>\n",
       "      <td>1</td>\n",
       "      <td>0</td>\n",
       "      <td>0</td>\n",
       "      <td>0.000</td>\n",
       "    </tr>\n",
       "    <tr>\n",
       "      <th>34650</th>\n",
       "      <td>OWNY208</td>\n",
       "      <td>2</td>\n",
       "      <td>0</td>\n",
       "      <td>0</td>\n",
       "      <td>0.000</td>\n",
       "    </tr>\n",
       "  </tbody>\n",
       "</table>\n",
       "<p>34651 rows × 5 columns</p>\n",
       "</div>\n",
       "      <button class=\"colab-df-convert\" onclick=\"convertToInteractive('df-cd0ee8dc-ebfe-422a-8463-381d579329a4')\"\n",
       "              title=\"Convert this dataframe to an interactive table.\"\n",
       "              style=\"display:none;\">\n",
       "        \n",
       "  <svg xmlns=\"http://www.w3.org/2000/svg\" height=\"24px\"viewBox=\"0 0 24 24\"\n",
       "       width=\"24px\">\n",
       "    <path d=\"M0 0h24v24H0V0z\" fill=\"none\"/>\n",
       "    <path d=\"M18.56 5.44l.94 2.06.94-2.06 2.06-.94-2.06-.94-.94-2.06-.94 2.06-2.06.94zm-11 1L8.5 8.5l.94-2.06 2.06-.94-2.06-.94L8.5 2.5l-.94 2.06-2.06.94zm10 10l.94 2.06.94-2.06 2.06-.94-2.06-.94-.94-2.06-.94 2.06-2.06.94z\"/><path d=\"M17.41 7.96l-1.37-1.37c-.4-.4-.92-.59-1.43-.59-.52 0-1.04.2-1.43.59L10.3 9.45l-7.72 7.72c-.78.78-.78 2.05 0 2.83L4 21.41c.39.39.9.59 1.41.59.51 0 1.02-.2 1.41-.59l7.78-7.78 2.81-2.81c.8-.78.8-2.07 0-2.86zM5.41 20L4 18.59l7.72-7.72 1.47 1.35L5.41 20z\"/>\n",
       "  </svg>\n",
       "      </button>\n",
       "      \n",
       "  <style>\n",
       "    .colab-df-container {\n",
       "      display:flex;\n",
       "      flex-wrap:wrap;\n",
       "      gap: 12px;\n",
       "    }\n",
       "\n",
       "    .colab-df-convert {\n",
       "      background-color: #E8F0FE;\n",
       "      border: none;\n",
       "      border-radius: 50%;\n",
       "      cursor: pointer;\n",
       "      display: none;\n",
       "      fill: #1967D2;\n",
       "      height: 32px;\n",
       "      padding: 0 0 0 0;\n",
       "      width: 32px;\n",
       "    }\n",
       "\n",
       "    .colab-df-convert:hover {\n",
       "      background-color: #E2EBFA;\n",
       "      box-shadow: 0px 1px 2px rgba(60, 64, 67, 0.3), 0px 1px 3px 1px rgba(60, 64, 67, 0.15);\n",
       "      fill: #174EA6;\n",
       "    }\n",
       "\n",
       "    [theme=dark] .colab-df-convert {\n",
       "      background-color: #3B4455;\n",
       "      fill: #D2E3FC;\n",
       "    }\n",
       "\n",
       "    [theme=dark] .colab-df-convert:hover {\n",
       "      background-color: #434B5C;\n",
       "      box-shadow: 0px 1px 3px 1px rgba(0, 0, 0, 0.15);\n",
       "      filter: drop-shadow(0px 1px 2px rgba(0, 0, 0, 0.3));\n",
       "      fill: #FFFFFF;\n",
       "    }\n",
       "  </style>\n",
       "\n",
       "      <script>\n",
       "        const buttonEl =\n",
       "          document.querySelector('#df-cd0ee8dc-ebfe-422a-8463-381d579329a4 button.colab-df-convert');\n",
       "        buttonEl.style.display =\n",
       "          google.colab.kernel.accessAllowed ? 'block' : 'none';\n",
       "\n",
       "        async function convertToInteractive(key) {\n",
       "          const element = document.querySelector('#df-cd0ee8dc-ebfe-422a-8463-381d579329a4');\n",
       "          const dataTable =\n",
       "            await google.colab.kernel.invokeFunction('convertToInteractive',\n",
       "                                                     [key], {});\n",
       "          if (!dataTable) return;\n",
       "\n",
       "          const docLinkHtml = 'Like what you see? Visit the ' +\n",
       "            '<a target=\"_blank\" href=https://colab.research.google.com/notebooks/data_table.ipynb>data table notebook</a>'\n",
       "            + ' to learn more about interactive tables.';\n",
       "          element.innerHTML = '';\n",
       "          dataTable['output_type'] = 'display_data';\n",
       "          await google.colab.output.renderOutput(dataTable, element);\n",
       "          const docLink = document.createElement('div');\n",
       "          docLink.innerHTML = docLinkHtml;\n",
       "          element.appendChild(docLink);\n",
       "        }\n",
       "      </script>\n",
       "    </div>\n",
       "  </div>\n",
       "  "
      ],
      "text/plain": [
       "      Customer No  # of Product Line that customer purchased  \\\n",
       "0               .                                          2   \n",
       "1         0000010                                          4   \n",
       "2         0000133                                          1   \n",
       "3         0000145                                         19   \n",
       "4         0000185                                         12   \n",
       "...           ...                                        ...   \n",
       "34646     7053262                                          1   \n",
       "34647     7053362                                          1   \n",
       "34648     7053400                                          1   \n",
       "34649     7053526                                          1   \n",
       "34650     OWNY208                                          2   \n",
       "\n",
       "       # of Product Line that customer churned  Churn_Product  \\\n",
       "0                                            0              0   \n",
       "1                                            0              0   \n",
       "2                                            0              0   \n",
       "3                                            3              0   \n",
       "4                                            2              0   \n",
       "...                                        ...            ...   \n",
       "34646                                        0              0   \n",
       "34647                                        0              0   \n",
       "34648                                        0              0   \n",
       "34649                                        0              0   \n",
       "34650                                        0              0   \n",
       "\n",
       "       Churn Percent_Product  \n",
       "0                      0.000  \n",
       "1                      0.000  \n",
       "2                      0.000  \n",
       "3                      0.158  \n",
       "4                      0.167  \n",
       "...                      ...  \n",
       "34646                  0.000  \n",
       "34647                  0.000  \n",
       "34648                  0.000  \n",
       "34649                  0.000  \n",
       "34650                  0.000  \n",
       "\n",
       "[34651 rows x 5 columns]"
      ]
     },
     "execution_count": 45,
     "metadata": {},
     "output_type": "execute_result"
    }
   ],
   "source": [
    "finalProduct.columns = ['Customer No', '# of Product Line that customer purchased', '# of Product Line that customer churned']\n",
    "finalProduct['Churn_Product'] = np.where(finalProduct['# of Product Line that customer churned'] > (finalProduct['# of Product Line that customer purchased']/3), 1, 0)\n",
    "finalProduct['Churn Percent_Product'] = round(finalProduct['# of Product Line that customer churned'] / finalProduct['# of Product Line that customer purchased'], 3)\n",
    "finalProduct"
   ]
  },
  {
   "cell_type": "code",
   "execution_count": 46,
   "metadata": {
    "colab": {
     "base_uri": "https://localhost:8080/"
    },
    "id": "mnVrvvAWFFE2",
    "outputId": "d3b30c41-b222-4199-b938-ba9a4d250a33"
   },
   "outputs": [
    {
     "data": {
      "text/plain": [
       "0    33294\n",
       "1     1357\n",
       "Name: Churn_Product, dtype: int64"
      ]
     },
     "execution_count": 46,
     "metadata": {},
     "output_type": "execute_result"
    }
   ],
   "source": [
    "finalProduct['Churn_Product'].value_counts()"
   ]
  },
  {
   "cell_type": "code",
   "execution_count": 47,
   "metadata": {
    "colab": {
     "base_uri": "https://localhost:8080/"
    },
    "id": "ja5QTiFmFFE2",
    "outputId": "8026c5f0-50b4-4155-e296-b0bb3b7c4d2e"
   },
   "outputs": [
    {
     "data": {
      "text/plain": [
       "0.03916192894865949"
      ]
     },
     "execution_count": 47,
     "metadata": {},
     "output_type": "execute_result"
    }
   ],
   "source": [
    "# Within-industry churn rate\n",
    "1357/(33294+1357)"
   ]
  },
  {
   "cell_type": "markdown",
   "metadata": {
    "id": "Qzmvvm12FFE2"
   },
   "source": [
    "### 4.4 Industry"
   ]
  },
  {
   "cell_type": "code",
   "execution_count": null,
   "metadata": {
    "id": "cAOufu80FFE3"
   },
   "outputs": [],
   "source": [
    "# finalIndustry = pd.DataFrame()\n",
    "# oneIndustry = pd.DataFrame()\n",
    "# for name in industryName:\n",
    "#     df = myData[myData['Family_Industry_Description_New__c'] == name].reset_index(drop=True)\n",
    "#     one, r = defineChurn(df)\n",
    "#     oneIndustry = pd.concat([oneIndustry, one])\n",
    "#     if r.empty == False:\n",
    "#         r['Industry'] = name\n",
    "#         finalIndustry = pd.concat([finalIndustry, r])"
   ]
  },
  {
   "cell_type": "code",
   "execution_count": null,
   "metadata": {
    "id": "-NyU22FLFFE3"
   },
   "outputs": [],
   "source": [
    "# oneIndustry['Customer No']"
   ]
  },
  {
   "cell_type": "code",
   "execution_count": null,
   "metadata": {
    "id": "fywE1uepFFE3"
   },
   "outputs": [],
   "source": [
    "# finalIndustry.columns = ['Customer No', 'Churn_Industry', 'Churn Percent_Industry', 'Industry']\n",
    "# finalIndustry"
   ]
  },
  {
   "cell_type": "code",
   "execution_count": null,
   "metadata": {
    "id": "sb4bl80GFFE3"
   },
   "outputs": [],
   "source": [
    "# finalIndustry['Churn_Industry'].value_counts()"
   ]
  },
  {
   "cell_type": "markdown",
   "metadata": {
    "id": "Goy_XWiZFFE4"
   },
   "source": [
    "### 4.5 Department & Industry"
   ]
  },
  {
   "cell_type": "code",
   "execution_count": null,
   "metadata": {
    "id": "p0f2IB8fFFE4"
   },
   "outputs": [],
   "source": [
    "# combine = pd.merge(finalIndustry[['Customer No', 'Churn_Industry', 'Churn Percent_Industry', 'Industry']], \n",
    "#                  finalDepartment[['Customer No', 'Churn_Department', 'Churn Percent_Department']], \n",
    "#                  on = 'Customer No', how = 'outer')"
   ]
  },
  {
   "cell_type": "code",
   "execution_count": null,
   "metadata": {
    "id": "TS5pcvfAFFE4"
   },
   "outputs": [],
   "source": [
    "# pd.crosstab(combine['Churn_Industry'], combine['Churn_Department'], margins=True, margins_name=\"Total\")"
   ]
  },
  {
   "cell_type": "code",
   "execution_count": null,
   "metadata": {
    "id": "-C2AlR8zFFE4"
   },
   "outputs": [],
   "source": [
    "# # Churn Define for those who have purchased >1 in total, but only once in either department\n",
    "# part = combine[combine.isna().any(axis=1)][['Customer No', 'Churn_Industry']].reset_index(drop=True)\n",
    "# part.columns = ['Customer No', 'Churn']\n",
    "# part['Churn'] = 'Not Churn'"
   ]
  },
  {
   "cell_type": "code",
   "execution_count": null,
   "metadata": {
    "id": "71gKMuKnFFE4"
   },
   "outputs": [],
   "source": [
    "# notChurn = combine[(combine['Churn_Industry'] == 0) & (combine['Churn_Department'] == 0)][['Customer No']].reset_index(drop=True)\n",
    "# notChurn['Churn'] = 'Not Churn'"
   ]
  },
  {
   "cell_type": "code",
   "execution_count": null,
   "metadata": {
    "id": "F-0HjCTfFFE5"
   },
   "outputs": [],
   "source": [
    "# wayChurn = combine[((combine['Churn_Industry'] == 0) & (combine['Churn_Department'] == 1)) | ((combine['Churn_Industry'] == 1) & (combine['Churn_Department'] == 0))][['Customer No']].reset_index(drop=True)\n",
    "# wayChurn['Churn'] = 'On the way of Churning'"
   ]
  },
  {
   "cell_type": "code",
   "execution_count": null,
   "metadata": {
    "id": "RbcO0OBMFFE5"
   },
   "outputs": [],
   "source": [
    "# Churn = combine[(combine['Churn_Industry'] == 1) & (combine['Churn_Department'] == 1)][['Customer No']].reset_index(drop=True)\n",
    "# Churn['Churn'] = 'Churn'"
   ]
  },
  {
   "cell_type": "code",
   "execution_count": null,
   "metadata": {
    "id": "XOuBzSHsFFE5"
   },
   "outputs": [],
   "source": [
    "# final = pd.concat([part, notChurn, wayChurn, Churn])"
   ]
  },
  {
   "cell_type": "code",
   "execution_count": null,
   "metadata": {
    "id": "mmMlTqCmFFE5"
   },
   "outputs": [],
   "source": [
    "# final['Churn'].value_counts()"
   ]
  }
 ],
 "metadata": {
  "colab": {
   "collapsed_sections": [],
   "name": "Churn Definition_Supervised_Judy&Kiki&Jingyi.ipynb",
   "provenance": []
  },
  "kernelspec": {
   "display_name": "Python 3 (ipykernel)",
   "language": "python",
   "name": "python3"
  },
  "language_info": {
   "codemirror_mode": {
    "name": "ipython",
    "version": 3
   },
   "file_extension": ".py",
   "mimetype": "text/x-python",
   "name": "python",
   "nbconvert_exporter": "python",
   "pygments_lexer": "ipython3",
   "version": "3.9.12"
  }
 },
 "nbformat": 4,
 "nbformat_minor": 1
}
